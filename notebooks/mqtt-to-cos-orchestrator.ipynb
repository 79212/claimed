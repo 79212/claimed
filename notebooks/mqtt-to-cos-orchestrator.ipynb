{
 "cells": [
  {
   "cell_type": "code",
   "execution_count": null,
   "id": "e6ecfa5e-4248-4f61-bfb0-45f3d736954e",
   "metadata": {},
   "outputs": [],
   "source": [
    "!pip install flask requests"
   ]
  },
  {
   "cell_type": "code",
   "execution_count": 2,
   "id": "d97c924c-79b3-457c-a559-e2ed4723638a",
   "metadata": {},
   "outputs": [],
   "source": [
    "import requests\n",
    "import threading\n",
    "import json\n",
    "import time \n",
    "\n",
    "\n",
    "def my_thread():\n",
    "    while True:\n",
    "        r = requests.get('https://claimed-input-mqtt-rs.ivavtizfdyr.eu-de.codeengine.appdomain.cloud/')\n",
    "        if r.status_code==200:\n",
    "            value = r.json()\n",
    "            #payload = {'temperature': value}\n",
    "            headers = {'Content-type': 'application/json'}\n",
    "            response = requests.post(\"https://claimed-pload-to-cos-http-adapter.ivavtizfdyr.eu-de.codeengine.appdomain.cloud\", headers=headers, data=json.dumps(value))\n",
    "\n",
    "        else:\n",
    "            time.sleep(0.4)\n",
    "            \n",
    "\n",
    "t = threading.Thread(target=my_thread)\n",
    "t.start()"
   ]
  },
  {
   "cell_type": "code",
   "execution_count": null,
   "id": "9eb44154-06dc-4f70-8d30-b4d6e485829f",
   "metadata": {},
   "outputs": [
    {
     "name": "stdout",
     "output_type": "stream",
     "text": [
      " * Serving Flask app '__main__' (lazy loading)\n",
      " * Environment: production\n",
      "\u001b[31m   WARNING: This is a development server. Do not use it in a production deployment.\u001b[0m\n",
      "\u001b[2m   Use a production WSGI server instead.\u001b[0m\n",
      " * Debug mode: off\n"
     ]
    },
    {
     "name": "stderr",
     "output_type": "stream",
     "text": [
      " * Running on all addresses (0.0.0.0)\n",
      "   WARNING: This is a development server. Do not use it in a production deployment.\n",
      " * Running on http://127.0.0.1:8080\n",
      " * Running on http://192.168.1.16:8080 (Press CTRL+C to quit)\n",
      "127.0.0.1 - - [09/May/2022 13:41:53] \"GET / HTTP/1.1\" 200 -\n"
     ]
    }
   ],
   "source": [
    "from flask import Flask\n",
    "app = Flask(__name__)\n",
    "\n",
    "@app.route('/')\n",
    "def index():\n",
    "    return str(t.is_alive())\n",
    "\n",
    "app.run(host='0.0.0.0', port=8080)"
   ]
  },
  {
   "cell_type": "code",
   "execution_count": null,
   "id": "728bc793-7793-4cf9-ab3c-4e1395c1f9db",
   "metadata": {},
   "outputs": [],
   "source": []
  }
 ],
 "metadata": {
  "kernelspec": {
   "display_name": "Python 3 (ipykernel)",
   "language": "python",
   "name": "python3"
  },
  "language_info": {
   "codemirror_mode": {
    "name": "ipython",
    "version": 3
   },
   "file_extension": ".py",
   "mimetype": "text/x-python",
   "name": "python",
   "nbconvert_exporter": "python",
   "pygments_lexer": "ipython3",
   "version": "3.9.6"
  }
 },
 "nbformat": 4,
 "nbformat_minor": 5
}
