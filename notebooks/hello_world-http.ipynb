{
 "cells": [
  {
   "cell_type": "code",
   "execution_count": 1,
   "id": "e6ecfa5e-4248-4f61-bfb0-45f3d736954e",
   "metadata": {},
   "outputs": [
    {
     "name": "stdout",
     "output_type": "stream",
     "text": [
      "Requirement already satisfied: flask in /home/romeokienzler/gitco/new_horizons/elyra/venv/lib/python3.9/site-packages (2.1.2)\n",
      "Requirement already satisfied: importlib-metadata>=3.6.0 in /home/romeokienzler/gitco/new_horizons/elyra/venv/lib/python3.9/site-packages (from flask) (4.10.1)\n",
      "Requirement already satisfied: itsdangerous>=2.0 in /home/romeokienzler/gitco/new_horizons/elyra/venv/lib/python3.9/site-packages (from flask) (2.1.2)\n",
      "Requirement already satisfied: Jinja2>=3.0 in /home/romeokienzler/gitco/new_horizons/elyra/venv/lib/python3.9/site-packages (from flask) (3.0.3)\n",
      "Requirement already satisfied: Werkzeug>=2.0 in /home/romeokienzler/gitco/new_horizons/elyra/venv/lib/python3.9/site-packages (from flask) (2.1.2)\n",
      "Requirement already satisfied: click>=8.0 in /home/romeokienzler/gitco/new_horizons/elyra/venv/lib/python3.9/site-packages (from flask) (8.1.3)\n",
      "Requirement already satisfied: zipp>=0.5 in /home/romeokienzler/gitco/new_horizons/elyra/venv/lib/python3.9/site-packages (from importlib-metadata>=3.6.0->flask) (3.7.0)\n",
      "Requirement already satisfied: MarkupSafe>=2.0 in /home/romeokienzler/gitco/new_horizons/elyra/venv/lib/python3.9/site-packages (from Jinja2>=3.0->flask) (2.0.1)\n",
      "\u001b[33mWARNING: You are using pip version 22.0.3; however, version 22.0.4 is available.\n",
      "You should consider upgrading via the '/home/romeokienzler/gitco/new_horizons/elyra/venv/bin/python -m pip install --upgrade pip' command.\u001b[0m\u001b[33m\n",
      "\u001b[0m"
     ]
    }
   ],
   "source": [
    "!pip install flask"
   ]
  },
  {
   "cell_type": "code",
   "execution_count": null,
   "id": "9eb44154-06dc-4f70-8d30-b4d6e485829f",
   "metadata": {},
   "outputs": [],
   "source": [
    "app = Flask(__name__)\n",
    "\n",
    "@app.route('/')\n",
    "def index():\n",
    "    return 'hello world'\n",
    "\n",
    "app.run(host='0.0.0.0', port=8080)"
   ]
  }
 ],
 "metadata": {
  "kernelspec": {
   "display_name": "Python 3 (ipykernel)",
   "language": "python",
   "name": "python3"
  },
  "language_info": {
   "codemirror_mode": {
    "name": "ipython",
    "version": 3
   },
   "file_extension": ".py",
   "mimetype": "text/x-python",
   "name": "python",
   "nbconvert_exporter": "python",
   "pygments_lexer": "ipython3",
   "version": "3.9.6"
  }
 },
 "nbformat": 4,
 "nbformat_minor": 5
}
