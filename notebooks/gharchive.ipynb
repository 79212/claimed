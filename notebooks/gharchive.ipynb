{
 "cells": [
  {
   "cell_type": "code",
   "execution_count": 1,
   "id": "138f465a-12e5-4545-af19-96e2e567b7a0",
   "metadata": {},
   "outputs": [],
   "source": [
    "#!pip install \"ibm-code-engine-sdk\"\n",
    "import os\n",
    "#os.environ['create_image']='True'"
   ]
  },
  {
   "cell_type": "code",
   "execution_count": 3,
   "id": "55b4fc5a-c7dd-45fa-b67b-434c29abb815",
   "metadata": {
    "scrolled": true,
    "tags": []
   },
   "outputs": [
    {
     "name": "stdout",
     "output_type": "stream",
     "text": [
      "Sending build context to Docker daemon  56.32kB\n",
      "Step 1/6 : FROM registry.access.redhat.com/ubi8/python-39\n",
      " ---> a531ae76755e\n",
      "Step 2/6 : RUN pip install ipython nbformat  ibm-cos-sdk-core ibm-cos-sdk ibm-watson-machine-learning ibm-watson-studio-pipelines ibmcloudsql pyyaml aiobotocore botocore s3fs\n",
      " ---> Using cache\n",
      " ---> d81bcaa40517\n",
      "Step 3/6 : RUN echo 12 > touched\n",
      " ---> Running in fc44ae528ee2\n",
      "Removing intermediate container fc44ae528ee2\n",
      " ---> f7284c2bc49a\n",
      "Step 4/6 : RUN git clone https://github.com/IBM/claimed.git\n",
      " ---> Running in 81c4eacb6e8b\n",
      "\u001b[91mCloning into 'claimed'...\n",
      "\u001b[0m\u001b[91mUpdating files: 100% (444/444), done.dating files:  47% (209/444)\u001b[91mUpdating files:  48% (214/444)\u001b[91mUpdating files:  56% (249/444)\u001b[91mUpdating files:  59% (262/444)\u001b[91mUpdating files:  60% (267/444)\u001b[91mUpdating files:  61% (273/444)\u001b[91mUpdating files:  62% (276/444)\u001b[91mUpdating files:  63% (280/444)\u001b[91mUpdating files:  64% (285/444)\u001b[91mUpdating files:  67% (298/444)\u001b[91mUpdating files:  71% (316/444)\u001b[91mUpdating files:  72% (320/444)\u001b[91mUpdating files:  74% (329/444)\u001b[91mUpdating files:  78% (347/444)\u001b[91mUpdating files:  80% (356/444)\u001b[91mUpdating files:  83% (371/444)\u001b[91mUpdating files:  84% (373/444)\u001b[91mUpdating files:  87% (387/444)\u001b[91mUpdating files:  88% (391/444)\u001b[91mUpdating files:  89% (396/444)\u001b[91mUpdating files:  90% (400/444)\u001b[91mUpdating files:  91% (405/444)\u001b[91mUpdating files:  92% (409/444)\u001b[91mUpdating files:  96% (427/444)\u001b[91mUpdating files:  99% (440/444)\n",
      "\u001b[0mRemoving intermediate container 81c4eacb6e8b\n",
      " ---> 97be60e62bab\n",
      "Step 5/6 : WORKDIR claimed/notebooks\n",
      " ---> Running in 1cfa571b026a\n",
      "Removing intermediate container 1cfa571b026a\n",
      " ---> e36ba203cb93\n",
      "Step 6/6 : ENTRYPOINT [\"ipython\",\"gharchive.ipynb\"]\n",
      " ---> Running in 12fad6352b35\n",
      "Removing intermediate container 12fad6352b35\n",
      " ---> 3dd504c824ba\n",
      "Successfully built 3dd504c824ba\n",
      "Successfully tagged gharchive:latest\n",
      "The push refers to repository [docker.io/romeokienzler/gharchive]\n",
      "\n",
      "\u001b[1B43bbf830: Preparing \n",
      "\u001b[1B58a1fac7: Preparing \n",
      "\u001b[1Bff0864bb: Preparing \n",
      "\u001b[1B2e0f4ef5: Preparing \n",
      "\u001b[1B276847a2: Preparing \n",
      "\u001b[1B534f4e1b: Preparing \n",
      "\u001b[2B534f4e1b: Waiting g \n",
      "\u001b[8B43bbf830: Pushed     644MB/643.6MBA\u001b[2K\u001b[1A\u001b[2K\u001b[8A\u001b[2K\u001b[8A\u001b[2K\u001b[8A\u001b[2K\u001b[8A\u001b[2K\u001b[8A\u001b[2K\u001b[8A\u001b[2K\u001b[7A\u001b[2K\u001b[8A\u001b[2K\u001b[8A\u001b[2K\u001b[8A\u001b[2K\u001b[8A\u001b[2K\u001b[8A\u001b[2K\u001b[8A\u001b[2K\u001b[8A\u001b[2K\u001b[8A\u001b[2K\u001b[8A\u001b[2K\u001b[8A\u001b[2K\u001b[8A\u001b[2K\u001b[8A\u001b[2K\u001b[8A\u001b[2K\u001b[8A\u001b[2K\u001b[8A\u001b[2K\u001b[8A\u001b[2K\u001b[8A\u001b[2K\u001b[8A\u001b[2K\u001b[8A\u001b[2K\u001b[8A\u001b[2K\u001b[8A\u001b[2K\u001b[8A\u001b[2K\u001b[8A\u001b[2K\u001b[8A\u001b[2K\u001b[8A\u001b[2K\u001b[8A\u001b[2K\u001b[8A\u001b[2K\u001b[8A\u001b[2K\u001b[8A\u001b[2K\u001b[8A\u001b[2K\u001b[8A\u001b[2K\u001b[8A\u001b[2K\u001b[8A\u001b[2K\u001b[8A\u001b[2K\u001b[8A\u001b[2K\u001b[8A\u001b[2K\u001b[8A\u001b[2K\u001b[8A\u001b[2K\u001b[8A\u001b[2K\u001b[8A\u001b[2K\u001b[8A\u001b[2K\u001b[8A\u001b[2K\u001b[8A\u001b[2K\u001b[8A\u001b[2K\u001b[8A\u001b[2K\u001b[8A\u001b[2K\u001b[8A\u001b[2K\u001b[8A\u001b[2K\u001b[8A\u001b[2K\u001b[8A\u001b[2K\u001b[8A\u001b[2K\u001b[8A\u001b[2K\u001b[8A\u001b[2K\u001b[8A\u001b[2K\u001b[8A\u001b[2K\u001b[8A\u001b[2K\u001b[8A\u001b[2K\u001b[8A\u001b[2K\u001b[8A\u001b[2K\u001b[8A\u001b[2K\u001b[8A\u001b[2K\u001b[8A\u001b[2K\u001b[8A\u001b[2K\u001b[8A\u001b[2K\u001b[8A\u001b[2K\u001b[8A\u001b[2K\u001b[8A\u001b[2K\u001b[8A\u001b[2K\u001b[8A\u001b[2K\u001b[8A\u001b[2K\u001b[8A\u001b[2K\u001b[8A\u001b[2K\u001b[8A\u001b[2K\u001b[8A\u001b[2K\u001b[8A\u001b[2K\u001b[8A\u001b[2K\u001b[8A\u001b[2K\u001b[8A\u001b[2K\u001b[8A\u001b[2K\u001b[8A\u001b[2K\u001b[8A\u001b[2K\u001b[8A\u001b[2K\u001b[8A\u001b[2K\u001b[8A\u001b[2K\u001b[8A\u001b[2K\u001b[8A\u001b[2K\u001b[8A\u001b[2K\u001b[8A\u001b[2K\u001b[8A\u001b[2K\u001b[8A\u001b[2K\u001b[8A\u001b[2K\u001b[8A\u001b[2K\u001b[8A\u001b[2K\u001b[8A\u001b[2K\u001b[8A\u001b[2K\u001b[8A\u001b[2K\u001b[8A\u001b[2K\u001b[8A\u001b[2K\u001b[8A\u001b[2K\u001b[8A\u001b[2K\u001b[8A\u001b[2K\u001b[8A\u001b[2K\u001b[8A\u001b[2K\u001b[8A\u001b[2K\u001b[8A\u001b[2K\u001b[8A\u001b[2K\u001b[8A\u001b[2K\u001b[8A\u001b[2K\u001b[8A\u001b[2K\u001b[8A\u001b[2K\u001b[8A\u001b[2K\u001b[8A\u001b[2K\u001b[8A\u001b[2K\u001b[8A\u001b[2K\u001b[8A\u001b[2K\u001b[8A\u001b[2K\u001b[8A\u001b[2K\u001b[8A\u001b[2K\u001b[8A\u001b[2K\u001b[8A\u001b[2K\u001b[8A\u001b[2K\u001b[8A\u001b[2K\u001b[8A\u001b[2K\u001b[8A\u001b[2K\u001b[8A\u001b[2K\u001b[8A\u001b[2K\u001b[8A\u001b[2K\u001b[8A\u001b[2K\u001b[8A\u001b[2K\u001b[8A\u001b[2K\u001b[8A\u001b[2K\u001b[8A\u001b[2K\u001b[8A\u001b[2K\u001b[8A\u001b[2K\u001b[8A\u001b[2K\u001b[8A\u001b[2K\u001b[8A\u001b[2K\u001b[8A\u001b[2K\u001b[8A\u001b[2K\u001b[8A\u001b[2K\u001b[8A\u001b[2K\u001b[8A\u001b[2K\u001b[8A\u001b[2K\u001b[8A\u001b[2K\u001b[8A\u001b[2K\u001b[8A\u001b[2K\u001b[8A\u001b[2K\u001b[8A\u001b[2K\u001b[8A\u001b[2K\u001b[8A\u001b[2K\u001b[8A\u001b[2K\u001b[8A\u001b[2K\u001b[8A\u001b[2K\u001b[8A\u001b[2K\u001b[8A\u001b[2K\u001b[8A\u001b[2K\u001b[8A\u001b[2K\u001b[8A\u001b[2K\u001b[8A\u001b[2K\u001b[8A\u001b[2K\u001b[8A\u001b[2K\u001b[8A\u001b[2K\u001b[8A\u001b[2K\u001b[8A\u001b[2K\u001b[8A\u001b[2K\u001b[8A\u001b[2K\u001b[8A\u001b[2K\u001b[8A\u001b[2K\u001b[8A\u001b[2K\u001b[8A\u001b[2K\u001b[8A\u001b[2K\u001b[8A\u001b[2K\u001b[8A\u001b[2K\u001b[8A\u001b[2K\u001b[8A\u001b[2K\u001b[8A\u001b[2K\u001b[8A\u001b[2K\u001b[8A\u001b[2K\u001b[8A\u001b[2K\u001b[8A\u001b[2K\u001b[8A\u001b[2K\u001b[8A\u001b[2K\u001b[8A\u001b[2K\u001b[8A\u001b[2K\u001b[8A\u001b[2K\u001b[8A\u001b[2K\u001b[8A\u001b[2K\u001b[8A\u001b[2K\u001b[8A\u001b[2K\u001b[8A\u001b[2K\u001b[8A\u001b[2K\u001b[8A\u001b[2K\u001b[8A\u001b[2K\u001b[8A\u001b[2K\u001b[8A\u001b[2K\u001b[8A\u001b[2K\u001b[8A\u001b[2K\u001b[8A\u001b[2K\u001b[8A\u001b[2K\u001b[8A\u001b[2K\u001b[8A\u001b[2K\u001b[8A\u001b[2K\u001b[8A\u001b[2K\u001b[8A\u001b[2K\u001b[8A\u001b[2K\u001b[8A\u001b[2K\u001b[8A\u001b[2K\u001b[8A\u001b[2K\u001b[8A\u001b[2K\u001b[8A\u001b[2K\u001b[8A\u001b[2K\u001b[8A\u001b[2K\u001b[8A\u001b[2K\u001b[8A\u001b[2K\u001b[8A\u001b[2K\u001b[8A\u001b[2K\u001b[8A\u001b[2K\u001b[8A\u001b[2K\u001b[8A\u001b[2K\u001b[8A\u001b[2K\u001b[8A\u001b[2K\u001b[8A\u001b[2K\u001b[8A\u001b[2K\u001b[8A\u001b[2K\u001b[8A\u001b[2K\u001b[8A\u001b[2K\u001b[8A\u001b[2K\u001b[8A\u001b[2K\u001b[8A\u001b[2K\u001b[8A\u001b[2K\u001b[8A\u001b[2K\u001b[8A\u001b[2K\u001b[8A\u001b[2K\u001b[8A\u001b[2K\u001b[8A\u001b[2K\u001b[8A\u001b[2K\u001b[8A\u001b[2K\u001b[8A\u001b[2K\u001b[8A\u001b[2K\u001b[8A\u001b[2K\u001b[8A\u001b[2K\u001b[8A\u001b[2K\u001b[8A\u001b[2K\u001b[8A\u001b[2K\u001b[8A\u001b[2K\u001b[8A\u001b[2K\u001b[8A\u001b[2K\u001b[8A\u001b[2K\u001b[8A\u001b[2K\u001b[8A\u001b[2K\u001b[8A\u001b[2K\u001b[8A\u001b[2K\u001b[8A\u001b[2K\u001b[8A\u001b[2K\u001b[8A\u001b[2K\u001b[8A\u001b[2K\u001b[8A\u001b[2K\u001b[8A\u001b[2K\u001b[8A\u001b[2K\u001b[8A\u001b[2K\u001b[8A\u001b[2K\u001b[8A\u001b[2K\u001b[8A\u001b[2K\u001b[8A\u001b[2K\u001b[8A\u001b[2K\u001b[8A\u001b[2K\u001b[8A\u001b[2K\u001b[8A\u001b[2K\u001b[8A\u001b[2K\u001b[8A\u001b[2K\u001b[8A\u001b[2K\u001b[8A\u001b[2K\u001b[8A\u001b[2K\u001b[8A\u001b[2K\u001b[8A\u001b[2K\u001b[8A\u001b[2K\u001b[8A\u001b[2K\u001b[8A\u001b[2K\u001b[8A\u001b[2K\u001b[8A\u001b[2K\u001b[8A\u001b[2K\u001b[8A\u001b[2K\u001b[8A\u001b[2K\u001b[8A\u001b[2K\u001b[8A\u001b[2K\u001b[8A\u001b[2K\u001b[8A\u001b[2K\u001b[8A\u001b[2K\u001b[8A\u001b[2K\u001b[8A\u001b[2K\u001b[8A\u001b[2K\u001b[8A\u001b[2K\u001b[8A\u001b[2K\u001b[8A\u001b[2K\u001b[8A\u001b[2K\u001b[8A\u001b[2K\u001b[8A\u001b[2K\u001b[8A\u001b[2K\u001b[8A\u001b[2K\u001b[8A\u001b[2K\u001b[8A\u001b[2K\u001b[8A\u001b[2K\u001b[8A\u001b[2K\u001b[8A\u001b[2K\u001b[8A\u001b[2K\u001b[8A\u001b[2K\u001b[8A\u001b[2K\u001b[8A\u001b[2K\u001b[8A\u001b[2K\u001b[8A\u001b[2K\u001b[8A\u001b[2K\u001b[8A\u001b[2K\u001b[8A\u001b[2K\u001b[8A\u001b[2K\u001b[8A\u001b[2K\u001b[8A\u001b[2K\u001b[8A\u001b[2K\u001b[8A\u001b[2K\u001b[8A\u001b[2K\u001b[8A\u001b[2K\u001b[8A\u001b[2K\u001b[8A\u001b[2K\u001b[8A\u001b[2K\u001b[8A\u001b[2K\u001b[8A\u001b[2K\u001b[8A\u001b[2K\u001b[8A\u001b[2K\u001b[8A\u001b[2K\u001b[8A\u001b[2K\u001b[8A\u001b[2K\u001b[8A\u001b[2K\u001b[8A\u001b[2K\u001b[8A\u001b[2K\u001b[8A\u001b[2K\u001b[8A\u001b[2K\u001b[8A\u001b[2K\u001b[8A\u001b[2K\u001b[8A\u001b[2K\u001b[8A\u001b[2K\u001b[8A\u001b[2K\u001b[8A\u001b[2K\u001b[8A\u001b[2K\u001b[8A\u001b[2K\u001b[8A\u001b[2K\u001b[8A\u001b[2K\u001b[8A\u001b[2K\u001b[8A\u001b[2K\u001b[8A\u001b[2K\u001b[8A\u001b[2K\u001b[8A\u001b[2K\u001b[8A\u001b[2K\u001b[8A\u001b[2K\u001b[8A\u001b[2K\u001b[8A\u001b[2K\u001b[8A\u001b[2K\u001b[8A\u001b[2K\u001b[8A\u001b[2K\u001b[8A\u001b[2K\u001b[8A\u001b[2K\u001b[8A\u001b[2K\u001b[8A\u001b[2K\u001b[8A\u001b[2K\u001b[8A\u001b[2K\u001b[8A\u001b[2K\u001b[8A\u001b[2K\u001b[8A\u001b[2K\u001b[8A\u001b[2K\u001b[8A\u001b[2K\u001b[8A\u001b[2K\u001b[8A\u001b[2K\u001b[8A\u001b[2K\u001b[8A\u001b[2K\u001b[8A\u001b[2K\u001b[8A\u001b[2K\u001b[8A\u001b[2K\u001b[8A\u001b[2K\u001b[8A\u001b[2K\u001b[8A\u001b[2K\u001b[8A\u001b[2K\u001b[8A\u001b[2K\u001b[8A\u001b[2K\u001b[8A\u001b[2K\u001b[8A\u001b[2K\u001b[8A\u001b[2K\u001b[8A\u001b[2K\u001b[8A\u001b[2K\u001b[8A\u001b[2K\u001b[8A\u001b[2K\u001b[8A\u001b[2K\u001b[8A\u001b[2K\u001b[8A\u001b[2K\u001b[8A\u001b[2K\u001b[8A\u001b[2K\u001b[8A\u001b[2K\u001b[8A\u001b[2K\u001b[8A\u001b[2K\u001b[8A\u001b[2K\u001b[8A\u001b[2K\u001b[8A\u001b[2Kv12: digest: sha256:9df683f1a39cbae8841ceb962026db75a083d86a2896ca1322c21412a3829d14 size: 2006\n"
     ]
    }
   ],
   "source": [
    "if bool(os.environ.get('create_image',False)):\n",
    "    docker_file=\"\"\"\n",
    "    FROM registry.access.redhat.com/ubi8/python-39\n",
    "    RUN pip install ipython nbformat  ibm-cos-sdk-core ibm-cos-sdk ibm-watson-machine-learning ibm-watson-studio-pipelines ibmcloudsql pyyaml aiobotocore botocore s3fs\n",
    "    RUN echo 12 > touched\n",
    "    RUN git clone https://github.com/IBM/claimed.git\n",
    "    WORKDIR claimed/notebooks\n",
    "    ENTRYPOINT [\"ipython\",\"gharchive.ipynb\"]\n",
    "    \"\"\"\n",
    "    with open(\"Dockerfile\", \"w\") as text_file:\n",
    "        text_file.write(docker_file)\n",
    "\n",
    "    !docker build -t gharchive .\n",
    "    !docker tag gharchive romeokienzler/gharchive:v12\n",
    "    !docker push romeokienzler/gharchive:v12\n"
   ]
  },
  {
   "cell_type": "code",
   "execution_count": null,
   "id": "7d698d04-1199-40f6-9b43-504e99895c59",
   "metadata": {},
   "outputs": [],
   "source": [
    "import os\n",
    "\n",
    "\n",
    "os.environ[\"access_key_id\"] = '13d9bd58599f4fafa42aebf3b807ca48'\n",
    "os.environ[\"secret_access_key\"] = ''\n",
    "os.environ[\"endpoint\"] = 'https://s3.us-east.cloud-object-storage.appdomain.cloud'\n",
    "os.environ[\"path\"] = 'gharchive/*'\n",
    "os.environ[\"data_dir\"] = '../data/'\n"
   ]
  },
  {
   "cell_type": "code",
   "execution_count": null,
   "id": "aa094eda-7c15-4890-b0b8-40d95e9eff8d",
   "metadata": {},
   "outputs": [],
   "source": [
    "import sys\n",
    "import logging\n",
    "\n",
    "logger = logging.getLogger()\n",
    "logger.setLevel(logging.DEBUG)\n",
    "sh = logging.StreamHandler(sys.stdout)\n",
    "logger.addHandler(sh)\n",
    "\n",
    "\n",
    "logger.info(\"start ls-cos\")\n"
   ]
  },
  {
   "cell_type": "code",
   "execution_count": null,
   "id": "3563eabc-a701-4536-b82d-bd8f24a33e6c",
   "metadata": {
    "scrolled": true,
    "tags": []
   },
   "outputs": [],
   "source": [
    "!ipython ../component-library/input/ls-cos.ipynb"
   ]
  },
  {
   "cell_type": "code",
   "execution_count": null,
   "id": "673e6a82-a579-4106-a0f9-3117ff785233",
   "metadata": {},
   "outputs": [],
   "source": [
    "logger.info(\"end ls-cos\")\n",
    "logger.info(\"start sql query loop\")\n"
   ]
  },
  {
   "cell_type": "code",
   "execution_count": null,
   "id": "e0cfc1b6-8df5-4b67-b561-ef66fe69ea34",
   "metadata": {},
   "outputs": [],
   "source": [
    "os.environ[\"api_key\"] = ''\n",
    "os.environ[\"target_dir_path\"] = 'cos://us-east/gharchive-results/gharchive_as_parquet/'\n",
    "os.environ[\"sql_query_crn\"] = 'crn:v1:bluemix:public:sql-query:us-south:a/9b13b857a32341b7167255de717172f5:cd3e149d-e183-4162-a392-50bab6c64f47::'\n"
   ]
  },
  {
   "cell_type": "code",
   "execution_count": null,
   "id": "0b58ba3a-256d-4e3a-b97d-124e6c9f3980",
   "metadata": {
    "scrolled": true,
    "tags": []
   },
   "outputs": [],
   "source": [
    "%%bash\n",
    "\n",
    "index=0\n",
    "echo $index\n",
    "echo $lower_bound\n",
    "for file in `cat ../data/file_list.txt`; do \n",
    "    index=$(( $index + 1 ))\n",
    "    echo $index\n",
    "    echo $lower_bound\n",
    "    if [ $index -gt $lower_bound ]; then\n",
    "        echo $file `echo $file |awk -F'.json' '{print $1}' |awk -F'gharchive/' '{print $2\".parquet\"}'`;\n",
    "        ipython ../component-library/transform/ibm-sql-query.ipynb exact_name='True' target_asset_name='`echo $file |awk -F'.json' '{print $1}' |awk -F'gharchive/' '{print $2\".parquet\"}'`' format='parquet' sql=\"SELECT * FROM cos://us-east/$file stored as json\"\n",
    "    fi\n",
    "done"
   ]
  },
  {
   "cell_type": "code",
   "execution_count": null,
   "id": "a7d3ab7c-de44-4821-9f31-75fe71db7405",
   "metadata": {},
   "outputs": [],
   "source": [
    "logger.info(\"stop sql query loop\")\n"
   ]
  },
  {
   "cell_type": "code",
   "execution_count": null,
   "id": "c9808f44-b694-4be0-a98b-228ff0e68b56",
   "metadata": {
    "scrolled": true,
    "tags": []
   },
   "outputs": [],
   "source": [
    "\"\"\"from ibm_cloud_sdk_core.authenticators import IAMAuthenticator\n",
    "authenticator = IAMAuthenticator(\n",
    "    apikey='',\n",
    "    client_id='bx',\n",
    "    client_secret='bx',\n",
    ")\"\"\""
   ]
  },
  {
   "cell_type": "code",
   "execution_count": null,
   "id": "80afaa99-dcbe-431d-b949-355e435a00fa",
   "metadata": {},
   "outputs": [],
   "source": [
    "\"\"\"from ibm_code_engine_sdk.ibm_cloud_code_engine_v1 import IbmCloudCodeEngineV1\n",
    "import os\n",
    "\n",
    "ce_client = IbmCloudCodeEngineV1(authenticator=authenticator)\n",
    "ce_client.set_service_url(\n",
    "    'https://api.us-south.codeengine.cloud.ibm.com/api/v1'\n",
    ")\"\"\""
   ]
  },
  {
   "cell_type": "code",
   "execution_count": null,
   "id": "8c575b45-ba51-4300-b0a6-43b3f439a2a8",
   "metadata": {},
   "outputs": [],
   "source": [
    "\"\"\"os.environ['CE_API_KEY']=''\n",
    "os.environ['CE_PROJECT_REGION']='us-south'\n",
    "os.environ['CE_PROJECT_ID']='e5872e21-cb49-46de-895a-6df724e71532'\n",
    "\"\"\""
   ]
  },
  {
   "cell_type": "code",
   "execution_count": null,
   "id": "e5704d42-9886-46d8-b00d-46cce5b49c4a",
   "metadata": {},
   "outputs": [],
   "source": [
    "\"\"\"\n",
    "\n",
    "import os\n",
    "import tempfile\n",
    "import kubernetes\n",
    "import requests\n",
    "import json\n",
    "from ibm_code_engine_sdk.ibm_cloud_code_engine_v1 import IbmCloudCodeEngineV1\n",
    "from ibm_cloud_sdk_core.authenticators import IAMAuthenticator\n",
    "\n",
    "if (os.environ.get('CE_API_KEY') == None or\n",
    "    os.environ.get('CE_PROJECT_REGION') == None or\n",
    "    os.environ.get('CE_PROJECT_ID') == None):\n",
    "    print(\n",
    "        'You must set the envrionment variables CE_API_KEY, CE_PROJECT_REGION and CE_PROJECT_ID ' +\n",
    "        'before using the example.'\n",
    "    )\n",
    "\n",
    "# Create an IAM authenticator.\n",
    "authenticator = IAMAuthenticator(\n",
    "    apikey=os.environ.get('CE_API_KEY'),\n",
    "    client_id='bx',\n",
    "    client_secret='bx',\n",
    ")\n",
    "\n",
    "# Construct the Code Engine client.\n",
    "ce_client = IbmCloudCodeEngineV1(authenticator=authenticator)\n",
    "ce_client.set_service_url(\n",
    "    'https://api.' + os.environ.get('CE_PROJECT_REGION') + '.codeengine.cloud.ibm.com/api/v1'\n",
    ")\n",
    "\n",
    "# Get a Delegated Refresh Token from IAM\n",
    "iam_response = requests.post('https://iam.cloud.ibm.com/identity/token', headers={\n",
    "    'Content-Type': 'application/x-www-form-urlencoded'\n",
    "}, data={\n",
    "    'grant_type': 'urn:ibm:params:oauth:grant-type:apikey',\n",
    "    'apikey': os.environ.get('CE_API_KEY'),\n",
    "    'response_type': 'delegated_refresh_token',\n",
    "    'receiver_client_ids': 'ce',\n",
    "    'delegated_refresh_token_expiry': '3600'\n",
    "})\n",
    "delegated_refresh_token = iam_response.json()['delegated_refresh_token']\n",
    "\n",
    "# Get Code Engine project config using the Code Engine client.\n",
    "kubeconfig_response = ce_client.get_kubeconfig(\n",
    "    x_delegated_refresh_token=delegated_refresh_token,\n",
    "    id=os.environ.get('CE_PROJECT_ID'),\n",
    ")\n",
    "kubeconfig_string = kubeconfig_response.get_result().content\n",
    "\n",
    "# Setup Kubernetes client using project config\n",
    "kubeconfig_file, kubeconfig_filename = tempfile.mkstemp()\n",
    "os.write(kubeconfig_file, kubeconfig_string)\n",
    "kubernetes.config.load_kube_config(config_file=kubeconfig_filename)\n",
    "kube_client = kubernetes.client.CoreV1Api()\n",
    "\n",
    "# Get something from project.\n",
    "contexts = kubernetes.config.list_kube_config_contexts(config_file=kubeconfig_filename)[0][0]\n",
    "namespace = contexts.get('context').get('namespace')\n",
    "configmaps = kube_client.list_namespaced_config_map(namespace)\n",
    "print(\n",
    "    'Project ' + os.environ.get('CE_PROJECT_ID') +\n",
    "    ' has ' + str(len(configmaps.items)) + ' configmaps.'\n",
    ")\n",
    "\"\"\""
   ]
  },
  {
   "cell_type": "code",
   "execution_count": null,
   "id": "e70ce614-b269-4b75-a08e-fd48dc6e5c30",
   "metadata": {},
   "outputs": [],
   "source": [
    "deployment_template = \"\"\"\n",
    "apiVersion: serving.knative.dev/v1\n",
    "kind: Service\n",
    "metadata:\n",
    "  name: test\n",
    "  namespace: n2xl3rl76eu\n",
    "spec:\n",
    "  template:\n",
    "    spec:\n",
    "      containers:\n",
    "        - image: test-deployment:latest\n",
    "          resources:\n",
    "            limits:\n",
    "              cpu: 50m\n",
    "              memory: 128Mi\n",
    "            requests:\n",
    "              cpu: 50m\n",
    "              memory: 128Mi\n",
    "      containerConcurrency: 1\n",
    "\"\"\""
   ]
  },
  {
   "cell_type": "code",
   "execution_count": null,
   "id": "cfef9cac-3895-4eac-8656-e19dbaa5a726",
   "metadata": {},
   "outputs": [],
   "source": [
    "\"\"\"api = kubernetes.client.CustomObjectsApi()\n",
    "resource = api.create_namespaced_custom_object(\n",
    "    group=\"serving.knative.dev\",\n",
    "    version=\"v1\",\n",
    "    plural=\"services\",\n",
    "    namespace=namespace,\n",
    "    body=deployment_template)\n",
    "\"\"\""
   ]
  },
  {
   "cell_type": "code",
   "execution_count": null,
   "id": "1e213099-1b02-46b4-b8be-ffa134e0babd",
   "metadata": {},
   "outputs": [],
   "source": []
  }
 ],
 "metadata": {
  "kernelspec": {
   "display_name": "Python 3 (ipykernel)",
   "language": "python",
   "name": "python3"
  },
  "language_info": {
   "codemirror_mode": {
    "name": "ipython",
    "version": 3
   },
   "file_extension": ".py",
   "mimetype": "text/x-python",
   "name": "python",
   "nbconvert_exporter": "python",
   "pygments_lexer": "ipython3",
   "version": "3.9.6"
  }
 },
 "nbformat": 4,
 "nbformat_minor": 5
}
