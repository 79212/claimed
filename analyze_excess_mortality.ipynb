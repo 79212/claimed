{
 "cells": [
  {
   "cell_type": "code",
   "execution_count": 8,
   "id": "84b71a8b-57f9-433a-813c-2efe85ca1d78",
   "metadata": {},
   "outputs": [],
   "source": [
    "sql = \"\"\"\n",
    "select \n",
    "    sum(bev002__gestorbene__anzahl) as deaths,\n",
    "    cast(\n",
    "        (case 4_auspraegung_label when 'unter 1 Jahr' then '0' else split(4_auspraegung_label,'-')[0] end) \n",
    "    as int) as age,\n",
    "    Zeit as year \n",
    "    from df \n",
    "    where 4_auspraegung_label not in (\n",
    "        'Alter unbekannt',\n",
    "        'Insgesamt',\n",
    "        '100 Jahre und mehr') \n",
    "    group by 4_auspraegung_label, Zeit \n",
    "    order by zeit asc\n",
    "\"\"\"\n",
    "sql = sql.replace(\"\\n\", \" \")"
   ]
  },
  {
   "cell_type": "code",
   "execution_count": 9,
   "id": "1354f4c9-95b1-4cd2-b799-3b063cdcbee3",
   "metadata": {},
   "outputs": [
    {
     "name": "stdout",
     "output_type": "stream",
     "text": [
      "\u001b[22;0t\u001b]0;IPython: work/claimed\u0007Requirement already satisfied: pyspark==3.1.2 in /opt/conda/lib/python3.8/site-packages (3.1.2)\n",
      "Requirement already satisfied: wget==3.2 in /opt/conda/lib/python3.8/site-packages (3.2)\n",
      "Requirement already satisfied: pyspark2pmml==0.5.1 in /opt/conda/lib/python3.8/site-packages (0.5.1)\n",
      "Requirement already satisfied: py4j==0.10.9 in /opt/conda/lib/python3.8/site-packages (from pyspark==3.1.2) (0.10.9)\n",
      "WARNING: You are using pip version 21.1.2; however, version 21.2.4 is available.\n",
      "You should consider upgrading via the '/opt/conda/bin/python -m pip install --upgrade pip' command.\n",
      "100% [............................................................] 1003 / 1003WARNING:root:Parameter: data_dir=\"/home/jovyan/work/claimed/data/\"\n",
      "WARNING:root:Parameter: sql=\" select      sum(bev002__gestorbene__anzahl) as deaths,     cast(         (case 4_auspraegung_label when 'unter 1 Jahr' then '0' else split(4_auspraegung_label,'-')[0] end)      as int) as age,     Zeit as year      from df where 4_auspraegung_label not in ('Alter unbekannt','Insgesamt','100 Jahre und mehr') group by 4_auspraegung_label, Zeit order by zeit asc \"\n",
      "WARNING: An illegal reflective access operation has occurred\n",
      "WARNING: Illegal reflective access by org.apache.spark.unsafe.Platform (file:/opt/conda/lib/python3.8/site-packages/pyspark/jars/spark-unsafe_2.12-3.1.2.jar) to constructor java.nio.DirectByteBuffer(long,int)\n",
      "WARNING: Please consider reporting this to the maintainers of org.apache.spark.unsafe.Platform\n",
      "WARNING: Use --illegal-access=warn to enable warnings of further illegal reflective access operations\n",
      "WARNING: All illegal access operations will be denied in a future release\n",
      "21/09/14 07:20:51 WARN NativeCodeLoader: Unable to load native-hadoop library for your platform... using builtin-java classes where applicable\n",
      "Using Spark's default log4j profile: org/apache/spark/log4j-defaults.properties\n",
      "Setting default log level to \"WARN\".\n",
      "To adjust logging level use sc.setLogLevel(newLevel). For SparkR, use setLogLevel(newLevel).\n",
      "21/09/14 07:20:52 WARN Utils: Service 'SparkUI' could not bind on port 4040. Attempting port 4041.\n",
      "                                                                                \r"
     ]
    }
   ],
   "source": [
    "!ipython component-library/transform/spark-sql.ipynb data_dir=/home/jovyan/work/claimed/data/ sql=\"$sql\""
   ]
  },
  {
   "cell_type": "code",
   "execution_count": null,
   "id": "4b58343a-05f9-4a94-973a-c0ac1cfbc2c2",
   "metadata": {},
   "outputs": [],
   "source": []
  }
 ],
 "metadata": {
  "kernelspec": {
   "display_name": "Python 3",
   "language": "python",
   "name": "python3"
  },
  "language_info": {
   "codemirror_mode": {
    "name": "ipython",
    "version": 3
   },
   "file_extension": ".py",
   "mimetype": "text/x-python",
   "name": "python",
   "nbconvert_exporter": "python",
   "pygments_lexer": "ipython3",
   "version": "3.8.6"
  }
 },
 "nbformat": 4,
 "nbformat_minor": 5
}
