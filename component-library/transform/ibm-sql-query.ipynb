{
 "cells": [
  {
   "cell_type": "markdown",
   "id": "binding-delta",
   "metadata": {
    "papermill": {
     "duration": 0.016304,
     "end_time": "2021-03-22T20:29:23.476444",
     "exception": false,
     "start_time": "2021-03-22T20:29:23.460140",
     "status": "completed"
    },
    "tags": []
   },
   "source": [
    "# ibm_sql_query"
   ]
  },
  {
   "cell_type": "markdown",
   "id": "bb97e294-9399-4d96-a95c-8ad7e29a2872",
   "metadata": {},
   "source": [
    "Execute arbitrary SQL queries against CSV and PARQUET files using IBM Cloud SQL Query and Cloud Object Store"
   ]
  },
  {
   "cell_type": "code",
   "execution_count": null,
   "id": "satellite-vegetation",
   "metadata": {
    "papermill": {
     "duration": 2.246299,
     "end_time": "2021-03-22T20:29:25.734626",
     "exception": false,
     "start_time": "2021-03-22T20:29:23.488327",
     "status": "completed"
    },
    "tags": []
   },
   "outputs": [],
   "source": [
    "!pip install ibmcloudsql==0.4.29"
   ]
  },
  {
   "cell_type": "code",
   "execution_count": null,
   "id": "beginning-wisdom",
   "metadata": {
    "papermill": {
     "duration": 0.164002,
     "end_time": "2021-03-22T20:29:25.951504",
     "exception": false,
     "start_time": "2021-03-22T20:29:25.787502",
     "status": "completed"
    },
    "tags": []
   },
   "outputs": [],
   "source": [
    "import glob\n",
    "import logging\n",
    "import ibmcloudsql\n",
    "from ibmcloudsql import SQLQuery\n",
    "import os\n",
    "import shutil\n",
    "import sys\n",
    "import re"
   ]
  },
  {
   "cell_type": "code",
   "execution_count": null,
   "id": "abstract-cambridge",
   "metadata": {
    "papermill": {
     "duration": 0.012801,
     "end_time": "2021-03-22T20:29:25.972462",
     "exception": false,
     "start_time": "2021-03-22T20:29:25.959661",
     "status": "completed"
    },
    "tags": []
   },
   "outputs": [],
   "source": [
    "# IBM Cloud API key (alternative to token)\n",
    "api_key = os.environ.get('api_key')\n",
    "\n",
    "# IBM Cloud Token (alternative to API key)\n",
    "token = os.environ.get('token')\n",
    "\n",
    "# URI of resulting file (example: cos://s3.eu-de.cloud-object-storage.appdomain.cloud/cos-rkie-sqlquery-test/result)\n",
    "output_result_file_uri = os.environ.get('output_result_file_uri')\n",
    "\n",
    "# (unique) Custom Resource Name (CRN) of IBM SQL Query Service\n",
    "sql_query_crn = os.environ.get('sql_query_crn')\n",
    "\n",
    "# sql statement to execute ()\n",
    "sql = os.environ.get('sql')"
   ]
  },
  {
   "cell_type": "code",
   "execution_count": null,
   "id": "1f401443-9b6b-47cc-a299-0a359f530158",
   "metadata": {},
   "outputs": [],
   "source": [
    "token = 'eyJraWQiOiIyMDIxMTExNzA4MjAiLCJhbGciOiJSUzI1NiJ9.eyJpYW1faWQiOiJJQk1pZC0yNzAwMDI1NzNZIiwiaWQiOiJJQk1pZC0yNzAwMDI1NzNZIiwicmVhbG1pZCI6IklCTWlkIiwic2Vzc2lvbl9pZCI6IkMtMjA1YmU4NTAtMTIwNS00NjRjLTlhMjMtNzVhZjBkNzJiMDZiIiwianRpIjoiMTEwMzhiMDEtMTdiMC00NjgwLTk3NDEtYmFjYjAxNDkyMzc3IiwiaWRlbnRpZmllciI6IjI3MDAwMjU3M1kiLCJnaXZlbl9uYW1lIjoiUm9tZW8iLCJmYW1pbHlfbmFtZSI6IktpZW56bGVyIiwibmFtZSI6IlJvbWVvIEtpZW56bGVyIiwiZW1haWwiOiJyb21lby5raWVuemxlckBjaC5pYm0uY29tIiwic3ViIjoicm9tZW8ua2llbnpsZXJAY2guaWJtLmNvbSIsImF1dGhuIjp7InN1YiI6InJvbWVvLmtpZW56bGVyQGNoLmlibS5jb20iLCJpYW1faWQiOiJJQk1pZC0yNzAwMDI1NzNZIiwibmFtZSI6IlJvbWVvIEtpZW56bGVyIiwiZ2l2ZW5fbmFtZSI6IlJvbWVvIiwiZmFtaWx5X25hbWUiOiJLaWVuemxlciIsImVtYWlsIjoicm9tZW8ua2llbnpsZXJAY2guaWJtLmNvbSJ9LCJhY2NvdW50Ijp7ImJvdW5kYXJ5IjoiZ2xvYmFsIiwidmFsaWQiOnRydWUsImJzcyI6IjliMTNiODU3YTMyMzQxYjcxNjcyNTVkZTcxNzE3MmY1IiwiaW1zX3VzZXJfaWQiOiI4MDgwMjIyIiwiaW1zIjoiMjAzMjQ3NCJ9LCJpYXQiOjE2Mzc4NDc4NTUsImV4cCI6MTYzNzg0OTA1NSwiaXNzIjoiaHR0cHM6Ly9pYW0uY2xvdWQuaWJtLmNvbS9pZGVudGl0eSIsImdyYW50X3R5cGUiOiJ1cm46aWJtOnBhcmFtczpvYXV0aDpncmFudC10eXBlOnBhc3Njb2RlIiwic2NvcGUiOiJpYm0gb3BlbmlkIiwiY2xpZW50X2lkIjoiYngiLCJhY3IiOjEsImFtciI6WyJwd2QiXX0.VpQginD2Kxukgh7wdDdkr3fHbVGJ0-NhyaxW1w3JjT1rC1jB7MG_ZZ59xCvL0nhMVB0V5skRzr-1WBR9qxOGh6ExgHu-jRBd5JnQhfUT2ZKGyP5R2HzSUj6-jSUnwfFy93MetdljGDxybStSvQAUw8NiAtMv_E12JljZtwj6QtFHcY20mpMOzL1CoV6ef1nCOkAla0NrKdAfI873CVNVG1QPlAVhHmuzJ6YogmHlfKXlu_RHfJ8JNZSWeJQuXYmBIi5BcqoxPoLLqfngE-A4dn5d9g1C50h15PLX8oCyWEfXSIz9Iccvb709Hgr7a0eiIA9ADm5JbgnL8znbqNYS1A'\n",
    "output_result_file_uri = 'cos://s3.eu-de.cloud-object-storage.appdomain.cloud/cos-rkie-sqlquery-test/result'\n",
    "sql_query_crn = 'crn:v1:bluemix:public:sql-query:us-south:a/9b13b857a32341b7167255de717172f5:f9dd6c9e-b24b-4506-819e-e038c92339e4::'\n",
    "sql='SELECT * FROM cos://eu-de/cos-rkie-sqlquery-test/12613-0004_flat-2.csv STORED AS CSV'"
   ]
  },
  {
   "cell_type": "code",
   "execution_count": null,
   "id": "55f9b39f-2c8c-4ab5-b4f5-513357bf20ba",
   "metadata": {},
   "outputs": [],
   "source": [
    "parameters = list(\n",
    "    map(lambda s: re.sub('$', '\"', s),\n",
    "        map(\n",
    "            lambda s: s.replace('=', '=\"'),\n",
    "            filter(\n",
    "                lambda s: s.find('=') > -1 and bool(re.match(r'[A-Za-z0-9_]*=[.\\/A-Za-z0-9]*', s)),\n",
    "                sys.argv\n",
    "            )\n",
    "    )))\n",
    "\n",
    "for parameter in parameters:\n",
    "    logging.warning('Parameter: ' + parameter)\n",
    "    exec(parameter)"
   ]
  },
  {
   "cell_type": "code",
   "execution_count": null,
   "id": "welsh-grave",
   "metadata": {
    "papermill": {
     "duration": 4.178678,
     "end_time": "2021-03-22T20:29:30.176328",
     "exception": false,
     "start_time": "2021-03-22T20:29:25.997650",
     "status": "completed"
    },
    "tags": []
   },
   "outputs": [],
   "source": [
    "if token is None:\n",
    "    sqlClient = SQLQuery(api_key, sql_query_crn)\n",
    "else:\n",
    "    sqlClient = SQLQuery(api_key=None, token=token, instance_crn=sql_query_crn)\n",
    "\n",
    "sqlClient.run_sql(sql + ' INTO {} STORED AS CSV'.format(output_result_file_uri))"
   ]
  }
 ],
 "metadata": {
  "kernelspec": {
   "display_name": "Python 3",
   "language": "python",
   "name": "python3"
  },
  "language_info": {
   "codemirror_mode": {
    "name": "ipython",
    "version": 3
   },
   "file_extension": ".py",
   "mimetype": "text/x-python",
   "name": "python",
   "nbconvert_exporter": "python",
   "pygments_lexer": "ipython3",
   "version": "3.8.6"
  },
  "papermill": {
   "default_parameters": {},
   "duration": 470.538548,
   "end_time": "2021-03-22T20:37:13.369954",
   "environment_variables": {},
   "exception": null,
   "input_path": "/home/jovyan/work/examples/pipelines/pairs/component-library/transform/spark-csv-to-parquet.ipynb",
   "output_path": "/home/jovyan/work/examples/pipelines/pairs/component-library/transform/spark-csv-to-parquet.ipynb",
   "parameters": {},
   "start_time": "2021-03-22T20:29:22.831406",
   "version": "2.3.3"
  }
 },
 "nbformat": 4,
 "nbformat_minor": 5
}
