{
 "cells": [
  {
   "cell_type": "markdown",
   "id": "binding-delta",
   "metadata": {
    "papermill": {
     "duration": 0.016304,
     "end_time": "2021-03-22T20:29:23.476444",
     "exception": false,
     "start_time": "2021-03-22T20:29:23.460140",
     "status": "completed"
    },
    "tags": []
   },
   "source": [
    "# ibm_sql_query"
   ]
  },
  {
   "cell_type": "markdown",
   "id": "bb97e294-9399-4d96-a95c-8ad7e29a2872",
   "metadata": {},
   "source": [
    "Execute arbitrary SQL queries against CSV and PARQUET files using IBM Cloud SQL Query and Cloud Object Store"
   ]
  },
  {
   "cell_type": "code",
   "execution_count": null,
   "id": "satellite-vegetation",
   "metadata": {
    "papermill": {
     "duration": 2.246299,
     "end_time": "2021-03-22T20:29:25.734626",
     "exception": false,
     "start_time": "2021-03-22T20:29:23.488327",
     "status": "completed"
    },
    "tags": []
   },
   "outputs": [],
   "source": [
    "!pip install ibmcloudsql==0.4.29"
   ]
  },
  {
   "cell_type": "code",
   "execution_count": null,
   "id": "beginning-wisdom",
   "metadata": {
    "papermill": {
     "duration": 0.164002,
     "end_time": "2021-03-22T20:29:25.951504",
     "exception": false,
     "start_time": "2021-03-22T20:29:25.787502",
     "status": "completed"
    },
    "tags": []
   },
   "outputs": [],
   "source": [
    "import glob\n",
    "import logging\n",
    "import ibmcloudsql\n",
    "from ibmcloudsql import SQLQuery\n",
    "import os\n",
    "import shutil\n",
    "import sys\n",
    "import re"
   ]
  },
  {
   "cell_type": "code",
   "execution_count": null,
   "id": "abstract-cambridge",
   "metadata": {
    "papermill": {
     "duration": 0.012801,
     "end_time": "2021-03-22T20:29:25.972462",
     "exception": false,
     "start_time": "2021-03-22T20:29:25.959661",
     "status": "completed"
    },
    "tags": []
   },
   "outputs": [],
   "source": [
    "# IBM Cloud API key (alternative to token)\n",
    "api_key = os.environ.get('api_key')\n",
    "\n",
    "# IBM Cloud Token (alternative to API key)\n",
    "token = os.environ.get('token')\n",
    "\n",
    "# (unique) Custom Resource Name (CRN) of IBM SQL Query Service\n",
    "sql_query_crn = os.environ.get('sql_query_crn')\n",
    "\n",
    "# URI of resulting file (example: cos://s3.eu-de.cloud-object-storage.appdomain.cloud/cos-rkie-sqlquery-test/result)\n",
    "output_uri = os.environ.get('output_uri')\n",
    "\n",
    "# default: CSV - (will be generated into according STORED AS … clause in the INTO clause)\n",
    "output_format = os.environ.get('output_format' , 'CSV')\n",
    "\n",
    "# if set - will be generated into according PARTITIONED BY (<columns>) clause in the INTO clause)\n",
    "output_partition_columns = os.environ.get('output_partition_columns')\n",
    "\n",
    "# will be generated into according PARTITIONED INTO <num> OBJECTS clause in INTO clause\n",
    "output_number_of_objects = os.environ.get('output_number_of_objects')\n",
    "\n",
    "# will be generated into according PARTITIONED EVERY <num> ROWS clause in INTO clause\n",
    "output_rows_per_object = os.environ.get('output_rows_per_object')\n",
    "\n",
    "# default: False - only valid when no partitioning option is specified. Will be generated into sqlClient.rename_exact_result(jobid) after SQL has run.\n",
    "output_exact_name = bool(os.environ.get('output_exact_name', False))\n",
    "\n",
    "# default: False - will be generated into JOBPREFIX NONE in the INTO clause. Will cause results of previous runs with same output_uri to be overwritten, because no unique sub folder will be created for the result)\n",
    "output_no_jobid_folder = bool(os.environ.get('output_no_jobid_folder', False))\n",
    "  \n",
    "# sql statement to execute ()\n",
    "sql = os.environ.get('sql')"
   ]
  },
  {
   "cell_type": "code",
   "execution_count": null,
   "id": "55f9b39f-2c8c-4ab5-b4f5-513357bf20ba",
   "metadata": {},
   "outputs": [],
   "source": [
    "parameters = list(\n",
    "    map(lambda s: re.sub('$', '\"', s),\n",
    "        map(\n",
    "            lambda s: s.replace('=', '=\"'),\n",
    "            filter(\n",
    "                lambda s: s.find('=') > -1 and bool(re.match(r'[A-Za-z0-9_]*=[.\\/A-Za-z0-9]*', s)),\n",
    "                sys.argv\n",
    "            )\n",
    "    )))\n",
    "\n",
    "output_exact_name = bool(output_exact_name)\n",
    "output_no_jobid_folder = bool(output_no_jobid_folder)\n",
    "\n",
    "\n",
    "for parameter in parameters:\n",
    "    logging.warning('Parameter: ' + parameter)\n",
    "    exec(parameter)"
   ]
  },
  {
   "cell_type": "code",
   "execution_count": null,
   "id": "welsh-grave",
   "metadata": {
    "papermill": {
     "duration": 4.178678,
     "end_time": "2021-03-22T20:29:30.176328",
     "exception": false,
     "start_time": "2021-03-22T20:29:25.997650",
     "status": "completed"
    },
    "tags": []
   },
   "outputs": [],
   "source": [
    "if token is None or len(api_key) > 0:\n",
    "    sqlClient = SQLQuery(api_key, sql_query_crn)\n",
    "else:\n",
    "    sqlClient = SQLQuery(api_key=None, token=token, instance_crn=sql_query_crn)\n",
    "\n",
    "sql = sql + ' INTO {} STORED AS {}'.format(output_uri, output_format)\n",
    "\n",
    "if output_partition_columns is not None and len(output_partition_columns) > 0:\n",
    "    sql = sql + ' PARTITIONED BY ({})'.format(output_partition_columns)\n",
    "\n",
    "if output_number_of_objects is not None and len(output_number_of_objects) > 0:\n",
    "    sql = sql + ' PARTITIONED INTO {} OBJECTS'.format(output_number_of_objects)    \n",
    "\n",
    "if output_rows_per_object is not None and len(output_rows_per_object) > 0:\n",
    "    sql = sql + ' PARTITIONED EVERY {} ROWS'.format(output_rows_per_object)\n",
    "\n",
    "if output_no_jobid_folder:\n",
    "    sql = sql + ' JOBPREFIX NONE'\n",
    "\n",
    "if output_exact_name:\n",
    "    job_id = sqlClient.submit_sql(sql)\n",
    "    job_status = sqlClient.wait_for_job(job_id)\n",
    "    print(\"Job \" + jobId + \" terminated with status: \" + job_status)\n",
    "    sqlClient.rename_exact_result(job_id) \n",
    "else:\n",
    "    sqlClient.run_sql(sql)"
   ]
  },
  {
   "cell_type": "code",
   "execution_count": null,
   "id": "f7081e1f-3066-4a94-914c-cc59bfb4021b",
   "metadata": {},
   "outputs": [],
   "source": [
    "print(sql)"
   ]
  },
  {
   "cell_type": "code",
   "execution_count": null,
   "id": "015db1a1-532b-4676-8e36-078f9790dd06",
   "metadata": {
    "scrolled": true,
    "tags": []
   },
   "outputs": [],
   "source": [
    "#!ipython ibm-sql-query.ipynb output_result_file_uri=\"cos://s3.eu-de.cloud-object-storage.appdomain.cloud/cos-rkie-sqlquery-test/result\" api_key=\"\" token=\"eyJraWQiOiIyMDIxMTExNzA4MjAiLCJhbGciOiJSUzI1NiJ9.eyJpYW1faWQiOiJJQk1pZC0yNzAwMDI1NzNZIiwiaWQiOiJJQk1pZC0yNzAwMDI1NzNZIiwicmVhbG1pZCI6IklCTWlkIiwic2Vzc2lvbl9pZCI6IkMtMjA1YmU4NTAtMTIwNS00NjRjLTlhMjMtNzVhZjBkNzJiMDZiIiwianRpIjoiY2JlZmY5NjQtN2M3ZC00OWJjLTkwOWEtYWNiYWQzYTQ1MDVhIiwiaWRlbnRpZmllciI6IjI3MDAwMjU3M1kiLCJnaXZlbl9uYW1lIjoiUm9tZW8iLCJmYW1pbHlfbmFtZSI6IktpZW56bGVyIiwibmFtZSI6IlJvbWVvIEtpZW56bGVyIiwiZW1haWwiOiJyb21lby5raWVuemxlckBjaC5pYm0uY29tIiwic3ViIjoicm9tZW8ua2llbnpsZXJAY2guaWJtLmNvbSIsImF1dGhuIjp7InN1YiI6InJvbWVvLmtpZW56bGVyQGNoLmlibS5jb20iLCJpYW1faWQiOiJJQk1pZC0yNzAwMDI1NzNZIiwibmFtZSI6IlJvbWVvIEtpZW56bGVyIiwiZ2l2ZW5fbmFtZSI6IlJvbWVvIiwiZmFtaWx5X25hbWUiOiJLaWVuemxlciIsImVtYWlsIjoicm9tZW8ua2llbnpsZXJAY2guaWJtLmNvbSJ9LCJhY2NvdW50Ijp7ImJvdW5kYXJ5IjoiZ2xvYmFsIiwidmFsaWQiOnRydWUsImJzcyI6IjliMTNiODU3YTMyMzQxYjcxNjcyNTVkZTcxNzE3MmY1IiwiaW1zX3VzZXJfaWQiOiI4MDgwMjIyIiwiaW1zIjoiMjAzMjQ3NCJ9LCJpYXQiOjE2Mzc4NDk5MjEsImV4cCI6MTYzNzg1MTEyMSwiaXNzIjoiaHR0cHM6Ly9pYW0uY2xvdWQuaWJtLmNvbS9pZGVudGl0eSIsImdyYW50X3R5cGUiOiJ1cm46aWJtOnBhcmFtczpvYXV0aDpncmFudC10eXBlOnBhc3Njb2RlIiwic2NvcGUiOiJpYm0gb3BlbmlkIiwiY2xpZW50X2lkIjoiYngiLCJhY3IiOjEsImFtciI6WyJwd2QiXX0.VeZxGTnrSNkiE_iL_ajqeRdEgx1YEx_FCWOEFnL6whuHu7MM3ev6QaL5BiSQbxyXzY17aUvVWFZUxZEEX45NhKXsXkbWUDl0gAWbZFoVyXYXOiGyysbGi1d4WIlA4Kc4uwgttI-amcTOxeE0wkKjh4jSrKMLhEtnglxwgXYeC-KDz-NtegcvQG3YnZBD-Bk0f6A9sdRGMfH8_Ej8U0yYsn_ub-xgTAhD4TW-hUI9ICIcWkDxgp36_5WMZzHqpHyYxobXJudBZ-F2FKsaJwpdcNVc6VOFe32ItObS17dDh35uw4y0r-SXjnQwPo8BRXHV\" sql_query_crn=\"crn:v1:bluemix:public:sql-query:us-south:a/9b13b857a32341b7167255de717172f5:f9dd6c9e-b24b-4506-819e-e038c92339e4::\" sql=\"SELECT * FROM cos://eu-de/cos-rkie-sqlquery-test/12613-0004_flat-2.csv STORED AS CSV\" "
   ]
  }
 ],
 "metadata": {
  "kernelspec": {
   "display_name": "Python 3",
   "language": "python",
   "name": "python3"
  },
  "language_info": {
   "codemirror_mode": {
    "name": "ipython",
    "version": 3
   },
   "file_extension": ".py",
   "mimetype": "text/x-python",
   "name": "python",
   "nbconvert_exporter": "python",
   "pygments_lexer": "ipython3",
   "version": "3.8.6"
  },
  "papermill": {
   "default_parameters": {},
   "duration": 470.538548,
   "end_time": "2021-03-22T20:37:13.369954",
   "environment_variables": {},
   "exception": null,
   "input_path": "/home/jovyan/work/examples/pipelines/pairs/component-library/transform/spark-csv-to-parquet.ipynb",
   "output_path": "/home/jovyan/work/examples/pipelines/pairs/component-library/transform/spark-csv-to-parquet.ipynb",
   "parameters": {},
   "start_time": "2021-03-22T20:29:22.831406",
   "version": "2.3.3"
  }
 },
 "nbformat": 4,
 "nbformat_minor": 5
}
