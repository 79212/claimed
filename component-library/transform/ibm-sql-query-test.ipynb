{
 "cells": [
  {
   "cell_type": "code",
   "execution_count": 1,
   "id": "6bfa314b-cc99-4d59-a281-94bfcb49b289",
   "metadata": {},
   "outputs": [
    {
     "name": "stdout",
     "output_type": "stream",
     "text": [
      "Requirement already satisfied: nbformat==5.1.3 in /home/romeokienzler/.conda/envs/elyra/lib/python3.9/site-packages (5.1.3)\n",
      "Requirement already satisfied: traitlets>=4.1 in /home/romeokienzler/.local/lib/python3.9/site-packages (from nbformat==5.1.3) (5.1.1)\n",
      "Requirement already satisfied: ipython-genutils in /home/romeokienzler/.conda/envs/elyra/lib/python3.9/site-packages (from nbformat==5.1.3) (0.2.0)\n",
      "Requirement already satisfied: jsonschema!=2.5.0,>=2.4 in /home/romeokienzler/.conda/envs/elyra/lib/python3.9/site-packages (from nbformat==5.1.3) (4.2.1)\n",
      "Requirement already satisfied: jupyter-core in /home/romeokienzler/.local/lib/python3.9/site-packages (from nbformat==5.1.3) (4.9.1)\n",
      "Requirement already satisfied: attrs>=17.4.0 in /home/romeokienzler/.conda/envs/elyra/lib/python3.9/site-packages (from jsonschema!=2.5.0,>=2.4->nbformat==5.1.3) (21.2.0)\n",
      "Requirement already satisfied: pyrsistent!=0.17.0,!=0.17.1,!=0.17.2,>=0.14.0 in /home/romeokienzler/.conda/envs/elyra/lib/python3.9/site-packages (from jsonschema!=2.5.0,>=2.4->nbformat==5.1.3) (0.18.0)\n"
     ]
    }
   ],
   "source": [
    "!pip install nbformat==5.1.3"
   ]
  },
  {
   "cell_type": "code",
   "execution_count": 2,
   "id": "c42b885f-2551-495a-8deb-4f7f6e755db8",
   "metadata": {},
   "outputs": [],
   "source": [
    "import configparser\n",
    "import os"
   ]
  },
  {
   "cell_type": "code",
   "execution_count": 3,
   "id": "7461ab98-07c3-49b8-b648-a1cfc383de62",
   "metadata": {},
   "outputs": [],
   "source": [
    "config = configparser.ConfigParser()\n",
    "config.read('ibm-sql-query.secrets')\n",
    "config  = config['DEFAULT']\n",
    "for key in config:  \n",
    "    exec('{}=\"{}\"'.format(key,config[key]))\n",
    "    os.environ[key] = config[key]\n",
    "\n",
    "config = configparser.ConfigParser()\n",
    "config.read('ibm-sql-query.config')\n",
    "config  = config['DEFAULT']\n",
    "for key in config:  \n",
    "    exec('{}=\"{}\"'.format(key,config[key]))\n",
    "    os.environ[key] = config[key]"
   ]
  },
  {
   "cell_type": "code",
   "execution_count": 4,
   "id": "c64a2466-2c43-43ed-98b1-f7dd5d1b5ca2",
   "metadata": {
    "scrolled": true,
    "tags": []
   },
   "outputs": [],
   "source": [
    "%%bash\n",
    "# delete result if existing\n",
    "if [ `ipython cloud-object-store-housekeeping.ipynb 2> /dev/null | grep result |wc -l` -gt 0 ]; then\n",
    "    ipython cloud-object-store-housekeeping.ipynb operation=\"rm\" path=\"result\"\n",
    "fi"
   ]
  },
  {
   "cell_type": "code",
   "execution_count": 5,
   "id": "d51ee3e0-e16a-4236-9c59-1067a256b898",
   "metadata": {},
   "outputs": [],
   "source": [
    "%%bash\n",
    "# verify result deleted\n",
    "if [ `ipython cloud-object-store-housekeeping.ipynb 2> /dev/null | grep result |wc -l` -gt 0 ]; then\n",
    "    echo 'deletion failed'\n",
    "    exit -1\n",
    "fi"
   ]
  },
  {
   "cell_type": "code",
   "execution_count": 6,
   "id": "5c13f791-7bb6-46f1-9d01-31363235259d",
   "metadata": {
    "scrolled": true,
    "tags": []
   },
   "outputs": [
    {
     "name": "stdout",
     "output_type": "stream",
     "text": [
      "\u001b[22;0t\u001b]0;IPython: component-library/transform\u0007Requirement already satisfied: ibmcloudsql==0.4.29 in /home/romeokienzler/.conda/envs/elyra/lib/python3.9/site-packages (0.4.29)\n",
      "Requirement already satisfied: isodate in /home/romeokienzler/.conda/envs/elyra/lib/python3.9/site-packages (from ibmcloudsql==0.4.29) (0.6.0)\n",
      "Requirement already satisfied: typing-extensions in /home/romeokienzler/.conda/envs/elyra/lib/python3.9/site-packages (from ibmcloudsql==0.4.29) (4.0.1)\n",
      "Requirement already satisfied: packaging in /home/romeokienzler/.conda/envs/elyra/lib/python3.9/site-packages (from ibmcloudsql==0.4.29) (21.3)\n",
      "Requirement already satisfied: pyarrow in /home/romeokienzler/.conda/envs/elyra/lib/python3.9/site-packages (from ibmcloudsql==0.4.29) (6.0.1)\n",
      "Requirement already satisfied: importlib-metadata in /home/romeokienzler/.conda/envs/elyra/lib/python3.9/site-packages (from ibmcloudsql==0.4.29) (4.8.2)\n",
      "Requirement already satisfied: backoff==1.10.0 in /home/romeokienzler/.conda/envs/elyra/lib/python3.9/site-packages (from ibmcloudsql==0.4.29) (1.10.0)\n",
      "Requirement already satisfied: ibm-cos-sdk-core>=2.7.0 in /home/romeokienzler/.conda/envs/elyra/lib/python3.9/site-packages (from ibmcloudsql==0.4.29) (2.11.0)\n",
      "Requirement already satisfied: pandas>=1.3.0 in /home/romeokienzler/.conda/envs/elyra/lib/python3.9/site-packages (from ibmcloudsql==0.4.29) (1.3.4)\n",
      "Requirement already satisfied: ibm-cos-sdk>=2.7.0 in /home/romeokienzler/.conda/envs/elyra/lib/python3.9/site-packages (from ibmcloudsql==0.4.29) (2.11.0)\n",
      "Requirement already satisfied: numpy in /home/romeokienzler/.conda/envs/elyra/lib/python3.9/site-packages (from ibmcloudsql==0.4.29) (1.21.4)\n",
      "Requirement already satisfied: pre-commit in /home/romeokienzler/.conda/envs/elyra/lib/python3.9/site-packages (from ibmcloudsql==0.4.29) (2.16.0)\n",
      "Requirement already satisfied: requests>=2.2.0 in /home/romeokienzler/.conda/envs/elyra/lib/python3.9/site-packages (from ibmcloudsql==0.4.29) (2.26.0)\n",
      "Requirement already satisfied: sqlparse>=0.4.2 in /home/romeokienzler/.conda/envs/elyra/lib/python3.9/site-packages (from ibmcloudsql==0.4.29) (0.4.2)\n",
      "Requirement already satisfied: jmespath<1.0.0,>=0.7.1 in /home/romeokienzler/.conda/envs/elyra/lib/python3.9/site-packages (from ibm-cos-sdk>=2.7.0->ibmcloudsql==0.4.29) (0.10.0)\n",
      "Requirement already satisfied: ibm-cos-sdk-s3transfer==2.11.0 in /home/romeokienzler/.conda/envs/elyra/lib/python3.9/site-packages (from ibm-cos-sdk>=2.7.0->ibmcloudsql==0.4.29) (2.11.0)\n",
      "Requirement already satisfied: python-dateutil<3.0.0,>=2.1 in /home/romeokienzler/.local/lib/python3.9/site-packages (from ibm-cos-sdk-core>=2.7.0->ibmcloudsql==0.4.29) (2.8.2)\n",
      "Requirement already satisfied: urllib3<1.27,>=1.26.7 in /home/romeokienzler/.conda/envs/elyra/lib/python3.9/site-packages (from ibm-cos-sdk-core>=2.7.0->ibmcloudsql==0.4.29) (1.26.7)\n",
      "Requirement already satisfied: pytz>=2017.3 in /home/romeokienzler/.conda/envs/elyra/lib/python3.9/site-packages (from pandas>=1.3.0->ibmcloudsql==0.4.29) (2021.3)\n",
      "Requirement already satisfied: idna<4,>=2.5 in /home/romeokienzler/.conda/envs/elyra/lib/python3.9/site-packages (from requests>=2.2.0->ibmcloudsql==0.4.29) (3.3)\n",
      "Requirement already satisfied: certifi>=2017.4.17 in /home/romeokienzler/.conda/envs/elyra/lib/python3.9/site-packages (from requests>=2.2.0->ibmcloudsql==0.4.29) (2021.10.8)\n",
      "Requirement already satisfied: charset-normalizer~=2.0.0 in /home/romeokienzler/.conda/envs/elyra/lib/python3.9/site-packages (from requests>=2.2.0->ibmcloudsql==0.4.29) (2.0.9)\n",
      "Requirement already satisfied: zipp>=0.5 in /home/romeokienzler/.conda/envs/elyra/lib/python3.9/site-packages (from importlib-metadata->ibmcloudsql==0.4.29) (3.6.0)\n",
      "Requirement already satisfied: six in /home/romeokienzler/.local/lib/python3.9/site-packages (from isodate->ibmcloudsql==0.4.29) (1.16.0)\n",
      "Requirement already satisfied: pyparsing!=3.0.5,>=2.0.2 in /home/romeokienzler/.conda/envs/elyra/lib/python3.9/site-packages (from packaging->ibmcloudsql==0.4.29) (3.0.6)\n",
      "Requirement already satisfied: virtualenv>=20.0.8 in /home/romeokienzler/.conda/envs/elyra/lib/python3.9/site-packages (from pre-commit->ibmcloudsql==0.4.29) (20.10.0)\n",
      "Requirement already satisfied: toml in /home/romeokienzler/.conda/envs/elyra/lib/python3.9/site-packages (from pre-commit->ibmcloudsql==0.4.29) (0.10.2)\n",
      "Requirement already satisfied: cfgv>=2.0.0 in /home/romeokienzler/.conda/envs/elyra/lib/python3.9/site-packages (from pre-commit->ibmcloudsql==0.4.29) (3.3.1)\n",
      "Requirement already satisfied: identify>=1.0.0 in /home/romeokienzler/.conda/envs/elyra/lib/python3.9/site-packages (from pre-commit->ibmcloudsql==0.4.29) (2.4.0)\n",
      "Requirement already satisfied: pyyaml>=5.1 in /home/romeokienzler/.conda/envs/elyra/lib/python3.9/site-packages (from pre-commit->ibmcloudsql==0.4.29) (6.0)\n",
      "Requirement already satisfied: nodeenv>=0.11.1 in /home/romeokienzler/.conda/envs/elyra/lib/python3.9/site-packages (from pre-commit->ibmcloudsql==0.4.29) (1.6.0)\n",
      "Requirement already satisfied: backports.entry-points-selectable>=1.0.4 in /home/romeokienzler/.conda/envs/elyra/lib/python3.9/site-packages (from virtualenv>=20.0.8->pre-commit->ibmcloudsql==0.4.29) (1.1.1)\n",
      "Requirement already satisfied: filelock<4,>=3.2 in /home/romeokienzler/.conda/envs/elyra/lib/python3.9/site-packages (from virtualenv>=20.0.8->pre-commit->ibmcloudsql==0.4.29) (3.4.0)\n",
      "Requirement already satisfied: platformdirs<3,>=2 in /home/romeokienzler/.conda/envs/elyra/lib/python3.9/site-packages (from virtualenv>=20.0.8->pre-commit->ibmcloudsql==0.4.29) (2.4.0)\n",
      "Requirement already satisfied: distlib<1,>=0.3.1 in /home/romeokienzler/.conda/envs/elyra/lib/python3.9/site-packages (from virtualenv>=20.0.8->pre-commit->ibmcloudsql==0.4.29) (0.3.3)\n",
      "SELECT * FROM cos://eu-de/claimed-test/data.parquet stored as parquet INTO cos://s3.eu-de.cloud-object-storage.appdomain.cloud/claimed-test/result STORED AS CSV\n"
     ]
    }
   ],
   "source": [
    "!ipython ibm-sql-query.ipynb"
   ]
  },
  {
   "cell_type": "code",
   "execution_count": 7,
   "id": "0f71d5ba-7d48-41a9-9253-5bee19f166f9",
   "metadata": {},
   "outputs": [],
   "source": [
    "%%bash\n",
    "# verify result existing\n",
    "if [ `ipython cloud-object-store-housekeeping.ipynb 2> /dev/null | grep result |wc -l` -eq 0 ]; then\n",
    "    echo 'creation failed'\n",
    "    exit -1\n",
    "fi"
   ]
  },
  {
   "cell_type": "code",
   "execution_count": 8,
   "id": "9af7177f-b171-46e1-96d2-8df78038cf30",
   "metadata": {
    "scrolled": true,
    "tags": []
   },
   "outputs": [
    {
     "name": "stdout",
     "output_type": "stream",
     "text": [
      "\u001b[22;0t\u001b]0;IPython: component-library/transform\u0007Requirement already satisfied: aiobotocore==2.0.1 in /home/romeokienzler/.conda/envs/elyra/lib/python3.9/site-packages (2.0.1)\n",
      "Requirement already satisfied: aiohttp>=3.3.1 in /home/romeokienzler/.conda/envs/elyra/lib/python3.9/site-packages (from aiobotocore==2.0.1) (3.8.1)\n",
      "Requirement already satisfied: botocore<1.22.9,>=1.22.8 in /home/romeokienzler/.conda/envs/elyra/lib/python3.9/site-packages (from aiobotocore==2.0.1) (1.22.8)\n",
      "Requirement already satisfied: aioitertools>=0.5.1 in /home/romeokienzler/.conda/envs/elyra/lib/python3.9/site-packages (from aiobotocore==2.0.1) (0.8.0)\n",
      "Requirement already satisfied: wrapt>=1.10.10 in /home/romeokienzler/.conda/envs/elyra/lib/python3.9/site-packages (from aiobotocore==2.0.1) (1.13.3)\n",
      "Requirement already satisfied: async-timeout<5.0,>=4.0.0a3 in /home/romeokienzler/.conda/envs/elyra/lib/python3.9/site-packages (from aiohttp>=3.3.1->aiobotocore==2.0.1) (4.0.1)\n",
      "Requirement already satisfied: attrs>=17.3.0 in /home/romeokienzler/.conda/envs/elyra/lib/python3.9/site-packages (from aiohttp>=3.3.1->aiobotocore==2.0.1) (21.2.0)\n",
      "Requirement already satisfied: multidict<7.0,>=4.5 in /home/romeokienzler/.conda/envs/elyra/lib/python3.9/site-packages (from aiohttp>=3.3.1->aiobotocore==2.0.1) (5.2.0)\n",
      "Requirement already satisfied: yarl<2.0,>=1.0 in /home/romeokienzler/.conda/envs/elyra/lib/python3.9/site-packages (from aiohttp>=3.3.1->aiobotocore==2.0.1) (1.7.2)\n",
      "Requirement already satisfied: charset-normalizer<3.0,>=2.0 in /home/romeokienzler/.conda/envs/elyra/lib/python3.9/site-packages (from aiohttp>=3.3.1->aiobotocore==2.0.1) (2.0.9)\n",
      "Requirement already satisfied: aiosignal>=1.1.2 in /home/romeokienzler/.conda/envs/elyra/lib/python3.9/site-packages (from aiohttp>=3.3.1->aiobotocore==2.0.1) (1.2.0)\n",
      "Requirement already satisfied: frozenlist>=1.1.1 in /home/romeokienzler/.conda/envs/elyra/lib/python3.9/site-packages (from aiohttp>=3.3.1->aiobotocore==2.0.1) (1.2.0)\n",
      "Requirement already satisfied: python-dateutil<3.0.0,>=2.1 in /home/romeokienzler/.local/lib/python3.9/site-packages (from botocore<1.22.9,>=1.22.8->aiobotocore==2.0.1) (2.8.2)\n",
      "Requirement already satisfied: jmespath<1.0.0,>=0.7.1 in /home/romeokienzler/.conda/envs/elyra/lib/python3.9/site-packages (from botocore<1.22.9,>=1.22.8->aiobotocore==2.0.1) (0.10.0)\n",
      "Requirement already satisfied: urllib3<1.27,>=1.25.4 in /home/romeokienzler/.conda/envs/elyra/lib/python3.9/site-packages (from botocore<1.22.9,>=1.22.8->aiobotocore==2.0.1) (1.26.7)\n",
      "Requirement already satisfied: typing-extensions>=3.6.5 in /home/romeokienzler/.conda/envs/elyra/lib/python3.9/site-packages (from async-timeout<5.0,>=4.0.0a3->aiohttp>=3.3.1->aiobotocore==2.0.1) (4.0.1)\n",
      "Requirement already satisfied: six>=1.5 in /home/romeokienzler/.local/lib/python3.9/site-packages (from python-dateutil<3.0.0,>=2.1->botocore<1.22.9,>=1.22.8->aiobotocore==2.0.1) (1.16.0)\n",
      "Requirement already satisfied: idna>=2.0 in /home/romeokienzler/.conda/envs/elyra/lib/python3.9/site-packages (from yarl<2.0,>=1.0->aiohttp>=3.3.1->aiobotocore==2.0.1) (3.3)\n",
      "Requirement already satisfied: botocore==1.22.8 in /home/romeokienzler/.conda/envs/elyra/lib/python3.9/site-packages (1.22.8)\n",
      "Requirement already satisfied: python-dateutil<3.0.0,>=2.1 in /home/romeokienzler/.local/lib/python3.9/site-packages (from botocore==1.22.8) (2.8.2)\n",
      "Requirement already satisfied: jmespath<1.0.0,>=0.7.1 in /home/romeokienzler/.conda/envs/elyra/lib/python3.9/site-packages (from botocore==1.22.8) (0.10.0)\n",
      "Requirement already satisfied: urllib3<1.27,>=1.25.4 in /home/romeokienzler/.conda/envs/elyra/lib/python3.9/site-packages (from botocore==1.22.8) (1.26.7)\n",
      "Requirement already satisfied: six>=1.5 in /home/romeokienzler/.local/lib/python3.9/site-packages (from python-dateutil<3.0.0,>=2.1->botocore==1.22.8) (1.16.0)\n",
      "Requirement already satisfied: s3fs==2021.11.1 in /home/romeokienzler/.conda/envs/elyra/lib/python3.9/site-packages (2021.11.1)\n",
      "Requirement already satisfied: fsspec==2021.11.1 in /home/romeokienzler/.conda/envs/elyra/lib/python3.9/site-packages (from s3fs==2021.11.1) (2021.11.1)\n",
      "Requirement already satisfied: aiohttp<=4 in /home/romeokienzler/.conda/envs/elyra/lib/python3.9/site-packages (from s3fs==2021.11.1) (3.8.1)\n",
      "Requirement already satisfied: aiobotocore~=2.0.1 in /home/romeokienzler/.conda/envs/elyra/lib/python3.9/site-packages (from s3fs==2021.11.1) (2.0.1)\n",
      "Requirement already satisfied: wrapt>=1.10.10 in /home/romeokienzler/.conda/envs/elyra/lib/python3.9/site-packages (from aiobotocore~=2.0.1->s3fs==2021.11.1) (1.13.3)\n",
      "Requirement already satisfied: botocore<1.22.9,>=1.22.8 in /home/romeokienzler/.conda/envs/elyra/lib/python3.9/site-packages (from aiobotocore~=2.0.1->s3fs==2021.11.1) (1.22.8)\n",
      "Requirement already satisfied: aioitertools>=0.5.1 in /home/romeokienzler/.conda/envs/elyra/lib/python3.9/site-packages (from aiobotocore~=2.0.1->s3fs==2021.11.1) (0.8.0)\n",
      "Requirement already satisfied: async-timeout<5.0,>=4.0.0a3 in /home/romeokienzler/.conda/envs/elyra/lib/python3.9/site-packages (from aiohttp<=4->s3fs==2021.11.1) (4.0.1)\n",
      "Requirement already satisfied: yarl<2.0,>=1.0 in /home/romeokienzler/.conda/envs/elyra/lib/python3.9/site-packages (from aiohttp<=4->s3fs==2021.11.1) (1.7.2)\n",
      "Requirement already satisfied: frozenlist>=1.1.1 in /home/romeokienzler/.conda/envs/elyra/lib/python3.9/site-packages (from aiohttp<=4->s3fs==2021.11.1) (1.2.0)\n",
      "Requirement already satisfied: aiosignal>=1.1.2 in /home/romeokienzler/.conda/envs/elyra/lib/python3.9/site-packages (from aiohttp<=4->s3fs==2021.11.1) (1.2.0)\n",
      "Requirement already satisfied: attrs>=17.3.0 in /home/romeokienzler/.conda/envs/elyra/lib/python3.9/site-packages (from aiohttp<=4->s3fs==2021.11.1) (21.2.0)\n",
      "Requirement already satisfied: multidict<7.0,>=4.5 in /home/romeokienzler/.conda/envs/elyra/lib/python3.9/site-packages (from aiohttp<=4->s3fs==2021.11.1) (5.2.0)\n",
      "Requirement already satisfied: charset-normalizer<3.0,>=2.0 in /home/romeokienzler/.conda/envs/elyra/lib/python3.9/site-packages (from aiohttp<=4->s3fs==2021.11.1) (2.0.9)\n",
      "Requirement already satisfied: typing-extensions>=3.6.5 in /home/romeokienzler/.conda/envs/elyra/lib/python3.9/site-packages (from async-timeout<5.0,>=4.0.0a3->aiohttp<=4->s3fs==2021.11.1) (4.0.1)\n",
      "Requirement already satisfied: jmespath<1.0.0,>=0.7.1 in /home/romeokienzler/.conda/envs/elyra/lib/python3.9/site-packages (from botocore<1.22.9,>=1.22.8->aiobotocore~=2.0.1->s3fs==2021.11.1) (0.10.0)\n",
      "Requirement already satisfied: python-dateutil<3.0.0,>=2.1 in /home/romeokienzler/.local/lib/python3.9/site-packages (from botocore<1.22.9,>=1.22.8->aiobotocore~=2.0.1->s3fs==2021.11.1) (2.8.2)\n",
      "Requirement already satisfied: urllib3<1.27,>=1.25.4 in /home/romeokienzler/.conda/envs/elyra/lib/python3.9/site-packages (from botocore<1.22.9,>=1.22.8->aiobotocore~=2.0.1->s3fs==2021.11.1) (1.26.7)\n",
      "Requirement already satisfied: idna>=2.0 in /home/romeokienzler/.conda/envs/elyra/lib/python3.9/site-packages (from yarl<2.0,>=1.0->aiohttp<=4->s3fs==2021.11.1) (3.3)\n",
      "Requirement already satisfied: six>=1.5 in /home/romeokienzler/.local/lib/python3.9/site-packages (from python-dateutil<3.0.0,>=2.1->botocore<1.22.9,>=1.22.8->aiobotocore~=2.0.1->s3fs==2021.11.1) (1.16.0)\n"
     ]
    },
    {
     "name": "stderr",
     "output_type": "stream",
     "text": [
      "WARNING:root:Parameter: operation=\"rm\"\n",
      "WARNING:root:Parameter: path=\"result\"\n"
     ]
    }
   ],
   "source": [
    "%%bash\n",
    "# delete result\n",
    "if [ `ipython cloud-object-store-housekeeping.ipynb 2> /dev/null | grep result |wc -l` -gt 0 ]; then\n",
    "    ipython cloud-object-store-housekeeping.ipynb operation=\"rm\" path=\"result\"\n",
    "fi"
   ]
  },
  {
   "cell_type": "code",
   "execution_count": 9,
   "id": "a788ed9f-b9a6-4073-9ed9-b870a4081624",
   "metadata": {},
   "outputs": [],
   "source": [
    "%%bash\n",
    "# verify result deleted\n",
    "if [ `ipython cloud-object-store-housekeeping.ipynb 2> /dev/null | grep result |wc -l` -gt 0 ]; then\n",
    "    echo 'deletion failed'\n",
    "    exit -1\n",
    "fi"
   ]
  },
  {
   "cell_type": "code",
   "execution_count": 10,
   "id": "0f1ecb54-384e-48bc-9b49-045403bcd47f",
   "metadata": {
    "scrolled": true,
    "tags": []
   },
   "outputs": [
    {
     "name": "stdout",
     "output_type": "stream",
     "text": [
      "\u001b[22;0t\u001b]0;IPython: component-library/transform\u0007Requirement already satisfied: ibmcloudsql==0.4.29 in /home/romeokienzler/.conda/envs/elyra/lib/python3.9/site-packages (0.4.29)\n",
      "Requirement already satisfied: importlib-metadata in /home/romeokienzler/.conda/envs/elyra/lib/python3.9/site-packages (from ibmcloudsql==0.4.29) (4.8.2)\n",
      "Requirement already satisfied: packaging in /home/romeokienzler/.conda/envs/elyra/lib/python3.9/site-packages (from ibmcloudsql==0.4.29) (21.3)\n",
      "Requirement already satisfied: backoff==1.10.0 in /home/romeokienzler/.conda/envs/elyra/lib/python3.9/site-packages (from ibmcloudsql==0.4.29) (1.10.0)\n",
      "Requirement already satisfied: numpy in /home/romeokienzler/.conda/envs/elyra/lib/python3.9/site-packages (from ibmcloudsql==0.4.29) (1.21.4)\n",
      "Requirement already satisfied: pyarrow in /home/romeokienzler/.conda/envs/elyra/lib/python3.9/site-packages (from ibmcloudsql==0.4.29) (6.0.1)\n",
      "Requirement already satisfied: ibm-cos-sdk-core>=2.7.0 in /home/romeokienzler/.conda/envs/elyra/lib/python3.9/site-packages (from ibmcloudsql==0.4.29) (2.11.0)\n",
      "Requirement already satisfied: ibm-cos-sdk>=2.7.0 in /home/romeokienzler/.conda/envs/elyra/lib/python3.9/site-packages (from ibmcloudsql==0.4.29) (2.11.0)\n",
      "Requirement already satisfied: pandas>=1.3.0 in /home/romeokienzler/.conda/envs/elyra/lib/python3.9/site-packages (from ibmcloudsql==0.4.29) (1.3.4)\n",
      "Requirement already satisfied: typing-extensions in /home/romeokienzler/.conda/envs/elyra/lib/python3.9/site-packages (from ibmcloudsql==0.4.29) (4.0.1)\n",
      "Requirement already satisfied: pre-commit in /home/romeokienzler/.conda/envs/elyra/lib/python3.9/site-packages (from ibmcloudsql==0.4.29) (2.16.0)\n",
      "Requirement already satisfied: sqlparse>=0.4.2 in /home/romeokienzler/.conda/envs/elyra/lib/python3.9/site-packages (from ibmcloudsql==0.4.29) (0.4.2)\n",
      "Requirement already satisfied: requests>=2.2.0 in /home/romeokienzler/.conda/envs/elyra/lib/python3.9/site-packages (from ibmcloudsql==0.4.29) (2.26.0)\n",
      "Requirement already satisfied: isodate in /home/romeokienzler/.conda/envs/elyra/lib/python3.9/site-packages (from ibmcloudsql==0.4.29) (0.6.0)\n",
      "Requirement already satisfied: ibm-cos-sdk-s3transfer==2.11.0 in /home/romeokienzler/.conda/envs/elyra/lib/python3.9/site-packages (from ibm-cos-sdk>=2.7.0->ibmcloudsql==0.4.29) (2.11.0)\n",
      "Requirement already satisfied: jmespath<1.0.0,>=0.7.1 in /home/romeokienzler/.conda/envs/elyra/lib/python3.9/site-packages (from ibm-cos-sdk>=2.7.0->ibmcloudsql==0.4.29) (0.10.0)\n",
      "Requirement already satisfied: urllib3<1.27,>=1.26.7 in /home/romeokienzler/.conda/envs/elyra/lib/python3.9/site-packages (from ibm-cos-sdk-core>=2.7.0->ibmcloudsql==0.4.29) (1.26.7)\n",
      "Requirement already satisfied: python-dateutil<3.0.0,>=2.1 in /home/romeokienzler/.local/lib/python3.9/site-packages (from ibm-cos-sdk-core>=2.7.0->ibmcloudsql==0.4.29) (2.8.2)\n",
      "Requirement already satisfied: pytz>=2017.3 in /home/romeokienzler/.conda/envs/elyra/lib/python3.9/site-packages (from pandas>=1.3.0->ibmcloudsql==0.4.29) (2021.3)\n",
      "Requirement already satisfied: certifi>=2017.4.17 in /home/romeokienzler/.conda/envs/elyra/lib/python3.9/site-packages (from requests>=2.2.0->ibmcloudsql==0.4.29) (2021.10.8)\n",
      "Requirement already satisfied: idna<4,>=2.5 in /home/romeokienzler/.conda/envs/elyra/lib/python3.9/site-packages (from requests>=2.2.0->ibmcloudsql==0.4.29) (3.3)\n",
      "Requirement already satisfied: charset-normalizer~=2.0.0 in /home/romeokienzler/.conda/envs/elyra/lib/python3.9/site-packages (from requests>=2.2.0->ibmcloudsql==0.4.29) (2.0.9)\n",
      "Requirement already satisfied: zipp>=0.5 in /home/romeokienzler/.conda/envs/elyra/lib/python3.9/site-packages (from importlib-metadata->ibmcloudsql==0.4.29) (3.6.0)\n",
      "Requirement already satisfied: six in /home/romeokienzler/.local/lib/python3.9/site-packages (from isodate->ibmcloudsql==0.4.29) (1.16.0)\n",
      "Requirement already satisfied: pyparsing!=3.0.5,>=2.0.2 in /home/romeokienzler/.conda/envs/elyra/lib/python3.9/site-packages (from packaging->ibmcloudsql==0.4.29) (3.0.6)\n",
      "Requirement already satisfied: identify>=1.0.0 in /home/romeokienzler/.conda/envs/elyra/lib/python3.9/site-packages (from pre-commit->ibmcloudsql==0.4.29) (2.4.0)\n",
      "Requirement already satisfied: pyyaml>=5.1 in /home/romeokienzler/.conda/envs/elyra/lib/python3.9/site-packages (from pre-commit->ibmcloudsql==0.4.29) (6.0)\n",
      "Requirement already satisfied: virtualenv>=20.0.8 in /home/romeokienzler/.conda/envs/elyra/lib/python3.9/site-packages (from pre-commit->ibmcloudsql==0.4.29) (20.10.0)\n",
      "Requirement already satisfied: cfgv>=2.0.0 in /home/romeokienzler/.conda/envs/elyra/lib/python3.9/site-packages (from pre-commit->ibmcloudsql==0.4.29) (3.3.1)\n",
      "Requirement already satisfied: toml in /home/romeokienzler/.conda/envs/elyra/lib/python3.9/site-packages (from pre-commit->ibmcloudsql==0.4.29) (0.10.2)\n",
      "Requirement already satisfied: nodeenv>=0.11.1 in /home/romeokienzler/.conda/envs/elyra/lib/python3.9/site-packages (from pre-commit->ibmcloudsql==0.4.29) (1.6.0)\n",
      "Requirement already satisfied: filelock<4,>=3.2 in /home/romeokienzler/.conda/envs/elyra/lib/python3.9/site-packages (from virtualenv>=20.0.8->pre-commit->ibmcloudsql==0.4.29) (3.4.0)\n",
      "Requirement already satisfied: distlib<1,>=0.3.1 in /home/romeokienzler/.conda/envs/elyra/lib/python3.9/site-packages (from virtualenv>=20.0.8->pre-commit->ibmcloudsql==0.4.29) (0.3.3)\n",
      "Requirement already satisfied: platformdirs<3,>=2 in /home/romeokienzler/.conda/envs/elyra/lib/python3.9/site-packages (from virtualenv>=20.0.8->pre-commit->ibmcloudsql==0.4.29) (2.4.0)\n",
      "Requirement already satisfied: backports.entry-points-selectable>=1.0.4 in /home/romeokienzler/.conda/envs/elyra/lib/python3.9/site-packages (from virtualenv>=20.0.8->pre-commit->ibmcloudsql==0.4.29) (1.1.1)\n",
      "WARNING:root:Parameter: out_format=\"parquet\"\n",
      "SELECT * FROM cos://eu-de/claimed-test/data.parquet stored as parquet INTO cos://s3.eu-de.cloud-object-storage.appdomain.cloud/claimed-test/result STORED AS parquet\n"
     ]
    }
   ],
   "source": [
    "!ipython ibm-sql-query.ipynb out_format='parquet'"
   ]
  },
  {
   "cell_type": "code",
   "execution_count": 11,
   "id": "66a1449c-25d7-4bed-9194-5296ae2410bd",
   "metadata": {
    "tags": []
   },
   "outputs": [],
   "source": [
    "%%bash\n",
    "# verify result existing\n",
    "if [ `ipython cloud-object-store-housekeeping.ipynb 2> /dev/null | grep result |wc -l` -eq 0 ]; then\n",
    "    echo 'creation failed'\n",
    "    exit -1\n",
    "fi"
   ]
  },
  {
   "cell_type": "code",
   "execution_count": 12,
   "id": "c080cb30-2f8d-43a7-b0ed-a08c390c4e62",
   "metadata": {
    "scrolled": true,
    "tags": []
   },
   "outputs": [
    {
     "name": "stdout",
     "output_type": "stream",
     "text": [
      "\u001b[22;0t\u001b]0;IPython: component-library/transform\u0007Requirement already satisfied: aiobotocore==2.0.1 in /home/romeokienzler/.conda/envs/elyra/lib/python3.9/site-packages (2.0.1)\n",
      "Requirement already satisfied: wrapt>=1.10.10 in /home/romeokienzler/.conda/envs/elyra/lib/python3.9/site-packages (from aiobotocore==2.0.1) (1.13.3)\n",
      "Requirement already satisfied: aiohttp>=3.3.1 in /home/romeokienzler/.conda/envs/elyra/lib/python3.9/site-packages (from aiobotocore==2.0.1) (3.8.1)\n",
      "Requirement already satisfied: aioitertools>=0.5.1 in /home/romeokienzler/.conda/envs/elyra/lib/python3.9/site-packages (from aiobotocore==2.0.1) (0.8.0)\n",
      "Requirement already satisfied: botocore<1.22.9,>=1.22.8 in /home/romeokienzler/.conda/envs/elyra/lib/python3.9/site-packages (from aiobotocore==2.0.1) (1.22.8)\n",
      "Requirement already satisfied: attrs>=17.3.0 in /home/romeokienzler/.conda/envs/elyra/lib/python3.9/site-packages (from aiohttp>=3.3.1->aiobotocore==2.0.1) (21.2.0)\n",
      "Requirement already satisfied: async-timeout<5.0,>=4.0.0a3 in /home/romeokienzler/.conda/envs/elyra/lib/python3.9/site-packages (from aiohttp>=3.3.1->aiobotocore==2.0.1) (4.0.1)\n",
      "Requirement already satisfied: aiosignal>=1.1.2 in /home/romeokienzler/.conda/envs/elyra/lib/python3.9/site-packages (from aiohttp>=3.3.1->aiobotocore==2.0.1) (1.2.0)\n",
      "Requirement already satisfied: charset-normalizer<3.0,>=2.0 in /home/romeokienzler/.conda/envs/elyra/lib/python3.9/site-packages (from aiohttp>=3.3.1->aiobotocore==2.0.1) (2.0.9)\n",
      "Requirement already satisfied: multidict<7.0,>=4.5 in /home/romeokienzler/.conda/envs/elyra/lib/python3.9/site-packages (from aiohttp>=3.3.1->aiobotocore==2.0.1) (5.2.0)\n",
      "Requirement already satisfied: yarl<2.0,>=1.0 in /home/romeokienzler/.conda/envs/elyra/lib/python3.9/site-packages (from aiohttp>=3.3.1->aiobotocore==2.0.1) (1.7.2)\n",
      "Requirement already satisfied: frozenlist>=1.1.1 in /home/romeokienzler/.conda/envs/elyra/lib/python3.9/site-packages (from aiohttp>=3.3.1->aiobotocore==2.0.1) (1.2.0)\n",
      "Requirement already satisfied: python-dateutil<3.0.0,>=2.1 in /home/romeokienzler/.local/lib/python3.9/site-packages (from botocore<1.22.9,>=1.22.8->aiobotocore==2.0.1) (2.8.2)\n",
      "Requirement already satisfied: jmespath<1.0.0,>=0.7.1 in /home/romeokienzler/.conda/envs/elyra/lib/python3.9/site-packages (from botocore<1.22.9,>=1.22.8->aiobotocore==2.0.1) (0.10.0)\n",
      "Requirement already satisfied: urllib3<1.27,>=1.25.4 in /home/romeokienzler/.conda/envs/elyra/lib/python3.9/site-packages (from botocore<1.22.9,>=1.22.8->aiobotocore==2.0.1) (1.26.7)\n",
      "Requirement already satisfied: typing-extensions>=3.6.5 in /home/romeokienzler/.conda/envs/elyra/lib/python3.9/site-packages (from async-timeout<5.0,>=4.0.0a3->aiohttp>=3.3.1->aiobotocore==2.0.1) (4.0.1)\n",
      "Requirement already satisfied: six>=1.5 in /home/romeokienzler/.local/lib/python3.9/site-packages (from python-dateutil<3.0.0,>=2.1->botocore<1.22.9,>=1.22.8->aiobotocore==2.0.1) (1.16.0)\n",
      "Requirement already satisfied: idna>=2.0 in /home/romeokienzler/.conda/envs/elyra/lib/python3.9/site-packages (from yarl<2.0,>=1.0->aiohttp>=3.3.1->aiobotocore==2.0.1) (3.3)\n",
      "Requirement already satisfied: botocore==1.22.8 in /home/romeokienzler/.conda/envs/elyra/lib/python3.9/site-packages (1.22.8)\n",
      "Requirement already satisfied: urllib3<1.27,>=1.25.4 in /home/romeokienzler/.conda/envs/elyra/lib/python3.9/site-packages (from botocore==1.22.8) (1.26.7)\n",
      "Requirement already satisfied: python-dateutil<3.0.0,>=2.1 in /home/romeokienzler/.local/lib/python3.9/site-packages (from botocore==1.22.8) (2.8.2)\n",
      "Requirement already satisfied: jmespath<1.0.0,>=0.7.1 in /home/romeokienzler/.conda/envs/elyra/lib/python3.9/site-packages (from botocore==1.22.8) (0.10.0)\n",
      "Requirement already satisfied: six>=1.5 in /home/romeokienzler/.local/lib/python3.9/site-packages (from python-dateutil<3.0.0,>=2.1->botocore==1.22.8) (1.16.0)\n",
      "Requirement already satisfied: s3fs==2021.11.1 in /home/romeokienzler/.conda/envs/elyra/lib/python3.9/site-packages (2021.11.1)\n",
      "Requirement already satisfied: aiobotocore~=2.0.1 in /home/romeokienzler/.conda/envs/elyra/lib/python3.9/site-packages (from s3fs==2021.11.1) (2.0.1)\n",
      "Requirement already satisfied: aiohttp<=4 in /home/romeokienzler/.conda/envs/elyra/lib/python3.9/site-packages (from s3fs==2021.11.1) (3.8.1)\n",
      "Requirement already satisfied: fsspec==2021.11.1 in /home/romeokienzler/.conda/envs/elyra/lib/python3.9/site-packages (from s3fs==2021.11.1) (2021.11.1)\n",
      "Requirement already satisfied: aioitertools>=0.5.1 in /home/romeokienzler/.conda/envs/elyra/lib/python3.9/site-packages (from aiobotocore~=2.0.1->s3fs==2021.11.1) (0.8.0)\n",
      "Requirement already satisfied: botocore<1.22.9,>=1.22.8 in /home/romeokienzler/.conda/envs/elyra/lib/python3.9/site-packages (from aiobotocore~=2.0.1->s3fs==2021.11.1) (1.22.8)\n",
      "Requirement already satisfied: wrapt>=1.10.10 in /home/romeokienzler/.conda/envs/elyra/lib/python3.9/site-packages (from aiobotocore~=2.0.1->s3fs==2021.11.1) (1.13.3)\n",
      "Requirement already satisfied: charset-normalizer<3.0,>=2.0 in /home/romeokienzler/.conda/envs/elyra/lib/python3.9/site-packages (from aiohttp<=4->s3fs==2021.11.1) (2.0.9)\n",
      "Requirement already satisfied: async-timeout<5.0,>=4.0.0a3 in /home/romeokienzler/.conda/envs/elyra/lib/python3.9/site-packages (from aiohttp<=4->s3fs==2021.11.1) (4.0.1)\n",
      "Requirement already satisfied: aiosignal>=1.1.2 in /home/romeokienzler/.conda/envs/elyra/lib/python3.9/site-packages (from aiohttp<=4->s3fs==2021.11.1) (1.2.0)\n",
      "Requirement already satisfied: frozenlist>=1.1.1 in /home/romeokienzler/.conda/envs/elyra/lib/python3.9/site-packages (from aiohttp<=4->s3fs==2021.11.1) (1.2.0)\n",
      "Requirement already satisfied: yarl<2.0,>=1.0 in /home/romeokienzler/.conda/envs/elyra/lib/python3.9/site-packages (from aiohttp<=4->s3fs==2021.11.1) (1.7.2)\n",
      "Requirement already satisfied: attrs>=17.3.0 in /home/romeokienzler/.conda/envs/elyra/lib/python3.9/site-packages (from aiohttp<=4->s3fs==2021.11.1) (21.2.0)\n",
      "Requirement already satisfied: multidict<7.0,>=4.5 in /home/romeokienzler/.conda/envs/elyra/lib/python3.9/site-packages (from aiohttp<=4->s3fs==2021.11.1) (5.2.0)\n",
      "Requirement already satisfied: typing-extensions>=3.6.5 in /home/romeokienzler/.conda/envs/elyra/lib/python3.9/site-packages (from async-timeout<5.0,>=4.0.0a3->aiohttp<=4->s3fs==2021.11.1) (4.0.1)\n",
      "Requirement already satisfied: python-dateutil<3.0.0,>=2.1 in /home/romeokienzler/.local/lib/python3.9/site-packages (from botocore<1.22.9,>=1.22.8->aiobotocore~=2.0.1->s3fs==2021.11.1) (2.8.2)\n",
      "Requirement already satisfied: jmespath<1.0.0,>=0.7.1 in /home/romeokienzler/.conda/envs/elyra/lib/python3.9/site-packages (from botocore<1.22.9,>=1.22.8->aiobotocore~=2.0.1->s3fs==2021.11.1) (0.10.0)\n",
      "Requirement already satisfied: urllib3<1.27,>=1.25.4 in /home/romeokienzler/.conda/envs/elyra/lib/python3.9/site-packages (from botocore<1.22.9,>=1.22.8->aiobotocore~=2.0.1->s3fs==2021.11.1) (1.26.7)\n",
      "Requirement already satisfied: idna>=2.0 in /home/romeokienzler/.conda/envs/elyra/lib/python3.9/site-packages (from yarl<2.0,>=1.0->aiohttp<=4->s3fs==2021.11.1) (3.3)\n",
      "Requirement already satisfied: six>=1.5 in /home/romeokienzler/.local/lib/python3.9/site-packages (from python-dateutil<3.0.0,>=2.1->botocore<1.22.9,>=1.22.8->aiobotocore~=2.0.1->s3fs==2021.11.1) (1.16.0)\n"
     ]
    },
    {
     "name": "stderr",
     "output_type": "stream",
     "text": [
      "WARNING:root:Parameter: operation=\"rm\"\n",
      "WARNING:root:Parameter: path=\"result\"\n"
     ]
    }
   ],
   "source": [
    "%%bash\n",
    "# delete result\n",
    "if [ `ipython cloud-object-store-housekeeping.ipynb 2> /dev/null | grep result |wc -l` -gt 0 ]; then\n",
    "    ipython cloud-object-store-housekeeping.ipynb operation=\"rm\" path=\"result\"\n",
    "fi"
   ]
  },
  {
   "cell_type": "code",
   "execution_count": 13,
   "id": "84369b66-35b1-4509-ad0b-860684069e26",
   "metadata": {},
   "outputs": [],
   "source": [
    "%%bash\n",
    "# verify result deleted\n",
    "if [ `ipython cloud-object-store-housekeeping.ipynb 2> /dev/null | grep result |wc -l` -gt 0 ]; then\n",
    "    echo 'deletion failed'\n",
    "    exit -1\n",
    "fi"
   ]
  },
  {
   "cell_type": "code",
   "execution_count": 14,
   "id": "8ebc20cc-0b8f-4e1b-b9ba-7e7d4db87f4f",
   "metadata": {
    "scrolled": true,
    "tags": []
   },
   "outputs": [
    {
     "name": "stdout",
     "output_type": "stream",
     "text": [
      "\u001b[22;0t\u001b]0;IPython: component-library/transform\u0007Requirement already satisfied: ibmcloudsql==0.4.29 in /home/romeokienzler/.conda/envs/elyra/lib/python3.9/site-packages (0.4.29)\n",
      "Requirement already satisfied: numpy in /home/romeokienzler/.conda/envs/elyra/lib/python3.9/site-packages (from ibmcloudsql==0.4.29) (1.21.4)\n",
      "Requirement already satisfied: pyarrow in /home/romeokienzler/.conda/envs/elyra/lib/python3.9/site-packages (from ibmcloudsql==0.4.29) (6.0.1)\n",
      "Requirement already satisfied: sqlparse>=0.4.2 in /home/romeokienzler/.conda/envs/elyra/lib/python3.9/site-packages (from ibmcloudsql==0.4.29) (0.4.2)\n",
      "Requirement already satisfied: requests>=2.2.0 in /home/romeokienzler/.conda/envs/elyra/lib/python3.9/site-packages (from ibmcloudsql==0.4.29) (2.26.0)\n",
      "Requirement already satisfied: ibm-cos-sdk-core>=2.7.0 in /home/romeokienzler/.conda/envs/elyra/lib/python3.9/site-packages (from ibmcloudsql==0.4.29) (2.11.0)\n",
      "Requirement already satisfied: pre-commit in /home/romeokienzler/.conda/envs/elyra/lib/python3.9/site-packages (from ibmcloudsql==0.4.29) (2.16.0)\n",
      "Requirement already satisfied: backoff==1.10.0 in /home/romeokienzler/.conda/envs/elyra/lib/python3.9/site-packages (from ibmcloudsql==0.4.29) (1.10.0)\n",
      "Requirement already satisfied: ibm-cos-sdk>=2.7.0 in /home/romeokienzler/.conda/envs/elyra/lib/python3.9/site-packages (from ibmcloudsql==0.4.29) (2.11.0)\n",
      "Requirement already satisfied: typing-extensions in /home/romeokienzler/.conda/envs/elyra/lib/python3.9/site-packages (from ibmcloudsql==0.4.29) (4.0.1)\n",
      "Requirement already satisfied: pandas>=1.3.0 in /home/romeokienzler/.conda/envs/elyra/lib/python3.9/site-packages (from ibmcloudsql==0.4.29) (1.3.4)\n",
      "Requirement already satisfied: importlib-metadata in /home/romeokienzler/.conda/envs/elyra/lib/python3.9/site-packages (from ibmcloudsql==0.4.29) (4.8.2)\n",
      "Requirement already satisfied: isodate in /home/romeokienzler/.conda/envs/elyra/lib/python3.9/site-packages (from ibmcloudsql==0.4.29) (0.6.0)\n",
      "Requirement already satisfied: packaging in /home/romeokienzler/.conda/envs/elyra/lib/python3.9/site-packages (from ibmcloudsql==0.4.29) (21.3)\n",
      "Requirement already satisfied: jmespath<1.0.0,>=0.7.1 in /home/romeokienzler/.conda/envs/elyra/lib/python3.9/site-packages (from ibm-cos-sdk>=2.7.0->ibmcloudsql==0.4.29) (0.10.0)\n",
      "Requirement already satisfied: ibm-cos-sdk-s3transfer==2.11.0 in /home/romeokienzler/.conda/envs/elyra/lib/python3.9/site-packages (from ibm-cos-sdk>=2.7.0->ibmcloudsql==0.4.29) (2.11.0)\n",
      "Requirement already satisfied: urllib3<1.27,>=1.26.7 in /home/romeokienzler/.conda/envs/elyra/lib/python3.9/site-packages (from ibm-cos-sdk-core>=2.7.0->ibmcloudsql==0.4.29) (1.26.7)\n",
      "Requirement already satisfied: python-dateutil<3.0.0,>=2.1 in /home/romeokienzler/.local/lib/python3.9/site-packages (from ibm-cos-sdk-core>=2.7.0->ibmcloudsql==0.4.29) (2.8.2)\n",
      "Requirement already satisfied: pytz>=2017.3 in /home/romeokienzler/.conda/envs/elyra/lib/python3.9/site-packages (from pandas>=1.3.0->ibmcloudsql==0.4.29) (2021.3)\n",
      "Requirement already satisfied: idna<4,>=2.5 in /home/romeokienzler/.conda/envs/elyra/lib/python3.9/site-packages (from requests>=2.2.0->ibmcloudsql==0.4.29) (3.3)\n",
      "Requirement already satisfied: charset-normalizer~=2.0.0 in /home/romeokienzler/.conda/envs/elyra/lib/python3.9/site-packages (from requests>=2.2.0->ibmcloudsql==0.4.29) (2.0.9)\n",
      "Requirement already satisfied: certifi>=2017.4.17 in /home/romeokienzler/.conda/envs/elyra/lib/python3.9/site-packages (from requests>=2.2.0->ibmcloudsql==0.4.29) (2021.10.8)\n",
      "Requirement already satisfied: zipp>=0.5 in /home/romeokienzler/.conda/envs/elyra/lib/python3.9/site-packages (from importlib-metadata->ibmcloudsql==0.4.29) (3.6.0)\n",
      "Requirement already satisfied: six in /home/romeokienzler/.local/lib/python3.9/site-packages (from isodate->ibmcloudsql==0.4.29) (1.16.0)\n",
      "Requirement already satisfied: pyparsing!=3.0.5,>=2.0.2 in /home/romeokienzler/.conda/envs/elyra/lib/python3.9/site-packages (from packaging->ibmcloudsql==0.4.29) (3.0.6)\n",
      "Requirement already satisfied: virtualenv>=20.0.8 in /home/romeokienzler/.conda/envs/elyra/lib/python3.9/site-packages (from pre-commit->ibmcloudsql==0.4.29) (20.10.0)\n",
      "Requirement already satisfied: nodeenv>=0.11.1 in /home/romeokienzler/.conda/envs/elyra/lib/python3.9/site-packages (from pre-commit->ibmcloudsql==0.4.29) (1.6.0)\n",
      "Requirement already satisfied: toml in /home/romeokienzler/.conda/envs/elyra/lib/python3.9/site-packages (from pre-commit->ibmcloudsql==0.4.29) (0.10.2)\n",
      "Requirement already satisfied: cfgv>=2.0.0 in /home/romeokienzler/.conda/envs/elyra/lib/python3.9/site-packages (from pre-commit->ibmcloudsql==0.4.29) (3.3.1)\n",
      "Requirement already satisfied: identify>=1.0.0 in /home/romeokienzler/.conda/envs/elyra/lib/python3.9/site-packages (from pre-commit->ibmcloudsql==0.4.29) (2.4.0)\n",
      "Requirement already satisfied: pyyaml>=5.1 in /home/romeokienzler/.conda/envs/elyra/lib/python3.9/site-packages (from pre-commit->ibmcloudsql==0.4.29) (6.0)\n",
      "Requirement already satisfied: distlib<1,>=0.3.1 in /home/romeokienzler/.conda/envs/elyra/lib/python3.9/site-packages (from virtualenv>=20.0.8->pre-commit->ibmcloudsql==0.4.29) (0.3.3)\n",
      "Requirement already satisfied: platformdirs<3,>=2 in /home/romeokienzler/.conda/envs/elyra/lib/python3.9/site-packages (from virtualenv>=20.0.8->pre-commit->ibmcloudsql==0.4.29) (2.4.0)\n",
      "Requirement already satisfied: backports.entry-points-selectable>=1.0.4 in /home/romeokienzler/.conda/envs/elyra/lib/python3.9/site-packages (from virtualenv>=20.0.8->pre-commit->ibmcloudsql==0.4.29) (1.1.1)\n",
      "Requirement already satisfied: filelock<4,>=3.2 in /home/romeokienzler/.conda/envs/elyra/lib/python3.9/site-packages (from virtualenv>=20.0.8->pre-commit->ibmcloudsql==0.4.29) (3.4.0)\n",
      "WARNING:root:Parameter: out_partition_columns=\"x,y,z\"\n",
      "Traceback \u001b[0;36m(most recent call last)\u001b[0m:\n",
      "\n",
      "  File \u001b[1;32m\"/home/romeokienzler/gitco/new_horizons/elyra/venv/lib64/python3.8/site-packages/ibmcloudsql/SQLQuery.py\"\u001b[0m, line \u001b[1;32m403\u001b[0m, in \u001b[1;35m_send_req\u001b[0m\n",
      "    response.raise_for_status()\n",
      "\n",
      "\u001b[0;36m  File \u001b[0;32m\"/home/romeokienzler/gitco/new_horizons/elyra/venv/lib64/python3.8/site-packages/requests/models.py\"\u001b[0;36m, line \u001b[0;32m953\u001b[0;36m, in \u001b[0;35mraise_for_status\u001b[0;36m\u001b[0m\n",
      "\u001b[0;31m    raise HTTPError(http_error_msg, response=self)\u001b[0m\n",
      "\n",
      "\u001b[0;31mHTTPError\u001b[0m\u001b[0;31m:\u001b[0m 400 Client Error: Bad Request for url: https://api.sql-query.cloud.ibm.com/v2/sql_jobs?instance_crn=crn:v1:bluemix:public:sql-query:us-south:a/9b13b857a32341b7167255de717172f5:f9dd6c9e-b24b-4506-819e-e038c92339e4::\n",
      "\n",
      "\n",
      "During handling of the above exception, another exception occurred:\n",
      "\n",
      "Traceback \u001b[0;36m(most recent call last)\u001b[0m:\n",
      "\n",
      "  File \u001b[1;32m\"/home/romeokienzler/gitco/new_horizons/elyra/venv/lib64/python3.8/site-packages/IPython/core/interactiveshell.py\"\u001b[0m, line \u001b[1;32m3444\u001b[0m, in \u001b[1;35mrun_code\u001b[0m\n",
      "    exec(code_obj, self.user_global_ns, self.user_ns)\n",
      "\n",
      "  File \u001b[1;32m\"<ipython-input-1-5f03e5087e8e>\"\u001b[0m, line \u001b[1;32m39\u001b[0m, in \u001b[1;35m<module>\u001b[0m\n",
      "    sqlClient.run_sql(sql)\n",
      "\n",
      "  File \u001b[1;32m\"/home/romeokienzler/gitco/new_horizons/elyra/venv/lib64/python3.8/site-packages/ibmcloudsql/SQLQuery.py\"\u001b[0m, line \u001b[1;32m1533\u001b[0m, in \u001b[1;35mrun_sql\u001b[0m\n",
      "    job_id = self.submit_sql(sql_text, pagesize)\n",
      "\n",
      "  File \u001b[1;32m\"/home/romeokienzler/gitco/new_horizons/elyra/venv/lib64/python3.8/site-packages/ibmcloudsql/SQLQuery.py\"\u001b[0m, line \u001b[1;32m560\u001b[0m, in \u001b[1;35msubmit_sql\u001b[0m\n",
      "    return intrumented_send(sqlData)\n",
      "\n",
      "  File \u001b[1;32m\"/home/romeokienzler/gitco/new_horizons/elyra/venv/lib64/python3.8/site-packages/backoff/_sync.py\"\u001b[0m, line \u001b[1;32m94\u001b[0m, in \u001b[1;35mretry\u001b[0m\n",
      "    ret = target(*args, **kwargs)\n",
      "\n",
      "\u001b[0;36m  File \u001b[0;32m\"/home/romeokienzler/gitco/new_horizons/elyra/venv/lib64/python3.8/site-packages/ibmcloudsql/SQLQuery.py\"\u001b[0;36m, line \u001b[0;32m430\u001b[0;36m, in \u001b[0;35m_send_req\u001b[0;36m\u001b[0m\n",
      "\u001b[0;31m    raise SyntaxError(error_message)\u001b[0m\n",
      "\n",
      "\u001b[0;36m  File \u001b[0;32m\"<string>\"\u001b[0;36m, line \u001b[0;32munknown\u001b[0m\n",
      "\u001b[0;31mSyntaxError\u001b[0m\u001b[0;31m:\u001b[0m SQL submission failed (400): SQL syntax validation failed. Syntax error at line 1:170 mismatched input 'STORED' expecting <EOF> - {'statement': 'SELECT * FROM cos://eu-de/claimed-test/data.parquet stored as '\n",
      "              'parquet INTO '\n",
      "              'cos://s3.eu-de.cloud-object-storage.appdomain.cloud/claimed-test/result '\n",
      "              'PARTITIONED BY (x,y,z) STORED AS CSV'}\n",
      "\n"
     ]
    }
   ],
   "source": [
    "!ipython ibm-sql-query.ipynb out_partition_columns='x,y,z'"
   ]
  },
  {
   "cell_type": "code",
   "execution_count": 15,
   "id": "6005f6ec-f2f3-4f51-8e0c-45d1032adbe7",
   "metadata": {
    "tags": []
   },
   "outputs": [
    {
     "name": "stdout",
     "output_type": "stream",
     "text": [
      "creation failed, number of partitions < 1000\n"
     ]
    },
    {
     "ename": "CalledProcessError",
     "evalue": "Command 'b'# verify result existing and corrent number of partitions\\nif [ `ipython cloud-object-store-housekeeping.ipynb operation=\"walk\" path=\"result\" 2> /dev/null |grep result |wc -l` -lt 1000 ]; then\\n    echo \\'creation failed, number of partitions < 1000\\'\\n    exit -1\\nfi\\n'' returned non-zero exit status 255.",
     "output_type": "error",
     "traceback": [
      "\u001b[0;31m---------------------------------------------------------------------------\u001b[0m",
      "\u001b[0;31mCalledProcessError\u001b[0m                        Traceback (most recent call last)",
      "\u001b[0;32m/tmp/ipykernel_173288/277017802.py\u001b[0m in \u001b[0;36m<module>\u001b[0;34m\u001b[0m\n\u001b[0;32m----> 1\u001b[0;31m \u001b[0mget_ipython\u001b[0m\u001b[0;34m(\u001b[0m\u001b[0;34m)\u001b[0m\u001b[0;34m.\u001b[0m\u001b[0mrun_cell_magic\u001b[0m\u001b[0;34m(\u001b[0m\u001b[0;34m'bash'\u001b[0m\u001b[0;34m,\u001b[0m \u001b[0;34m''\u001b[0m\u001b[0;34m,\u001b[0m \u001b[0;34m'# verify result existing and corrent number of partitions\\nif [ `ipython cloud-object-store-housekeeping.ipynb operation=\"walk\" path=\"result\" 2> /dev/null |grep result |wc -l` -lt 1000 ]; then\\n    echo \\'creation failed, number of partitions < 1000\\'\\n    exit -1\\nfi\\n'\u001b[0m\u001b[0;34m)\u001b[0m\u001b[0;34m\u001b[0m\u001b[0;34m\u001b[0m\u001b[0m\n\u001b[0m",
      "\u001b[0;32m~/gitco/new_horizons/elyra/venv/lib64/python3.8/site-packages/IPython/core/interactiveshell.py\u001b[0m in \u001b[0;36mrun_cell_magic\u001b[0;34m(self, magic_name, line, cell)\u001b[0m\n\u001b[1;32m   2404\u001b[0m             \u001b[0;32mwith\u001b[0m \u001b[0mself\u001b[0m\u001b[0;34m.\u001b[0m\u001b[0mbuiltin_trap\u001b[0m\u001b[0;34m:\u001b[0m\u001b[0;34m\u001b[0m\u001b[0;34m\u001b[0m\u001b[0m\n\u001b[1;32m   2405\u001b[0m                 \u001b[0margs\u001b[0m \u001b[0;34m=\u001b[0m \u001b[0;34m(\u001b[0m\u001b[0mmagic_arg_s\u001b[0m\u001b[0;34m,\u001b[0m \u001b[0mcell\u001b[0m\u001b[0;34m)\u001b[0m\u001b[0;34m\u001b[0m\u001b[0;34m\u001b[0m\u001b[0m\n\u001b[0;32m-> 2406\u001b[0;31m                 \u001b[0mresult\u001b[0m \u001b[0;34m=\u001b[0m \u001b[0mfn\u001b[0m\u001b[0;34m(\u001b[0m\u001b[0;34m*\u001b[0m\u001b[0margs\u001b[0m\u001b[0;34m,\u001b[0m \u001b[0;34m**\u001b[0m\u001b[0mkwargs\u001b[0m\u001b[0;34m)\u001b[0m\u001b[0;34m\u001b[0m\u001b[0;34m\u001b[0m\u001b[0m\n\u001b[0m\u001b[1;32m   2407\u001b[0m             \u001b[0;32mreturn\u001b[0m \u001b[0mresult\u001b[0m\u001b[0;34m\u001b[0m\u001b[0;34m\u001b[0m\u001b[0m\n\u001b[1;32m   2408\u001b[0m \u001b[0;34m\u001b[0m\u001b[0m\n",
      "\u001b[0;32m~/gitco/new_horizons/elyra/venv/lib64/python3.8/site-packages/IPython/core/magics/script.py\u001b[0m in \u001b[0;36mnamed_script_magic\u001b[0;34m(line, cell)\u001b[0m\n\u001b[1;32m    140\u001b[0m             \u001b[0;32melse\u001b[0m\u001b[0;34m:\u001b[0m\u001b[0;34m\u001b[0m\u001b[0;34m\u001b[0m\u001b[0m\n\u001b[1;32m    141\u001b[0m                 \u001b[0mline\u001b[0m \u001b[0;34m=\u001b[0m \u001b[0mscript\u001b[0m\u001b[0;34m\u001b[0m\u001b[0;34m\u001b[0m\u001b[0m\n\u001b[0;32m--> 142\u001b[0;31m             \u001b[0;32mreturn\u001b[0m \u001b[0mself\u001b[0m\u001b[0;34m.\u001b[0m\u001b[0mshebang\u001b[0m\u001b[0;34m(\u001b[0m\u001b[0mline\u001b[0m\u001b[0;34m,\u001b[0m \u001b[0mcell\u001b[0m\u001b[0;34m)\u001b[0m\u001b[0;34m\u001b[0m\u001b[0;34m\u001b[0m\u001b[0m\n\u001b[0m\u001b[1;32m    143\u001b[0m \u001b[0;34m\u001b[0m\u001b[0m\n\u001b[1;32m    144\u001b[0m         \u001b[0;31m# write a basic docstring:\u001b[0m\u001b[0;34m\u001b[0m\u001b[0;34m\u001b[0m\u001b[0;34m\u001b[0m\u001b[0m\n",
      "\u001b[0;32m~/gitco/new_horizons/elyra/venv/lib64/python3.8/site-packages/decorator.py\u001b[0m in \u001b[0;36mfun\u001b[0;34m(*args, **kw)\u001b[0m\n\u001b[1;32m    230\u001b[0m             \u001b[0;32mif\u001b[0m \u001b[0;32mnot\u001b[0m \u001b[0mkwsyntax\u001b[0m\u001b[0;34m:\u001b[0m\u001b[0;34m\u001b[0m\u001b[0;34m\u001b[0m\u001b[0m\n\u001b[1;32m    231\u001b[0m                 \u001b[0margs\u001b[0m\u001b[0;34m,\u001b[0m \u001b[0mkw\u001b[0m \u001b[0;34m=\u001b[0m \u001b[0mfix\u001b[0m\u001b[0;34m(\u001b[0m\u001b[0margs\u001b[0m\u001b[0;34m,\u001b[0m \u001b[0mkw\u001b[0m\u001b[0;34m,\u001b[0m \u001b[0msig\u001b[0m\u001b[0;34m)\u001b[0m\u001b[0;34m\u001b[0m\u001b[0;34m\u001b[0m\u001b[0m\n\u001b[0;32m--> 232\u001b[0;31m             \u001b[0;32mreturn\u001b[0m \u001b[0mcaller\u001b[0m\u001b[0;34m(\u001b[0m\u001b[0mfunc\u001b[0m\u001b[0;34m,\u001b[0m \u001b[0;34m*\u001b[0m\u001b[0;34m(\u001b[0m\u001b[0mextras\u001b[0m \u001b[0;34m+\u001b[0m \u001b[0margs\u001b[0m\u001b[0;34m)\u001b[0m\u001b[0;34m,\u001b[0m \u001b[0;34m**\u001b[0m\u001b[0mkw\u001b[0m\u001b[0;34m)\u001b[0m\u001b[0;34m\u001b[0m\u001b[0;34m\u001b[0m\u001b[0m\n\u001b[0m\u001b[1;32m    233\u001b[0m     \u001b[0mfun\u001b[0m\u001b[0;34m.\u001b[0m\u001b[0m__name__\u001b[0m \u001b[0;34m=\u001b[0m \u001b[0mfunc\u001b[0m\u001b[0;34m.\u001b[0m\u001b[0m__name__\u001b[0m\u001b[0;34m\u001b[0m\u001b[0;34m\u001b[0m\u001b[0m\n\u001b[1;32m    234\u001b[0m     \u001b[0mfun\u001b[0m\u001b[0;34m.\u001b[0m\u001b[0m__doc__\u001b[0m \u001b[0;34m=\u001b[0m \u001b[0mfunc\u001b[0m\u001b[0;34m.\u001b[0m\u001b[0m__doc__\u001b[0m\u001b[0;34m\u001b[0m\u001b[0;34m\u001b[0m\u001b[0m\n",
      "\u001b[0;32m~/gitco/new_horizons/elyra/venv/lib64/python3.8/site-packages/IPython/core/magic.py\u001b[0m in \u001b[0;36m<lambda>\u001b[0;34m(f, *a, **k)\u001b[0m\n\u001b[1;32m    185\u001b[0m     \u001b[0;31m# but it's overkill for just that one bit of state.\u001b[0m\u001b[0;34m\u001b[0m\u001b[0;34m\u001b[0m\u001b[0;34m\u001b[0m\u001b[0m\n\u001b[1;32m    186\u001b[0m     \u001b[0;32mdef\u001b[0m \u001b[0mmagic_deco\u001b[0m\u001b[0;34m(\u001b[0m\u001b[0marg\u001b[0m\u001b[0;34m)\u001b[0m\u001b[0;34m:\u001b[0m\u001b[0;34m\u001b[0m\u001b[0;34m\u001b[0m\u001b[0m\n\u001b[0;32m--> 187\u001b[0;31m         \u001b[0mcall\u001b[0m \u001b[0;34m=\u001b[0m \u001b[0;32mlambda\u001b[0m \u001b[0mf\u001b[0m\u001b[0;34m,\u001b[0m \u001b[0;34m*\u001b[0m\u001b[0ma\u001b[0m\u001b[0;34m,\u001b[0m \u001b[0;34m**\u001b[0m\u001b[0mk\u001b[0m\u001b[0;34m:\u001b[0m \u001b[0mf\u001b[0m\u001b[0;34m(\u001b[0m\u001b[0;34m*\u001b[0m\u001b[0ma\u001b[0m\u001b[0;34m,\u001b[0m \u001b[0;34m**\u001b[0m\u001b[0mk\u001b[0m\u001b[0;34m)\u001b[0m\u001b[0;34m\u001b[0m\u001b[0;34m\u001b[0m\u001b[0m\n\u001b[0m\u001b[1;32m    188\u001b[0m \u001b[0;34m\u001b[0m\u001b[0m\n\u001b[1;32m    189\u001b[0m         \u001b[0;32mif\u001b[0m \u001b[0mcallable\u001b[0m\u001b[0;34m(\u001b[0m\u001b[0marg\u001b[0m\u001b[0;34m)\u001b[0m\u001b[0;34m:\u001b[0m\u001b[0;34m\u001b[0m\u001b[0;34m\u001b[0m\u001b[0m\n",
      "\u001b[0;32m~/gitco/new_horizons/elyra/venv/lib64/python3.8/site-packages/IPython/core/magics/script.py\u001b[0m in \u001b[0;36mshebang\u001b[0;34m(self, line, cell)\u001b[0m\n\u001b[1;32m    243\u001b[0m             \u001b[0msys\u001b[0m\u001b[0;34m.\u001b[0m\u001b[0mstderr\u001b[0m\u001b[0;34m.\u001b[0m\u001b[0mflush\u001b[0m\u001b[0;34m(\u001b[0m\u001b[0;34m)\u001b[0m\u001b[0;34m\u001b[0m\u001b[0;34m\u001b[0m\u001b[0m\n\u001b[1;32m    244\u001b[0m         \u001b[0;32mif\u001b[0m \u001b[0margs\u001b[0m\u001b[0;34m.\u001b[0m\u001b[0mraise_error\u001b[0m \u001b[0;32mand\u001b[0m \u001b[0mp\u001b[0m\u001b[0;34m.\u001b[0m\u001b[0mreturncode\u001b[0m\u001b[0;34m!=\u001b[0m\u001b[0;36m0\u001b[0m\u001b[0;34m:\u001b[0m\u001b[0;34m\u001b[0m\u001b[0;34m\u001b[0m\u001b[0m\n\u001b[0;32m--> 245\u001b[0;31m             \u001b[0;32mraise\u001b[0m \u001b[0mCalledProcessError\u001b[0m\u001b[0;34m(\u001b[0m\u001b[0mp\u001b[0m\u001b[0;34m.\u001b[0m\u001b[0mreturncode\u001b[0m\u001b[0;34m,\u001b[0m \u001b[0mcell\u001b[0m\u001b[0;34m,\u001b[0m \u001b[0moutput\u001b[0m\u001b[0;34m=\u001b[0m\u001b[0mout\u001b[0m\u001b[0;34m,\u001b[0m \u001b[0mstderr\u001b[0m\u001b[0;34m=\u001b[0m\u001b[0merr\u001b[0m\u001b[0;34m)\u001b[0m\u001b[0;34m\u001b[0m\u001b[0;34m\u001b[0m\u001b[0m\n\u001b[0m\u001b[1;32m    246\u001b[0m \u001b[0;34m\u001b[0m\u001b[0m\n\u001b[1;32m    247\u001b[0m     \u001b[0;32mdef\u001b[0m \u001b[0m_run_script\u001b[0m\u001b[0;34m(\u001b[0m\u001b[0mself\u001b[0m\u001b[0;34m,\u001b[0m \u001b[0mp\u001b[0m\u001b[0;34m,\u001b[0m \u001b[0mcell\u001b[0m\u001b[0;34m,\u001b[0m \u001b[0mto_close\u001b[0m\u001b[0;34m)\u001b[0m\u001b[0;34m:\u001b[0m\u001b[0;34m\u001b[0m\u001b[0;34m\u001b[0m\u001b[0m\n",
      "\u001b[0;31mCalledProcessError\u001b[0m: Command 'b'# verify result existing and corrent number of partitions\\nif [ `ipython cloud-object-store-housekeeping.ipynb operation=\"walk\" path=\"result\" 2> /dev/null |grep result |wc -l` -lt 1000 ]; then\\n    echo \\'creation failed, number of partitions < 1000\\'\\n    exit -1\\nfi\\n'' returned non-zero exit status 255."
     ]
    }
   ],
   "source": [
    "%%bash\n",
    "# verify result existing and corrent number of partitions\n",
    "if [ `ipython cloud-object-store-housekeeping.ipynb operation=\"walk\" path=\"result\" 2> /dev/null |grep result |wc -l` -lt 1000 ]; then\n",
    "    echo 'creation failed, number of partitions < 1000'\n",
    "    exit -1\n",
    "fi"
   ]
  },
  {
   "cell_type": "code",
   "execution_count": null,
   "id": "bee20853-2578-4915-af89-31e814a4cb36",
   "metadata": {
    "scrolled": true,
    "tags": []
   },
   "outputs": [],
   "source": [
    "%%bash\n",
    "# delete result\n",
    "if [ `ipython cloud-object-store-housekeeping.ipynb 2> /dev/null | grep result |wc -l` -gt 0 ]; then\n",
    "    ipython cloud-object-store-housekeeping.ipynb operation=\"rm\" path=\"result\"\n",
    "fi"
   ]
  },
  {
   "cell_type": "code",
   "execution_count": null,
   "id": "2934f4a0-8ed8-491b-8f3c-8c7d27810210",
   "metadata": {},
   "outputs": [],
   "source": [
    "%%bash\n",
    "# verify result deleted\n",
    "if [ `ipython cloud-object-store-housekeeping.ipynb 2> /dev/null | grep result |wc -l` -gt 0 ]; then\n",
    "    echo 'deletion failed'\n",
    "    exit -1\n",
    "fi"
   ]
  },
  {
   "cell_type": "code",
   "execution_count": null,
   "id": "df8072ed-7198-4b5d-9586-7ea546785c8a",
   "metadata": {
    "scrolled": true,
    "tags": []
   },
   "outputs": [],
   "source": [
    "!ipython ibm-sql-query.ipynb out_partition_columns='x,y,z' out_format='parquet'"
   ]
  },
  {
   "cell_type": "code",
   "execution_count": null,
   "id": "860cdb15-9736-4374-b6ed-9aca6f651a4d",
   "metadata": {
    "tags": []
   },
   "outputs": [],
   "source": [
    "%%bash\n",
    "# verify result existing and corrent number of partitions\n",
    "if [ `ipython cloud-object-store-housekeeping.ipynb operation=\"walk\" path=\"result\" 2> /dev/null |grep result |wc -l` -lt 1000 ]; then\n",
    "    echo 'creation failed, number of partitions < 1000'\n",
    "    exit -1\n",
    "fi"
   ]
  },
  {
   "cell_type": "code",
   "execution_count": null,
   "id": "4ad716d5-8fe9-41f7-b9df-7c2f91f99f69",
   "metadata": {
    "scrolled": true,
    "tags": []
   },
   "outputs": [],
   "source": [
    "%%bash\n",
    "# delete result\n",
    "if [ `ipython cloud-object-store-housekeeping.ipynb 2> /dev/null | grep result |wc -l` -gt 0 ]; then\n",
    "    ipython cloud-object-store-housekeeping.ipynb operation=\"rm\" path=\"result\"\n",
    "fi"
   ]
  },
  {
   "cell_type": "code",
   "execution_count": null,
   "id": "0048e10b-65d6-465f-9d88-0abc7076a79c",
   "metadata": {},
   "outputs": [],
   "source": [
    "%%bash\n",
    "# verify result deleted\n",
    "if [ `ipython cloud-object-store-housekeeping.ipynb 2> /dev/null | grep result |wc -l` -gt 0 ]; then\n",
    "    echo 'deletion failed'\n",
    "    exit -1\n",
    "fi"
   ]
  },
  {
   "cell_type": "markdown",
   "id": "9961c5b8-932b-45f4-a256-e8cdc85592fd",
   "metadata": {
    "tags": []
   },
   "source": [
    "# TEST"
   ]
  },
  {
   "cell_type": "code",
   "execution_count": null,
   "id": "b655d0f4-4ced-4042-a357-9a32d348f714",
   "metadata": {
    "scrolled": true,
    "tags": []
   },
   "outputs": [],
   "source": [
    "!ipython ibm-sql-query.ipynb out_format='parquet' out_partition_columns='x,y,z' out_number_of_objects=\"42\""
   ]
  },
  {
   "cell_type": "code",
   "execution_count": null,
   "id": "67e5e80a-01ad-469b-96c5-5dfec353d0ce",
   "metadata": {
    "tags": []
   },
   "outputs": [],
   "source": [
    "%%bash\n",
    "# verify result existing and corrent number of partitions\n",
    "if [ `ipython cloud-object-store-housekeeping.ipynb operation=\"walk\" path=\"result\" 2> /dev/null |grep result |wc -l` -ne 2 ]; then\n",
    "    echo 'creation failed, number of partitions <> 2'\n",
    "    exit -1\n",
    "fi"
   ]
  },
  {
   "cell_type": "code",
   "execution_count": null,
   "id": "8557895e-af81-49c6-ac30-a2c422756091",
   "metadata": {
    "scrolled": true,
    "tags": []
   },
   "outputs": [],
   "source": [
    "%%bash\n",
    "# delete result\n",
    "if [ `ipython cloud-object-store-housekeeping.ipynb 2> /dev/null | grep result |wc -l` -gt 0 ]; then\n",
    "    ipython cloud-object-store-housekeeping.ipynb operation=\"rm\" path=\"result\"\n",
    "fi"
   ]
  },
  {
   "cell_type": "code",
   "execution_count": null,
   "id": "90aba535-edcb-452a-97b4-6d18a2bb2de0",
   "metadata": {},
   "outputs": [],
   "source": [
    "%%bash\n",
    "# verify result deleted\n",
    "if [ `ipython cloud-object-store-housekeeping.ipynb 2> /dev/null | grep result |wc -l` -gt 0 ]; then\n",
    "    echo 'deletion failed'\n",
    "    exit -1\n",
    "fi"
   ]
  },
  {
   "cell_type": "markdown",
   "id": "0a3d14b0-a4fe-492d-85e3-af807f888a6b",
   "metadata": {
    "tags": []
   },
   "source": [
    "# TEST"
   ]
  },
  {
   "cell_type": "code",
   "execution_count": null,
   "id": "b2789ab7-f7ad-4089-9c4e-5bd96f898361",
   "metadata": {
    "scrolled": true,
    "tags": []
   },
   "outputs": [],
   "source": [
    "!ipython ibm-sql-query.ipynb out_format='parquet' out_partition_columns='x,y,z' out_number_of_objects=\"42\" out_rows_per_object=\"23\""
   ]
  },
  {
   "cell_type": "code",
   "execution_count": null,
   "id": "bf0cbb88-784f-4bb3-a25d-b79660883552",
   "metadata": {
    "tags": []
   },
   "outputs": [],
   "source": [
    "%%bash\n",
    "# verify result existing and corrent number of partitions\n",
    "if [ `ipython cloud-object-store-housekeeping.ipynb operation=\"walk\" path=\"result\" 2> /dev/null |grep result |wc -l` -ne 2 ]; then\n",
    "    echo 'creation failed, number of partitions <> 2'\n",
    "    exit -1\n",
    "fi"
   ]
  },
  {
   "cell_type": "code",
   "execution_count": null,
   "id": "f5f617ee-7bd2-4d4f-95a0-a8a7600c18a2",
   "metadata": {
    "scrolled": true,
    "tags": []
   },
   "outputs": [],
   "source": [
    "%%bash\n",
    "# delete result\n",
    "if [ `ipython cloud-object-store-housekeeping.ipynb 2> /dev/null | grep result |wc -l` -gt 0 ]; then\n",
    "    ipython cloud-object-store-housekeeping.ipynb operation=\"rm\" path=\"result\"\n",
    "fi"
   ]
  },
  {
   "cell_type": "code",
   "execution_count": null,
   "id": "9f909de5-1165-4f44-bbcd-90d2b586397a",
   "metadata": {},
   "outputs": [],
   "source": [
    "%%bash\n",
    "# verify result deleted\n",
    "if [ `ipython cloud-object-store-housekeeping.ipynb 2> /dev/null | grep result |wc -l` -gt 0 ]; then\n",
    "    echo 'deletion failed'\n",
    "    exit -1\n",
    "fi"
   ]
  },
  {
   "cell_type": "markdown",
   "id": "b659db1d-2b4b-4ed4-94fd-3d870da7409e",
   "metadata": {
    "tags": []
   },
   "source": [
    "# TEST"
   ]
  },
  {
   "cell_type": "code",
   "execution_count": null,
   "id": "0bfeab55-3723-45bf-86be-0767e15efc1f",
   "metadata": {
    "scrolled": true,
    "tags": []
   },
   "outputs": [],
   "source": [
    "!ipython ibm-sql-query.ipynb out_format='parquet' out_exact_name='True'"
   ]
  },
  {
   "cell_type": "code",
   "execution_count": null,
   "id": "3f3cbe1f-aeb4-4c71-92a4-ab12101e6470",
   "metadata": {
    "tags": []
   },
   "outputs": [],
   "source": [
    "%%bash\n",
    "# verify result existing and corrent number of partitions\n",
    "if [ `ipython cloud-object-store-housekeeping.ipynb operation=\"walk\" path=\"result\" 2> /dev/null |grep result |wc -l` -ne 1 ]; then\n",
    "    echo 'creation failed, number of results <> 1'\n",
    "    exit -1\n",
    "fi"
   ]
  },
  {
   "cell_type": "code",
   "execution_count": null,
   "id": "96725ac9-36e7-4ba7-b481-8e8a6002db3f",
   "metadata": {
    "scrolled": true,
    "tags": []
   },
   "outputs": [],
   "source": [
    "%%bash\n",
    "# delete result\n",
    "if [ `ipython cloud-object-store-housekeeping.ipynb 2> /dev/null | grep result |wc -l` -gt 0 ]; then\n",
    "    ipython cloud-object-store-housekeeping.ipynb operation=\"rm\" path=\"result\"\n",
    "fi"
   ]
  },
  {
   "cell_type": "code",
   "execution_count": null,
   "id": "e109a936-d78e-4fc3-9580-d0c8e31e6bde",
   "metadata": {},
   "outputs": [],
   "source": [
    "%%bash\n",
    "# verify result deleted\n",
    "if [ `ipython cloud-object-store-housekeeping.ipynb 2> /dev/null | grep result |wc -l` -gt 0 ]; then\n",
    "    echo 'deletion failed'\n",
    "    exit -1\n",
    "fi"
   ]
  },
  {
   "cell_type": "markdown",
   "id": "fd31214a-ae75-44f7-a6a6-8cca0cb8a182",
   "metadata": {
    "tags": []
   },
   "source": [
    "# TEST"
   ]
  },
  {
   "cell_type": "code",
   "execution_count": null,
   "id": "e609250e-2cd6-461a-9a73-934ec76aa525",
   "metadata": {
    "scrolled": true,
    "tags": []
   },
   "outputs": [],
   "source": [
    "!ipython ibm-sql-query.ipynb out_exact_name='True'"
   ]
  },
  {
   "cell_type": "code",
   "execution_count": null,
   "id": "18b8aae3-23b5-4825-93c8-80d385ef4d49",
   "metadata": {
    "tags": []
   },
   "outputs": [],
   "source": [
    "%%bash\n",
    "# verify result existing and corrent number of partitions\n",
    "if [ `ipython cloud-object-store-housekeeping.ipynb operation=\"walk\" path=\"result\" 2> /dev/null |grep result |wc -l` -ne 1 ]; then\n",
    "    echo 'creation failed, number of results <> 1'\n",
    "    exit -1\n",
    "fi"
   ]
  },
  {
   "cell_type": "code",
   "execution_count": null,
   "id": "d48ef004-ed08-4d51-b9ef-0a9e7ce85a90",
   "metadata": {
    "scrolled": true,
    "tags": []
   },
   "outputs": [],
   "source": [
    "%%bash\n",
    "# delete result\n",
    "if [ `ipython cloud-object-store-housekeeping.ipynb 2> /dev/null | grep result |wc -l` -gt 0 ]; then\n",
    "    ipython cloud-object-store-housekeeping.ipynb operation=\"rm\" path=\"result\"\n",
    "fi"
   ]
  },
  {
   "cell_type": "code",
   "execution_count": null,
   "id": "3d938f6c-2b28-4414-ab05-1ef8b8318544",
   "metadata": {},
   "outputs": [],
   "source": [
    "%%bash\n",
    "# verify result deleted\n",
    "if [ `ipython cloud-object-store-housekeeping.ipynb 2> /dev/null | grep result |wc -l` -gt 0 ]; then\n",
    "    echo 'deletion failed'\n",
    "    exit -1\n",
    "fi"
   ]
  },
  {
   "cell_type": "markdown",
   "id": "85dfd4f1-e125-4ca0-bb55-77d71f3e1eff",
   "metadata": {
    "tags": []
   },
   "source": [
    "# TEST"
   ]
  },
  {
   "cell_type": "code",
   "execution_count": null,
   "id": "88baeafe-7303-43bf-93ef-7433e2b1b3c6",
   "metadata": {
    "scrolled": true,
    "tags": []
   },
   "outputs": [],
   "source": [
    "!ipython ibm-sql-query.ipynb out_exact_name='True' out_no_jobid_folder='True'"
   ]
  },
  {
   "cell_type": "code",
   "execution_count": null,
   "id": "23a7f766-e695-4bcb-a0e2-cf04a88500f3",
   "metadata": {
    "scrolled": true,
    "tags": []
   },
   "outputs": [],
   "source": [
    "!ipython cloud-object-store-housekeeping.ipynb operation=\"walk\" path=\"result\""
   ]
  },
  {
   "cell_type": "code",
   "execution_count": null,
   "id": "dac25036-7881-4b50-aab5-a9aebbee77a1",
   "metadata": {
    "tags": []
   },
   "outputs": [],
   "source": [
    "%%bash\n",
    "# verify result existing and corrent number of partitions\n",
    "if [ `ipython cloud-object-store-housekeeping.ipynb operation=\"walk\" path=\"result\" 2> /dev/null |grep result |wc -l` -ne 1 ]; then\n",
    "    echo 'creation failed, number of results <> 1'\n",
    "    exit -1\n",
    "fi"
   ]
  },
  {
   "cell_type": "code",
   "execution_count": null,
   "id": "1d8c917b-ef8c-4a50-b720-ca5617f7a583",
   "metadata": {
    "scrolled": true,
    "tags": []
   },
   "outputs": [],
   "source": [
    "%%bash\n",
    "# delete result\n",
    "if [ `ipython cloud-object-store-housekeeping.ipynb 2> /dev/null | grep result |wc -l` -gt 0 ]; then\n",
    "    ipython cloud-object-store-housekeeping.ipynb operation=\"rm\" path=\"result\"\n",
    "fi"
   ]
  },
  {
   "cell_type": "code",
   "execution_count": null,
   "id": "92d13a38-28b6-4bf8-b77b-397e6f6a56fd",
   "metadata": {},
   "outputs": [],
   "source": [
    "%%bash\n",
    "# verify result deleted\n",
    "if [ `ipython cloud-object-store-housekeeping.ipynb 2> /dev/null | grep result |wc -l` -gt 0 ]; then\n",
    "    echo 'deletion failed'\n",
    "    exit -1\n",
    "fi"
   ]
  }
 ],
 "metadata": {
  "kernelspec": {
   "display_name": "Python 3 (ipykernel)",
   "language": "python",
   "name": "python3"
  },
  "language_info": {
   "codemirror_mode": {
    "name": "ipython",
    "version": 3
   },
   "file_extension": ".py",
   "mimetype": "text/x-python",
   "name": "python",
   "nbconvert_exporter": "python",
   "pygments_lexer": "ipython3",
   "version": "3.8.6"
  },
  "papermill": {
   "default_parameters": {},
   "duration": 470.538548,
   "end_time": "2021-03-22T20:37:13.369954",
   "environment_variables": {},
   "exception": null,
   "input_path": "/home/jovyan/work/examples/pipelines/pairs/component-library/transform/spark-csv-to-parquet.ipynb",
   "output_path": "/home/jovyan/work/examples/pipelines/pairs/component-library/transform/spark-csv-to-parquet.ipynb",
   "parameters": {},
   "start_time": "2021-03-22T20:29:22.831406",
   "version": "2.3.3"
  }
 },
 "nbformat": 4,
 "nbformat_minor": 5
}
