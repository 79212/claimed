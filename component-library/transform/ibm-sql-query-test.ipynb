{
 "cells": [
  {
   "cell_type": "code",
   "execution_count": 1,
   "id": "c42b885f-2551-495a-8deb-4f7f6e755db8",
   "metadata": {},
   "outputs": [],
   "source": [
    "import configparser\n",
    "import os"
   ]
  },
  {
   "cell_type": "code",
   "execution_count": 4,
   "id": "7461ab98-07c3-49b8-b648-a1cfc383de62",
   "metadata": {},
   "outputs": [],
   "source": [
    "config = configparser.ConfigParser()\n",
    "config.read('ibm-sql-query.secrets')\n",
    "config  = config['DEFAULT']\n",
    "for key in config:  \n",
    "    exec('{}=\"{}\"'.format(key,config[key]))\n",
    "    os.environ[key] = config[key]"
   ]
  },
  {
   "cell_type": "code",
   "execution_count": 19,
   "id": "c64a2466-2c43-43ed-98b1-f7dd5d1b5ca2",
   "metadata": {
    "scrolled": true,
    "tags": []
   },
   "outputs": [],
   "source": [
    "%%bash\n",
    "# delete result\n",
    "if [ `ipython cloud-object-store-housekeeping.ipynb 2> /dev/null | grep result |wc -l` -gt 0 ]; then\n",
    "    ipython cloud-object-store-housekeeping.ipynb operation=\"rm\" delete_file=\"result\"\n",
    "fi"
   ]
  },
  {
   "cell_type": "code",
   "execution_count": 23,
   "id": "d51ee3e0-e16a-4236-9c59-1067a256b898",
   "metadata": {},
   "outputs": [],
   "source": [
    "%%bash\n",
    "# verify result deleted\n",
    "if [ `ipython cloud-object-store-housekeeping.ipynb 2> /dev/null | grep result |wc -l` -gt 0 ]; then\n",
    "    echo 'deletion failed'\n",
    "    exit -1\n",
    "fi"
   ]
  },
  {
   "cell_type": "code",
   "execution_count": 31,
   "id": "015db1a1-532b-4676-8e36-078f9790dd06",
   "metadata": {
    "scrolled": true,
    "tags": []
   },
   "outputs": [
    {
     "name": "stdout",
     "output_type": "stream",
     "text": [
      "\u001b[22;0t\u001b]0;IPython: component-library/transform\u0007Requirement already satisfied: ibmcloudsql==0.4.29 in /home/romeokienzler/gitco/new_horizons/elyra/venv/lib/python3.8/site-packages (0.4.29)\n",
      "Requirement already satisfied: isodate in /home/romeokienzler/gitco/new_horizons/elyra/venv/lib/python3.8/site-packages (from ibmcloudsql==0.4.29) (0.6.0)\n",
      "Requirement already satisfied: pandas>=1.3.0 in /home/romeokienzler/gitco/new_horizons/elyra/venv/lib/python3.8/site-packages (from ibmcloudsql==0.4.29) (1.3.4)\n",
      "Requirement already satisfied: sqlparse>=0.4.2 in /home/romeokienzler/gitco/new_horizons/elyra/venv/lib/python3.8/site-packages (from ibmcloudsql==0.4.29) (0.4.2)\n",
      "Requirement already satisfied: packaging in /home/romeokienzler/gitco/new_horizons/elyra/venv/lib/python3.8/site-packages (from ibmcloudsql==0.4.29) (21.3)\n",
      "Requirement already satisfied: ibm-cos-sdk-core>=2.7.0 in /home/romeokienzler/gitco/new_horizons/elyra/venv/lib/python3.8/site-packages (from ibmcloudsql==0.4.29) (2.11.0)\n",
      "Requirement already satisfied: pyarrow in /home/romeokienzler/gitco/new_horizons/elyra/venv/lib/python3.8/site-packages (from ibmcloudsql==0.4.29) (6.0.1)\n",
      "Requirement already satisfied: typing-extensions in /home/romeokienzler/gitco/new_horizons/elyra/venv/lib/python3.8/site-packages (from ibmcloudsql==0.4.29) (3.10.0.2)\n",
      "Requirement already satisfied: pre-commit in /home/romeokienzler/gitco/new_horizons/elyra/venv/lib/python3.8/site-packages (from ibmcloudsql==0.4.29) (2.15.0)\n",
      "Requirement already satisfied: requests>=2.2.0 in /home/romeokienzler/gitco/new_horizons/elyra/venv/lib/python3.8/site-packages (from ibmcloudsql==0.4.29) (2.26.0)\n",
      "Requirement already satisfied: importlib-metadata in /home/romeokienzler/gitco/new_horizons/elyra/venv/lib/python3.8/site-packages (from ibmcloudsql==0.4.29) (4.8.2)\n",
      "Requirement already satisfied: numpy in /home/romeokienzler/gitco/new_horizons/elyra/venv/lib/python3.8/site-packages (from ibmcloudsql==0.4.29) (1.21.4)\n",
      "Requirement already satisfied: ibm-cos-sdk>=2.7.0 in /home/romeokienzler/gitco/new_horizons/elyra/venv/lib/python3.8/site-packages (from ibmcloudsql==0.4.29) (2.11.0)\n",
      "Requirement already satisfied: backoff==1.10.0 in /home/romeokienzler/gitco/new_horizons/elyra/venv/lib/python3.8/site-packages (from ibmcloudsql==0.4.29) (1.10.0)\n",
      "Requirement already satisfied: six in /home/romeokienzler/gitco/new_horizons/elyra/venv/lib/python3.8/site-packages (from isodate->ibmcloudsql==0.4.29) (1.16.0)\n",
      "Requirement already satisfied: python-dateutil>=2.7.3 in /home/romeokienzler/gitco/new_horizons/elyra/venv/lib/python3.8/site-packages (from pandas>=1.3.0->ibmcloudsql==0.4.29) (2.8.2)\n",
      "Requirement already satisfied: pytz>=2017.3 in /home/romeokienzler/gitco/new_horizons/elyra/venv/lib/python3.8/site-packages (from pandas>=1.3.0->ibmcloudsql==0.4.29) (2021.3)\n",
      "Requirement already satisfied: pyparsing!=3.0.5,>=2.0.2 in /home/romeokienzler/gitco/new_horizons/elyra/venv/lib/python3.8/site-packages (from packaging->ibmcloudsql==0.4.29) (3.0.6)\n",
      "Requirement already satisfied: urllib3<1.27,>=1.26.7 in /home/romeokienzler/gitco/new_horizons/elyra/venv/lib/python3.8/site-packages (from ibm-cos-sdk-core>=2.7.0->ibmcloudsql==0.4.29) (1.26.7)\n",
      "Requirement already satisfied: jmespath<1.0.0,>=0.7.1 in /home/romeokienzler/gitco/new_horizons/elyra/venv/lib/python3.8/site-packages (from ibm-cos-sdk-core>=2.7.0->ibmcloudsql==0.4.29) (0.10.0)\n",
      "Requirement already satisfied: toml in /home/romeokienzler/gitco/new_horizons/elyra/venv/lib/python3.8/site-packages (from pre-commit->ibmcloudsql==0.4.29) (0.10.2)\n",
      "Requirement already satisfied: pyyaml>=5.1 in /home/romeokienzler/gitco/new_horizons/elyra/venv/lib/python3.8/site-packages (from pre-commit->ibmcloudsql==0.4.29) (5.4.1)\n",
      "Requirement already satisfied: cfgv>=2.0.0 in /home/romeokienzler/gitco/new_horizons/elyra/venv/lib/python3.8/site-packages (from pre-commit->ibmcloudsql==0.4.29) (3.3.1)\n",
      "Requirement already satisfied: identify>=1.0.0 in /home/romeokienzler/gitco/new_horizons/elyra/venv/lib/python3.8/site-packages (from pre-commit->ibmcloudsql==0.4.29) (2.4.0)\n",
      "Requirement already satisfied: virtualenv>=20.0.8 in /home/romeokienzler/gitco/new_horizons/elyra/venv/lib/python3.8/site-packages (from pre-commit->ibmcloudsql==0.4.29) (20.10.0)\n",
      "Requirement already satisfied: nodeenv>=0.11.1 in /home/romeokienzler/gitco/new_horizons/elyra/venv/lib/python3.8/site-packages (from pre-commit->ibmcloudsql==0.4.29) (1.6.0)\n",
      "Requirement already satisfied: idna<4,>=2.5; python_version >= \"3\" in /home/romeokienzler/gitco/new_horizons/elyra/venv/lib/python3.8/site-packages (from requests>=2.2.0->ibmcloudsql==0.4.29) (3.3)\n",
      "Requirement already satisfied: charset-normalizer~=2.0.0; python_version >= \"3\" in /home/romeokienzler/gitco/new_horizons/elyra/venv/lib/python3.8/site-packages (from requests>=2.2.0->ibmcloudsql==0.4.29) (2.0.7)\n",
      "Requirement already satisfied: certifi>=2017.4.17 in /home/romeokienzler/gitco/new_horizons/elyra/venv/lib/python3.8/site-packages (from requests>=2.2.0->ibmcloudsql==0.4.29) (2021.10.8)\n",
      "Requirement already satisfied: zipp>=0.5 in /home/romeokienzler/gitco/new_horizons/elyra/venv/lib/python3.8/site-packages (from importlib-metadata->ibmcloudsql==0.4.29) (3.6.0)\n",
      "Requirement already satisfied: ibm-cos-sdk-s3transfer==2.11.0 in /home/romeokienzler/gitco/new_horizons/elyra/venv/lib/python3.8/site-packages (from ibm-cos-sdk>=2.7.0->ibmcloudsql==0.4.29) (2.11.0)\n",
      "Requirement already satisfied: distlib<1,>=0.3.1 in /home/romeokienzler/gitco/new_horizons/elyra/venv/lib/python3.8/site-packages (from virtualenv>=20.0.8->pre-commit->ibmcloudsql==0.4.29) (0.3.3)\n",
      "Requirement already satisfied: backports.entry-points-selectable>=1.0.4 in /home/romeokienzler/gitco/new_horizons/elyra/venv/lib/python3.8/site-packages (from virtualenv>=20.0.8->pre-commit->ibmcloudsql==0.4.29) (1.1.1)\n",
      "Requirement already satisfied: filelock<4,>=3.2 in /home/romeokienzler/gitco/new_horizons/elyra/venv/lib/python3.8/site-packages (from virtualenv>=20.0.8->pre-commit->ibmcloudsql==0.4.29) (3.4.0)\n",
      "Requirement already satisfied: platformdirs<3,>=2 in /home/romeokienzler/gitco/new_horizons/elyra/venv/lib/python3.8/site-packages (from virtualenv>=20.0.8->pre-commit->ibmcloudsql==0.4.29) (2.4.0)\n",
      "\u001b[33mWARNING: You are using pip version 19.3.1; however, version 21.3.1 is available.\n",
      "You should consider upgrading via the 'pip install --upgrade pip' command.\u001b[0m\n",
      "WARNING:root:Parameter: output_uri=\"cos://s3.eu-de.cloud-object-storage.appdomain.cloud/claimed-test/result\"\n",
      "WARNING:root:Parameter: api_key=\"aZqT57Z6wcaoPqJiiYCxRgW8ewWf5UPhFvMcvl_yfgQ7\"\n",
      "WARNING:root:Parameter: sql_query_crn=\"crn:v1:bluemix:public:sql-query:us-south:a/9b13b857a32341b7167255de717172f5:f9dd6c9e-b24b-4506-819e-e038c92339e4::\"\n",
      "WARNING:root:Parameter: sql=\"SELECT * FROM cos://eu-de/claimed-test/data.parquet\"\n"
     ]
    }
   ],
   "source": [
    "!ipython ibm-sql-query.ipynb output_uri=\"{output_uri}\" api_key=\"{api_key}\"  sql_query_crn=\"{sql_query_crn}\" sql=\"{sql}\" "
   ]
  },
  {
   "cell_type": "code",
   "execution_count": 24,
   "id": "5c13f791-7bb6-46f1-9d01-31363235259d",
   "metadata": {
    "scrolled": true,
    "tags": []
   },
   "outputs": [
    {
     "name": "stdout",
     "output_type": "stream",
     "text": [
      "Requirement already satisfied: ibmcloudsql==0.4.29 in /home/romeokienzler/gitco/new_horizons/elyra/venv/lib/python3.8/site-packages (0.4.29)\n",
      "Requirement already satisfied: isodate in /home/romeokienzler/gitco/new_horizons/elyra/venv/lib/python3.8/site-packages (from ibmcloudsql==0.4.29) (0.6.0)\n",
      "Requirement already satisfied: packaging in /home/romeokienzler/gitco/new_horizons/elyra/venv/lib/python3.8/site-packages (from ibmcloudsql==0.4.29) (21.3)\n",
      "Requirement already satisfied: ibm-cos-sdk>=2.7.0 in /home/romeokienzler/gitco/new_horizons/elyra/venv/lib/python3.8/site-packages (from ibmcloudsql==0.4.29) (2.11.0)\n",
      "Requirement already satisfied: backoff==1.10.0 in /home/romeokienzler/gitco/new_horizons/elyra/venv/lib/python3.8/site-packages (from ibmcloudsql==0.4.29) (1.10.0)\n",
      "Requirement already satisfied: sqlparse>=0.4.2 in /home/romeokienzler/gitco/new_horizons/elyra/venv/lib/python3.8/site-packages (from ibmcloudsql==0.4.29) (0.4.2)\n",
      "Requirement already satisfied: pre-commit in /home/romeokienzler/gitco/new_horizons/elyra/venv/lib/python3.8/site-packages (from ibmcloudsql==0.4.29) (2.15.0)\n",
      "Requirement already satisfied: typing-extensions in /home/romeokienzler/gitco/new_horizons/elyra/venv/lib/python3.8/site-packages (from ibmcloudsql==0.4.29) (3.10.0.2)\n",
      "Requirement already satisfied: pandas>=1.3.0 in /home/romeokienzler/gitco/new_horizons/elyra/venv/lib/python3.8/site-packages (from ibmcloudsql==0.4.29) (1.3.4)\n",
      "Requirement already satisfied: numpy in /home/romeokienzler/gitco/new_horizons/elyra/venv/lib/python3.8/site-packages (from ibmcloudsql==0.4.29) (1.21.4)\n",
      "Requirement already satisfied: pyarrow in /home/romeokienzler/gitco/new_horizons/elyra/venv/lib/python3.8/site-packages (from ibmcloudsql==0.4.29) (6.0.1)\n",
      "Requirement already satisfied: importlib-metadata in /home/romeokienzler/gitco/new_horizons/elyra/venv/lib/python3.8/site-packages (from ibmcloudsql==0.4.29) (4.8.2)\n",
      "Requirement already satisfied: requests>=2.2.0 in /home/romeokienzler/gitco/new_horizons/elyra/venv/lib/python3.8/site-packages (from ibmcloudsql==0.4.29) (2.26.0)\n",
      "Requirement already satisfied: ibm-cos-sdk-core>=2.7.0 in /home/romeokienzler/gitco/new_horizons/elyra/venv/lib/python3.8/site-packages (from ibmcloudsql==0.4.29) (2.11.0)\n",
      "Requirement already satisfied: six in /home/romeokienzler/gitco/new_horizons/elyra/venv/lib/python3.8/site-packages (from isodate->ibmcloudsql==0.4.29) (1.16.0)\n",
      "Requirement already satisfied: pyparsing!=3.0.5,>=2.0.2 in /home/romeokienzler/gitco/new_horizons/elyra/venv/lib/python3.8/site-packages (from packaging->ibmcloudsql==0.4.29) (3.0.6)\n",
      "Requirement already satisfied: ibm-cos-sdk-s3transfer==2.11.0 in /home/romeokienzler/gitco/new_horizons/elyra/venv/lib/python3.8/site-packages (from ibm-cos-sdk>=2.7.0->ibmcloudsql==0.4.29) (2.11.0)\n",
      "Requirement already satisfied: jmespath<1.0.0,>=0.7.1 in /home/romeokienzler/gitco/new_horizons/elyra/venv/lib/python3.8/site-packages (from ibm-cos-sdk>=2.7.0->ibmcloudsql==0.4.29) (0.10.0)\n",
      "Requirement already satisfied: virtualenv>=20.0.8 in /home/romeokienzler/gitco/new_horizons/elyra/venv/lib/python3.8/site-packages (from pre-commit->ibmcloudsql==0.4.29) (20.10.0)\n",
      "Requirement already satisfied: cfgv>=2.0.0 in /home/romeokienzler/gitco/new_horizons/elyra/venv/lib/python3.8/site-packages (from pre-commit->ibmcloudsql==0.4.29) (3.3.1)\n",
      "Requirement already satisfied: nodeenv>=0.11.1 in /home/romeokienzler/gitco/new_horizons/elyra/venv/lib/python3.8/site-packages (from pre-commit->ibmcloudsql==0.4.29) (1.6.0)\n",
      "Requirement already satisfied: toml in /home/romeokienzler/gitco/new_horizons/elyra/venv/lib/python3.8/site-packages (from pre-commit->ibmcloudsql==0.4.29) (0.10.2)\n",
      "Requirement already satisfied: pyyaml>=5.1 in /home/romeokienzler/gitco/new_horizons/elyra/venv/lib/python3.8/site-packages (from pre-commit->ibmcloudsql==0.4.29) (5.4.1)\n",
      "Requirement already satisfied: identify>=1.0.0 in /home/romeokienzler/gitco/new_horizons/elyra/venv/lib/python3.8/site-packages (from pre-commit->ibmcloudsql==0.4.29) (2.4.0)\n",
      "Requirement already satisfied: pytz>=2017.3 in /home/romeokienzler/gitco/new_horizons/elyra/venv/lib/python3.8/site-packages (from pandas>=1.3.0->ibmcloudsql==0.4.29) (2021.3)\n",
      "Requirement already satisfied: python-dateutil>=2.7.3 in /home/romeokienzler/gitco/new_horizons/elyra/venv/lib/python3.8/site-packages (from pandas>=1.3.0->ibmcloudsql==0.4.29) (2.8.2)\n",
      "Requirement already satisfied: zipp>=0.5 in /home/romeokienzler/gitco/new_horizons/elyra/venv/lib/python3.8/site-packages (from importlib-metadata->ibmcloudsql==0.4.29) (3.6.0)\n",
      "Requirement already satisfied: charset-normalizer~=2.0.0; python_version >= \"3\" in /home/romeokienzler/gitco/new_horizons/elyra/venv/lib/python3.8/site-packages (from requests>=2.2.0->ibmcloudsql==0.4.29) (2.0.7)\n",
      "Requirement already satisfied: idna<4,>=2.5; python_version >= \"3\" in /home/romeokienzler/gitco/new_horizons/elyra/venv/lib/python3.8/site-packages (from requests>=2.2.0->ibmcloudsql==0.4.29) (3.3)\n",
      "Requirement already satisfied: certifi>=2017.4.17 in /home/romeokienzler/gitco/new_horizons/elyra/venv/lib/python3.8/site-packages (from requests>=2.2.0->ibmcloudsql==0.4.29) (2021.10.8)\n",
      "Requirement already satisfied: urllib3<1.27,>=1.21.1 in /home/romeokienzler/gitco/new_horizons/elyra/venv/lib/python3.8/site-packages (from requests>=2.2.0->ibmcloudsql==0.4.29) (1.26.7)\n",
      "Requirement already satisfied: backports.entry-points-selectable>=1.0.4 in /home/romeokienzler/gitco/new_horizons/elyra/venv/lib/python3.8/site-packages (from virtualenv>=20.0.8->pre-commit->ibmcloudsql==0.4.29) (1.1.1)\n",
      "Requirement already satisfied: platformdirs<3,>=2 in /home/romeokienzler/gitco/new_horizons/elyra/venv/lib/python3.8/site-packages (from virtualenv>=20.0.8->pre-commit->ibmcloudsql==0.4.29) (2.4.0)\n",
      "Requirement already satisfied: distlib<1,>=0.3.1 in /home/romeokienzler/gitco/new_horizons/elyra/venv/lib/python3.8/site-packages (from virtualenv>=20.0.8->pre-commit->ibmcloudsql==0.4.29) (0.3.3)\n",
      "Requirement already satisfied: filelock<4,>=3.2 in /home/romeokienzler/gitco/new_horizons/elyra/venv/lib/python3.8/site-packages (from virtualenv>=20.0.8->pre-commit->ibmcloudsql==0.4.29) (3.4.0)\n",
      "\u001b[33mWARNING: You are using pip version 19.3.1; however, version 21.3.1 is available.\n",
      "You should consider upgrading via the 'pip install --upgrade pip' command.\u001b[0m\n",
      "\u001b[22;0t\u001b]0;IPython: component-library/transform\u0007"
     ]
    }
   ],
   "source": [
    "!ipython ibm-sql-query.ipynb  "
   ]
  },
  {
   "cell_type": "code",
   "execution_count": 26,
   "id": "0f71d5ba-7d48-41a9-9253-5bee19f166f9",
   "metadata": {},
   "outputs": [],
   "source": [
    "%%bash\n",
    "# verify result existing\n",
    "if [ `ipython cloud-object-store-housekeeping.ipynb 2> /dev/null | grep result |wc -l` -eq 0 ]; then\n",
    "    echo 'creation failed'\n",
    "    exit -1\n",
    "fi"
   ]
  },
  {
   "cell_type": "code",
   "execution_count": 27,
   "id": "9af7177f-b171-46e1-96d2-8df78038cf30",
   "metadata": {
    "scrolled": true,
    "tags": []
   },
   "outputs": [
    {
     "name": "stdout",
     "output_type": "stream",
     "text": [
      "Requirement already satisfied: aiobotocore==1.4.1 in /home/romeokienzler/gitco/new_horizons/elyra/venv/lib/python3.8/site-packages (1.4.1)\n",
      "Requirement already satisfied: aiohttp>=3.3.1 in /home/romeokienzler/gitco/new_horizons/elyra/venv/lib/python3.8/site-packages (from aiobotocore==1.4.1) (3.8.1)\n",
      "Requirement already satisfied: wrapt>=1.10.10 in /home/romeokienzler/gitco/new_horizons/elyra/venv/lib/python3.8/site-packages (from aiobotocore==1.4.1) (1.13.3)\n",
      "Requirement already satisfied: aioitertools>=0.5.1 in /home/romeokienzler/gitco/new_horizons/elyra/venv/lib/python3.8/site-packages (from aiobotocore==1.4.1) (0.8.0)\n",
      "Requirement already satisfied: botocore<1.20.107,>=1.20.106 in /home/romeokienzler/gitco/new_horizons/elyra/venv/lib/python3.8/site-packages (from aiobotocore==1.4.1) (1.20.106)\n",
      "Requirement already satisfied: yarl<2.0,>=1.0 in /home/romeokienzler/gitco/new_horizons/elyra/venv/lib/python3.8/site-packages (from aiohttp>=3.3.1->aiobotocore==1.4.1) (1.7.2)\n",
      "Requirement already satisfied: frozenlist>=1.1.1 in /home/romeokienzler/gitco/new_horizons/elyra/venv/lib/python3.8/site-packages (from aiohttp>=3.3.1->aiobotocore==1.4.1) (1.2.0)\n",
      "Requirement already satisfied: async-timeout<5.0,>=4.0.0a3 in /home/romeokienzler/gitco/new_horizons/elyra/venv/lib/python3.8/site-packages (from aiohttp>=3.3.1->aiobotocore==1.4.1) (4.0.1)\n",
      "Requirement already satisfied: multidict<7.0,>=4.5 in /home/romeokienzler/gitco/new_horizons/elyra/venv/lib/python3.8/site-packages (from aiohttp>=3.3.1->aiobotocore==1.4.1) (5.2.0)\n",
      "Requirement already satisfied: attrs>=17.3.0 in /home/romeokienzler/gitco/new_horizons/elyra/venv/lib/python3.8/site-packages (from aiohttp>=3.3.1->aiobotocore==1.4.1) (21.2.0)\n",
      "Requirement already satisfied: aiosignal>=1.1.2 in /home/romeokienzler/gitco/new_horizons/elyra/venv/lib/python3.8/site-packages (from aiohttp>=3.3.1->aiobotocore==1.4.1) (1.2.0)\n",
      "Requirement already satisfied: charset-normalizer<3.0,>=2.0 in /home/romeokienzler/gitco/new_horizons/elyra/venv/lib/python3.8/site-packages (from aiohttp>=3.3.1->aiobotocore==1.4.1) (2.0.7)\n",
      "Requirement already satisfied: urllib3<1.27,>=1.25.4 in /home/romeokienzler/gitco/new_horizons/elyra/venv/lib/python3.8/site-packages (from botocore<1.20.107,>=1.20.106->aiobotocore==1.4.1) (1.26.7)\n",
      "Requirement already satisfied: python-dateutil<3.0.0,>=2.1 in /home/romeokienzler/gitco/new_horizons/elyra/venv/lib/python3.8/site-packages (from botocore<1.20.107,>=1.20.106->aiobotocore==1.4.1) (2.8.2)\n",
      "Requirement already satisfied: jmespath<1.0.0,>=0.7.1 in /home/romeokienzler/gitco/new_horizons/elyra/venv/lib/python3.8/site-packages (from botocore<1.20.107,>=1.20.106->aiobotocore==1.4.1) (0.10.0)\n",
      "Requirement already satisfied: idna>=2.0 in /home/romeokienzler/gitco/new_horizons/elyra/venv/lib/python3.8/site-packages (from yarl<2.0,>=1.0->aiohttp>=3.3.1->aiobotocore==1.4.1) (3.3)\n",
      "Requirement already satisfied: typing-extensions>=3.6.5 in /home/romeokienzler/gitco/new_horizons/elyra/venv/lib/python3.8/site-packages (from async-timeout<5.0,>=4.0.0a3->aiohttp>=3.3.1->aiobotocore==1.4.1) (3.10.0.2)\n",
      "Requirement already satisfied: six>=1.5 in /home/romeokienzler/gitco/new_horizons/elyra/venv/lib/python3.8/site-packages (from python-dateutil<3.0.0,>=2.1->botocore<1.20.107,>=1.20.106->aiobotocore==1.4.1) (1.16.0)\n",
      "Collecting botocore==1.10.62\n",
      "  Using cached https://files.pythonhosted.org/packages/24/ec/95df2edaa21e426581f41745e0de355170b8cb6eed2a2a5641c0c348df33/botocore-1.10.62-py2.py3-none-any.whl\n",
      "Requirement already satisfied: jmespath<1.0.0,>=0.7.1 in /home/romeokienzler/gitco/new_horizons/elyra/venv/lib/python3.8/site-packages (from botocore==1.10.62) (0.10.0)\n",
      "Requirement already satisfied: docutils>=0.10 in /home/romeokienzler/gitco/new_horizons/elyra/venv/lib/python3.8/site-packages (from botocore==1.10.62) (0.18.1)\n",
      "Requirement already satisfied: python-dateutil<3.0.0,>=2.1; python_version >= \"2.7\" in /home/romeokienzler/gitco/new_horizons/elyra/venv/lib/python3.8/site-packages (from botocore==1.10.62) (2.8.2)\n",
      "Requirement already satisfied: six>=1.5 in /home/romeokienzler/gitco/new_horizons/elyra/venv/lib/python3.8/site-packages (from python-dateutil<3.0.0,>=2.1; python_version >= \"2.7\"->botocore==1.10.62) (1.16.0)\n",
      "Installing collected packages: botocore\n",
      "  Found existing installation: botocore 1.20.106\n",
      "    Uninstalling botocore-1.20.106:\n",
      "      Successfully uninstalled botocore-1.20.106\n",
      "Successfully installed botocore-1.10.62\n",
      "Requirement already satisfied: s3fs==2021.11.0 in /home/romeokienzler/gitco/new_horizons/elyra/venv/lib/python3.8/site-packages (2021.11.0)\n",
      "Requirement already satisfied: aiobotocore~=1.4.1 in /home/romeokienzler/gitco/new_horizons/elyra/venv/lib/python3.8/site-packages (from s3fs==2021.11.0) (1.4.1)\n",
      "Requirement already satisfied: aiohttp>=3.7.1 in /home/romeokienzler/gitco/new_horizons/elyra/venv/lib/python3.8/site-packages (from s3fs==2021.11.0) (3.8.1)\n",
      "Requirement already satisfied: fsspec==2021.11.0 in /home/romeokienzler/gitco/new_horizons/elyra/venv/lib/python3.8/site-packages (from s3fs==2021.11.0) (2021.11.0)\n",
      "Requirement already satisfied: wrapt>=1.10.10 in /home/romeokienzler/gitco/new_horizons/elyra/venv/lib/python3.8/site-packages (from aiobotocore~=1.4.1->s3fs==2021.11.0) (1.13.3)\n",
      "Collecting botocore<1.20.107,>=1.20.106\n",
      "  Using cached https://files.pythonhosted.org/packages/9a/14/3e13e2db6a8f2690d53d202baa1390d0c0141c9577d5c7fca751fea40c5e/botocore-1.20.106-py2.py3-none-any.whl\n",
      "Requirement already satisfied: aioitertools>=0.5.1 in /home/romeokienzler/gitco/new_horizons/elyra/venv/lib/python3.8/site-packages (from aiobotocore~=1.4.1->s3fs==2021.11.0) (0.8.0)\n",
      "Requirement already satisfied: multidict<7.0,>=4.5 in /home/romeokienzler/gitco/new_horizons/elyra/venv/lib/python3.8/site-packages (from aiohttp>=3.7.1->s3fs==2021.11.0) (5.2.0)\n",
      "Requirement already satisfied: yarl<2.0,>=1.0 in /home/romeokienzler/gitco/new_horizons/elyra/venv/lib/python3.8/site-packages (from aiohttp>=3.7.1->s3fs==2021.11.0) (1.7.2)\n",
      "Requirement already satisfied: aiosignal>=1.1.2 in /home/romeokienzler/gitco/new_horizons/elyra/venv/lib/python3.8/site-packages (from aiohttp>=3.7.1->s3fs==2021.11.0) (1.2.0)\n",
      "Requirement already satisfied: attrs>=17.3.0 in /home/romeokienzler/gitco/new_horizons/elyra/venv/lib/python3.8/site-packages (from aiohttp>=3.7.1->s3fs==2021.11.0) (21.2.0)\n",
      "Requirement already satisfied: charset-normalizer<3.0,>=2.0 in /home/romeokienzler/gitco/new_horizons/elyra/venv/lib/python3.8/site-packages (from aiohttp>=3.7.1->s3fs==2021.11.0) (2.0.7)\n",
      "Requirement already satisfied: async-timeout<5.0,>=4.0.0a3 in /home/romeokienzler/gitco/new_horizons/elyra/venv/lib/python3.8/site-packages (from aiohttp>=3.7.1->s3fs==2021.11.0) (4.0.1)\n",
      "Requirement already satisfied: frozenlist>=1.1.1 in /home/romeokienzler/gitco/new_horizons/elyra/venv/lib/python3.8/site-packages (from aiohttp>=3.7.1->s3fs==2021.11.0) (1.2.0)\n",
      "Requirement already satisfied: urllib3<1.27,>=1.25.4 in /home/romeokienzler/gitco/new_horizons/elyra/venv/lib/python3.8/site-packages (from botocore<1.20.107,>=1.20.106->aiobotocore~=1.4.1->s3fs==2021.11.0) (1.26.7)\n",
      "Requirement already satisfied: jmespath<1.0.0,>=0.7.1 in /home/romeokienzler/gitco/new_horizons/elyra/venv/lib/python3.8/site-packages (from botocore<1.20.107,>=1.20.106->aiobotocore~=1.4.1->s3fs==2021.11.0) (0.10.0)\n",
      "Requirement already satisfied: python-dateutil<3.0.0,>=2.1 in /home/romeokienzler/gitco/new_horizons/elyra/venv/lib/python3.8/site-packages (from botocore<1.20.107,>=1.20.106->aiobotocore~=1.4.1->s3fs==2021.11.0) (2.8.2)\n",
      "Requirement already satisfied: idna>=2.0 in /home/romeokienzler/gitco/new_horizons/elyra/venv/lib/python3.8/site-packages (from yarl<2.0,>=1.0->aiohttp>=3.7.1->s3fs==2021.11.0) (3.3)\n",
      "Requirement already satisfied: typing-extensions>=3.6.5 in /home/romeokienzler/gitco/new_horizons/elyra/venv/lib/python3.8/site-packages (from async-timeout<5.0,>=4.0.0a3->aiohttp>=3.7.1->s3fs==2021.11.0) (3.10.0.2)\n",
      "Requirement already satisfied: six>=1.5 in /home/romeokienzler/gitco/new_horizons/elyra/venv/lib/python3.8/site-packages (from python-dateutil<3.0.0,>=2.1->botocore<1.20.107,>=1.20.106->aiobotocore~=1.4.1->s3fs==2021.11.0) (1.16.0)\n",
      "Installing collected packages: botocore\n",
      "  Found existing installation: botocore 1.10.62\n",
      "    Uninstalling botocore-1.10.62:\n",
      "      Successfully uninstalled botocore-1.10.62\n",
      "Successfully installed botocore-1.20.106\n",
      "\u001b[22;0t\u001b]0;IPython: component-library/transform\u0007"
     ]
    },
    {
     "name": "stderr",
     "output_type": "stream",
     "text": [
      "WARNING: You are using pip version 19.3.1; however, version 21.3.1 is available.\n",
      "You should consider upgrading via the 'pip install --upgrade pip' command.\n",
      "ERROR: aiobotocore 1.4.1 has requirement botocore<1.20.107,>=1.20.106, but you'll have botocore 1.10.62 which is incompatible.\n",
      "WARNING: You are using pip version 19.3.1; however, version 21.3.1 is available.\n",
      "You should consider upgrading via the 'pip install --upgrade pip' command.\n",
      "WARNING: You are using pip version 19.3.1; however, version 21.3.1 is available.\n",
      "You should consider upgrading via the 'pip install --upgrade pip' command.\n",
      "WARNING:root:Parameter: operation=\"rm\"\n",
      "WARNING:root:Parameter: delete_file=\"result\"\n"
     ]
    }
   ],
   "source": [
    "%%bash\n",
    "# delete result\n",
    "if [ `ipython cloud-object-store-housekeeping.ipynb 2> /dev/null | grep result |wc -l` -gt 0 ]; then\n",
    "    ipython cloud-object-store-housekeeping.ipynb operation=\"rm\" delete_file=\"result\"\n",
    "fi"
   ]
  },
  {
   "cell_type": "code",
   "execution_count": 28,
   "id": "a788ed9f-b9a6-4073-9ed9-b870a4081624",
   "metadata": {},
   "outputs": [],
   "source": [
    "%%bash\n",
    "# verify result deleted\n",
    "if [ `ipython cloud-object-store-housekeeping.ipynb 2> /dev/null | grep result |wc -l` -gt 0 ]; then\n",
    "    echo 'deletion failed'\n",
    "    exit -1\n",
    "fi"
   ]
  },
  {
   "cell_type": "code",
   "execution_count": 30,
   "id": "0f1ecb54-384e-48bc-9b49-045403bcd47f",
   "metadata": {
    "scrolled": true,
    "tags": []
   },
   "outputs": [
    {
     "name": "stdout",
     "output_type": "stream",
     "text": [
      "Requirement already satisfied: ibmcloudsql==0.4.29 in /home/romeokienzler/gitco/new_horizons/elyra/venv/lib/python3.8/site-packages (0.4.29)\n",
      "Requirement already satisfied: ibm-cos-sdk-core>=2.7.0 in /home/romeokienzler/gitco/new_horizons/elyra/venv/lib/python3.8/site-packages (from ibmcloudsql==0.4.29) (2.11.0)\n",
      "Requirement already satisfied: numpy in /home/romeokienzler/gitco/new_horizons/elyra/venv/lib/python3.8/site-packages (from ibmcloudsql==0.4.29) (1.21.4)\n",
      "Requirement already satisfied: pandas>=1.3.0 in /home/romeokienzler/gitco/new_horizons/elyra/venv/lib/python3.8/site-packages (from ibmcloudsql==0.4.29) (1.3.4)\n",
      "Requirement already satisfied: importlib-metadata in /home/romeokienzler/gitco/new_horizons/elyra/venv/lib/python3.8/site-packages (from ibmcloudsql==0.4.29) (4.8.2)\n",
      "Requirement already satisfied: typing-extensions in /home/romeokienzler/gitco/new_horizons/elyra/venv/lib/python3.8/site-packages (from ibmcloudsql==0.4.29) (3.10.0.2)\n",
      "Requirement already satisfied: backoff==1.10.0 in /home/romeokienzler/gitco/new_horizons/elyra/venv/lib/python3.8/site-packages (from ibmcloudsql==0.4.29) (1.10.0)\n",
      "Requirement already satisfied: ibm-cos-sdk>=2.7.0 in /home/romeokienzler/gitco/new_horizons/elyra/venv/lib/python3.8/site-packages (from ibmcloudsql==0.4.29) (2.11.0)\n",
      "Requirement already satisfied: requests>=2.2.0 in /home/romeokienzler/gitco/new_horizons/elyra/venv/lib/python3.8/site-packages (from ibmcloudsql==0.4.29) (2.26.0)\n",
      "Requirement already satisfied: sqlparse>=0.4.2 in /home/romeokienzler/gitco/new_horizons/elyra/venv/lib/python3.8/site-packages (from ibmcloudsql==0.4.29) (0.4.2)\n",
      "Requirement already satisfied: isodate in /home/romeokienzler/gitco/new_horizons/elyra/venv/lib/python3.8/site-packages (from ibmcloudsql==0.4.29) (0.6.0)\n",
      "Requirement already satisfied: pre-commit in /home/romeokienzler/gitco/new_horizons/elyra/venv/lib/python3.8/site-packages (from ibmcloudsql==0.4.29) (2.15.0)\n",
      "Requirement already satisfied: pyarrow in /home/romeokienzler/gitco/new_horizons/elyra/venv/lib/python3.8/site-packages (from ibmcloudsql==0.4.29) (6.0.1)\n",
      "Requirement already satisfied: packaging in /home/romeokienzler/gitco/new_horizons/elyra/venv/lib/python3.8/site-packages (from ibmcloudsql==0.4.29) (21.3)\n",
      "Requirement already satisfied: urllib3<1.27,>=1.26.7 in /home/romeokienzler/gitco/new_horizons/elyra/venv/lib/python3.8/site-packages (from ibm-cos-sdk-core>=2.7.0->ibmcloudsql==0.4.29) (1.26.7)\n",
      "Requirement already satisfied: python-dateutil<3.0.0,>=2.1 in /home/romeokienzler/gitco/new_horizons/elyra/venv/lib/python3.8/site-packages (from ibm-cos-sdk-core>=2.7.0->ibmcloudsql==0.4.29) (2.8.2)\n",
      "Requirement already satisfied: jmespath<1.0.0,>=0.7.1 in /home/romeokienzler/gitco/new_horizons/elyra/venv/lib/python3.8/site-packages (from ibm-cos-sdk-core>=2.7.0->ibmcloudsql==0.4.29) (0.10.0)\n",
      "Requirement already satisfied: pytz>=2017.3 in /home/romeokienzler/gitco/new_horizons/elyra/venv/lib/python3.8/site-packages (from pandas>=1.3.0->ibmcloudsql==0.4.29) (2021.3)\n",
      "Requirement already satisfied: zipp>=0.5 in /home/romeokienzler/gitco/new_horizons/elyra/venv/lib/python3.8/site-packages (from importlib-metadata->ibmcloudsql==0.4.29) (3.6.0)\n",
      "Requirement already satisfied: ibm-cos-sdk-s3transfer==2.11.0 in /home/romeokienzler/gitco/new_horizons/elyra/venv/lib/python3.8/site-packages (from ibm-cos-sdk>=2.7.0->ibmcloudsql==0.4.29) (2.11.0)\n",
      "Requirement already satisfied: certifi>=2017.4.17 in /home/romeokienzler/gitco/new_horizons/elyra/venv/lib/python3.8/site-packages (from requests>=2.2.0->ibmcloudsql==0.4.29) (2021.10.8)\n",
      "Requirement already satisfied: charset-normalizer~=2.0.0; python_version >= \"3\" in /home/romeokienzler/gitco/new_horizons/elyra/venv/lib/python3.8/site-packages (from requests>=2.2.0->ibmcloudsql==0.4.29) (2.0.7)\n",
      "Requirement already satisfied: idna<4,>=2.5; python_version >= \"3\" in /home/romeokienzler/gitco/new_horizons/elyra/venv/lib/python3.8/site-packages (from requests>=2.2.0->ibmcloudsql==0.4.29) (3.3)\n",
      "Requirement already satisfied: six in /home/romeokienzler/gitco/new_horizons/elyra/venv/lib/python3.8/site-packages (from isodate->ibmcloudsql==0.4.29) (1.16.0)\n",
      "Requirement already satisfied: nodeenv>=0.11.1 in /home/romeokienzler/gitco/new_horizons/elyra/venv/lib/python3.8/site-packages (from pre-commit->ibmcloudsql==0.4.29) (1.6.0)\n",
      "Requirement already satisfied: toml in /home/romeokienzler/gitco/new_horizons/elyra/venv/lib/python3.8/site-packages (from pre-commit->ibmcloudsql==0.4.29) (0.10.2)\n",
      "Requirement already satisfied: cfgv>=2.0.0 in /home/romeokienzler/gitco/new_horizons/elyra/venv/lib/python3.8/site-packages (from pre-commit->ibmcloudsql==0.4.29) (3.3.1)\n",
      "Requirement already satisfied: pyyaml>=5.1 in /home/romeokienzler/gitco/new_horizons/elyra/venv/lib/python3.8/site-packages (from pre-commit->ibmcloudsql==0.4.29) (5.4.1)\n",
      "Requirement already satisfied: virtualenv>=20.0.8 in /home/romeokienzler/gitco/new_horizons/elyra/venv/lib/python3.8/site-packages (from pre-commit->ibmcloudsql==0.4.29) (20.10.0)\n",
      "Requirement already satisfied: identify>=1.0.0 in /home/romeokienzler/gitco/new_horizons/elyra/venv/lib/python3.8/site-packages (from pre-commit->ibmcloudsql==0.4.29) (2.4.0)\n",
      "Requirement already satisfied: pyparsing!=3.0.5,>=2.0.2 in /home/romeokienzler/gitco/new_horizons/elyra/venv/lib/python3.8/site-packages (from packaging->ibmcloudsql==0.4.29) (3.0.6)\n",
      "Requirement already satisfied: platformdirs<3,>=2 in /home/romeokienzler/gitco/new_horizons/elyra/venv/lib/python3.8/site-packages (from virtualenv>=20.0.8->pre-commit->ibmcloudsql==0.4.29) (2.4.0)\n",
      "Requirement already satisfied: filelock<4,>=3.2 in /home/romeokienzler/gitco/new_horizons/elyra/venv/lib/python3.8/site-packages (from virtualenv>=20.0.8->pre-commit->ibmcloudsql==0.4.29) (3.4.0)\n",
      "Requirement already satisfied: distlib<1,>=0.3.1 in /home/romeokienzler/gitco/new_horizons/elyra/venv/lib/python3.8/site-packages (from virtualenv>=20.0.8->pre-commit->ibmcloudsql==0.4.29) (0.3.3)\n",
      "Requirement already satisfied: backports.entry-points-selectable>=1.0.4 in /home/romeokienzler/gitco/new_horizons/elyra/venv/lib/python3.8/site-packages (from virtualenv>=20.0.8->pre-commit->ibmcloudsql==0.4.29) (1.1.1)\n",
      "\u001b[33mWARNING: You are using pip version 19.3.1; however, version 21.3.1 is available.\n",
      "You should consider upgrading via the 'pip install --upgrade pip' command.\u001b[0m\n",
      "WARNING:root:Parameter: output_format=\"parquet\"\n",
      "\u001b[22;0t\u001b]0;IPython: component-library/transform\u0007Job d248fad7-c815-4d73-99a8-7c077f431111 has failed\n",
      "\u001b[0;31m---------------------------------------------------------------------------\u001b[0m\n",
      "\u001b[0;31mException\u001b[0m                                 Traceback (most recent call last)\n",
      "\u001b[0;32m~/gitco/claimed/component-library/transform/ibm-sql-query.ipynb\u001b[0m in \u001b[0;36m<module>\u001b[0;34m\u001b[0m\n",
      "\u001b[1;32m     24\u001b[0m     \u001b[0msqlClient\u001b[0m\u001b[0;34m.\u001b[0m\u001b[0mrename_exact_result\u001b[0m\u001b[0;34m(\u001b[0m\u001b[0mjob_id\u001b[0m\u001b[0;34m)\u001b[0m\u001b[0;34m\u001b[0m\u001b[0;34m\u001b[0m\u001b[0m\n",
      "\u001b[1;32m     25\u001b[0m \u001b[0;32melse\u001b[0m\u001b[0;34m:\u001b[0m\u001b[0;34m\u001b[0m\u001b[0;34m\u001b[0m\u001b[0m\n",
      "\u001b[0;32m---> 26\u001b[0;31m     \u001b[0msqlClient\u001b[0m\u001b[0;34m.\u001b[0m\u001b[0mrun_sql\u001b[0m\u001b[0;34m(\u001b[0m\u001b[0msql\u001b[0m\u001b[0;34m)\u001b[0m\u001b[0;34m\u001b[0m\u001b[0;34m\u001b[0m\u001b[0m\n",
      "\u001b[0m\n",
      "\u001b[0;32m~/gitco/new_horizons/elyra/venv/lib64/python3.8/site-packages/ibmcloudsql/SQLQuery.py\u001b[0m in \u001b[0;36mrun_sql\u001b[0;34m(self, sql_text, pagesize)\u001b[0m\n",
      "\u001b[1;32m   1557\u001b[0m                     \u001b[0;32mraise\u001b[0m \u001b[0mSqlQueryInvalidFormatException\u001b[0m\u001b[0;34m(\u001b[0m\u001b[0merror_message\u001b[0m\u001b[0;34m)\u001b[0m\u001b[0;34m\u001b[0m\u001b[0;34m\u001b[0m\u001b[0m\n",
      "\u001b[1;32m   1558\u001b[0m                 \u001b[0;32melse\u001b[0m\u001b[0;34m:\u001b[0m\u001b[0;34m\u001b[0m\u001b[0;34m\u001b[0m\u001b[0m\n",
      "\u001b[0;32m-> 1559\u001b[0;31m                     \u001b[0;32mraise\u001b[0m \u001b[0mException\u001b[0m\u001b[0;34m(\u001b[0m\u001b[0merror_message\u001b[0m\u001b[0;34m)\u001b[0m\u001b[0;34m\u001b[0m\u001b[0;34m\u001b[0m\u001b[0m\n",
      "\u001b[0m\u001b[1;32m   1560\u001b[0m             \u001b[0;32mexcept\u001b[0m \u001b[0mKeyError\u001b[0m \u001b[0;32mas\u001b[0m \u001b[0me\u001b[0m\u001b[0;34m:\u001b[0m\u001b[0;34m\u001b[0m\u001b[0;34m\u001b[0m\u001b[0m\n",
      "\u001b[1;32m   1561\u001b[0m                 \u001b[0mpprint\u001b[0m\u001b[0;34m.\u001b[0m\u001b[0mpprint\u001b[0m\u001b[0;34m(\u001b[0m\u001b[0mdetails\u001b[0m\u001b[0;34m)\u001b[0m\u001b[0;34m\u001b[0m\u001b[0;34m\u001b[0m\u001b[0m\n",
      "\n",
      "\u001b[0;31mException\u001b[0m: SQL job d248fad7-c815-4d73-99a8-7c077f431111 failed while executing \n",
      "SELECT * FROM cos://eu-de/claimed-test/data.parquet INTO cos://s3.eu-de.cloud-object-storage.appdomain.cloud/claimed-test/result STORED AS parquet\n",
      "with error SQL execution failed. Detailed message: Invalid column name for target format: PAR1\\x15\\x04\\x15�\\x05\\x15�\\x03L\\x15r\\x15\\x04\\x00\\x00�\\x02\\x14\\x02\\x00\\x00\\x0032\\x05\\x06\\x001\\x01\\x06\\x0426\\x05\\x06\\x003\\x05\\x06\\x000\\x01\\x06\\x001\\x05\\x0c\\x001\\x05$\\x001\\x05$\\x1810\\x01\\x00\\x00\\x009\\x01\\x05\\x007\\x01\\x05\\x008\\x05\\'\\x004\\x05\\x06\\x006\\x01\\x11\\x005\\x01\\x05\\x05I\\x0415\\x05\\x16\\x007\\x05\\x06\\x008\\x01\\x17\\x003\\x01\\x05\\x001\\x01\\x05\\x004\\x01\\x05\\x002\\x01\\x05\\x000\\x05\\x1f\\x009\\x01\\x06\\x002\\x05\\x06\\x003\\x057\\x003\\x057\\x003\\x05Y\\x0433\\x01\\x1e\\x003\\x05U\\x003\\x05$\\x004\\x056\\x004\\x05�\\x004\\x05�\\x004\\x05*\\x004\\x05*\\x004\\x05<\\x004\\x05H\\x005\\x05$\\x0456\\x01B\\x005\\x05\\x18\\x0454\\x01\\x0c\\x004\\x05\\x12\\x004\\x05�\\x003\\x05\\x06\\x005\\x05H\\x005\\x05`\\x006\\x05`\\x006\\x05N\\x002\\x056\\x002\\x056\\x0428\\x01<\\x003\\x05\\x1e425\\x02\\x00\\x00\\x0021\\x02\\x00\\x00\\x0022\\x15\\x00\\x15� \\x15� . Use >>[CLEANCOLS](https://cloud.ibm.com/docs/services/sql-query?topic=sql-query-sql-reference#tableTransformer) table transformer or aliases to ensure that column names do not contain one of the following characters: \",;{}()\n",
      "\\t=\" and space.\n"
     ]
    }
   ],
   "source": [
    "!ipython ibm-sql-query.ipynb output_format='parquet'"
   ]
  },
  {
   "cell_type": "code",
   "execution_count": 31,
   "id": "db699520-e817-4e77-9b2d-3f8f08aecbd2",
   "metadata": {
    "scrolled": true,
    "tags": []
   },
   "outputs": [
    {
     "name": "stdout",
     "output_type": "stream",
     "text": [
      "Requirement already satisfied: aiobotocore==1.4.1 in /home/romeokienzler/gitco/new_horizons/elyra/venv/lib/python3.8/site-packages (1.4.1)\n",
      "Requirement already satisfied: botocore<1.20.107,>=1.20.106 in /home/romeokienzler/gitco/new_horizons/elyra/venv/lib/python3.8/site-packages (from aiobotocore==1.4.1) (1.20.106)\n",
      "Requirement already satisfied: aioitertools>=0.5.1 in /home/romeokienzler/gitco/new_horizons/elyra/venv/lib/python3.8/site-packages (from aiobotocore==1.4.1) (0.8.0)\n",
      "Requirement already satisfied: aiohttp>=3.3.1 in /home/romeokienzler/gitco/new_horizons/elyra/venv/lib/python3.8/site-packages (from aiobotocore==1.4.1) (3.8.1)\n",
      "Requirement already satisfied: wrapt>=1.10.10 in /home/romeokienzler/gitco/new_horizons/elyra/venv/lib/python3.8/site-packages (from aiobotocore==1.4.1) (1.13.3)\n",
      "Requirement already satisfied: urllib3<1.27,>=1.25.4 in /home/romeokienzler/gitco/new_horizons/elyra/venv/lib/python3.8/site-packages (from botocore<1.20.107,>=1.20.106->aiobotocore==1.4.1) (1.26.7)\n",
      "Requirement already satisfied: python-dateutil<3.0.0,>=2.1 in /home/romeokienzler/gitco/new_horizons/elyra/venv/lib/python3.8/site-packages (from botocore<1.20.107,>=1.20.106->aiobotocore==1.4.1) (2.8.2)\n",
      "Requirement already satisfied: jmespath<1.0.0,>=0.7.1 in /home/romeokienzler/gitco/new_horizons/elyra/venv/lib/python3.8/site-packages (from botocore<1.20.107,>=1.20.106->aiobotocore==1.4.1) (0.10.0)\n",
      "Requirement already satisfied: multidict<7.0,>=4.5 in /home/romeokienzler/gitco/new_horizons/elyra/venv/lib/python3.8/site-packages (from aiohttp>=3.3.1->aiobotocore==1.4.1) (5.2.0)\n",
      "Requirement already satisfied: async-timeout<5.0,>=4.0.0a3 in /home/romeokienzler/gitco/new_horizons/elyra/venv/lib/python3.8/site-packages (from aiohttp>=3.3.1->aiobotocore==1.4.1) (4.0.1)\n",
      "Requirement already satisfied: yarl<2.0,>=1.0 in /home/romeokienzler/gitco/new_horizons/elyra/venv/lib/python3.8/site-packages (from aiohttp>=3.3.1->aiobotocore==1.4.1) (1.7.2)\n",
      "Requirement already satisfied: frozenlist>=1.1.1 in /home/romeokienzler/gitco/new_horizons/elyra/venv/lib/python3.8/site-packages (from aiohttp>=3.3.1->aiobotocore==1.4.1) (1.2.0)\n",
      "Requirement already satisfied: aiosignal>=1.1.2 in /home/romeokienzler/gitco/new_horizons/elyra/venv/lib/python3.8/site-packages (from aiohttp>=3.3.1->aiobotocore==1.4.1) (1.2.0)\n",
      "Requirement already satisfied: attrs>=17.3.0 in /home/romeokienzler/gitco/new_horizons/elyra/venv/lib/python3.8/site-packages (from aiohttp>=3.3.1->aiobotocore==1.4.1) (21.2.0)\n",
      "Requirement already satisfied: charset-normalizer<3.0,>=2.0 in /home/romeokienzler/gitco/new_horizons/elyra/venv/lib/python3.8/site-packages (from aiohttp>=3.3.1->aiobotocore==1.4.1) (2.0.7)\n",
      "Requirement already satisfied: six>=1.5 in /home/romeokienzler/gitco/new_horizons/elyra/venv/lib/python3.8/site-packages (from python-dateutil<3.0.0,>=2.1->botocore<1.20.107,>=1.20.106->aiobotocore==1.4.1) (1.16.0)\n",
      "Requirement already satisfied: typing-extensions>=3.6.5 in /home/romeokienzler/gitco/new_horizons/elyra/venv/lib/python3.8/site-packages (from async-timeout<5.0,>=4.0.0a3->aiohttp>=3.3.1->aiobotocore==1.4.1) (3.10.0.2)\n",
      "Requirement already satisfied: idna>=2.0 in /home/romeokienzler/gitco/new_horizons/elyra/venv/lib/python3.8/site-packages (from yarl<2.0,>=1.0->aiohttp>=3.3.1->aiobotocore==1.4.1) (3.3)\n",
      "\u001b[33mWARNING: You are using pip version 19.3.1; however, version 21.3.1 is available.\n",
      "You should consider upgrading via the 'pip install --upgrade pip' command.\u001b[0m\n",
      "Collecting botocore==1.10.62\n",
      "  Using cached https://files.pythonhosted.org/packages/24/ec/95df2edaa21e426581f41745e0de355170b8cb6eed2a2a5641c0c348df33/botocore-1.10.62-py2.py3-none-any.whl\n",
      "Requirement already satisfied: python-dateutil<3.0.0,>=2.1; python_version >= \"2.7\" in /home/romeokienzler/gitco/new_horizons/elyra/venv/lib/python3.8/site-packages (from botocore==1.10.62) (2.8.2)\n",
      "Requirement already satisfied: jmespath<1.0.0,>=0.7.1 in /home/romeokienzler/gitco/new_horizons/elyra/venv/lib/python3.8/site-packages (from botocore==1.10.62) (0.10.0)\n",
      "Requirement already satisfied: docutils>=0.10 in /home/romeokienzler/gitco/new_horizons/elyra/venv/lib/python3.8/site-packages (from botocore==1.10.62) (0.18.1)\n",
      "Requirement already satisfied: six>=1.5 in /home/romeokienzler/gitco/new_horizons/elyra/venv/lib/python3.8/site-packages (from python-dateutil<3.0.0,>=2.1; python_version >= \"2.7\"->botocore==1.10.62) (1.16.0)\n",
      "\u001b[31mERROR: aiobotocore 1.4.1 has requirement botocore<1.20.107,>=1.20.106, but you'll have botocore 1.10.62 which is incompatible.\u001b[0m\n",
      "Installing collected packages: botocore\n",
      "  Found existing installation: botocore 1.20.106\n",
      "    Uninstalling botocore-1.20.106:\n",
      "      Successfully uninstalled botocore-1.20.106\n",
      "Successfully installed botocore-1.10.62\n",
      "\u001b[33mWARNING: You are using pip version 19.3.1; however, version 21.3.1 is available.\n",
      "You should consider upgrading via the 'pip install --upgrade pip' command.\u001b[0m\n",
      "Requirement already satisfied: s3fs==2021.11.0 in /home/romeokienzler/gitco/new_horizons/elyra/venv/lib/python3.8/site-packages (2021.11.0)\n",
      "Requirement already satisfied: aiohttp>=3.7.1 in /home/romeokienzler/gitco/new_horizons/elyra/venv/lib/python3.8/site-packages (from s3fs==2021.11.0) (3.8.1)\n",
      "Requirement already satisfied: aiobotocore~=1.4.1 in /home/romeokienzler/gitco/new_horizons/elyra/venv/lib/python3.8/site-packages (from s3fs==2021.11.0) (1.4.1)\n",
      "Requirement already satisfied: fsspec==2021.11.0 in /home/romeokienzler/gitco/new_horizons/elyra/venv/lib/python3.8/site-packages (from s3fs==2021.11.0) (2021.11.0)\n",
      "Requirement already satisfied: frozenlist>=1.1.1 in /home/romeokienzler/gitco/new_horizons/elyra/venv/lib/python3.8/site-packages (from aiohttp>=3.7.1->s3fs==2021.11.0) (1.2.0)\n",
      "Requirement already satisfied: async-timeout<5.0,>=4.0.0a3 in /home/romeokienzler/gitco/new_horizons/elyra/venv/lib/python3.8/site-packages (from aiohttp>=3.7.1->s3fs==2021.11.0) (4.0.1)\n",
      "Requirement already satisfied: charset-normalizer<3.0,>=2.0 in /home/romeokienzler/gitco/new_horizons/elyra/venv/lib/python3.8/site-packages (from aiohttp>=3.7.1->s3fs==2021.11.0) (2.0.7)\n",
      "Requirement already satisfied: aiosignal>=1.1.2 in /home/romeokienzler/gitco/new_horizons/elyra/venv/lib/python3.8/site-packages (from aiohttp>=3.7.1->s3fs==2021.11.0) (1.2.0)\n",
      "Requirement already satisfied: attrs>=17.3.0 in /home/romeokienzler/gitco/new_horizons/elyra/venv/lib/python3.8/site-packages (from aiohttp>=3.7.1->s3fs==2021.11.0) (21.2.0)\n",
      "Requirement already satisfied: multidict<7.0,>=4.5 in /home/romeokienzler/gitco/new_horizons/elyra/venv/lib/python3.8/site-packages (from aiohttp>=3.7.1->s3fs==2021.11.0) (5.2.0)\n",
      "Requirement already satisfied: yarl<2.0,>=1.0 in /home/romeokienzler/gitco/new_horizons/elyra/venv/lib/python3.8/site-packages (from aiohttp>=3.7.1->s3fs==2021.11.0) (1.7.2)\n",
      "Collecting botocore<1.20.107,>=1.20.106\n",
      "  Using cached https://files.pythonhosted.org/packages/9a/14/3e13e2db6a8f2690d53d202baa1390d0c0141c9577d5c7fca751fea40c5e/botocore-1.20.106-py2.py3-none-any.whl\n",
      "Requirement already satisfied: wrapt>=1.10.10 in /home/romeokienzler/gitco/new_horizons/elyra/venv/lib/python3.8/site-packages (from aiobotocore~=1.4.1->s3fs==2021.11.0) (1.13.3)\n",
      "Requirement already satisfied: aioitertools>=0.5.1 in /home/romeokienzler/gitco/new_horizons/elyra/venv/lib/python3.8/site-packages (from aiobotocore~=1.4.1->s3fs==2021.11.0) (0.8.0)\n",
      "Requirement already satisfied: typing-extensions>=3.6.5 in /home/romeokienzler/gitco/new_horizons/elyra/venv/lib/python3.8/site-packages (from async-timeout<5.0,>=4.0.0a3->aiohttp>=3.7.1->s3fs==2021.11.0) (3.10.0.2)\n",
      "Requirement already satisfied: idna>=2.0 in /home/romeokienzler/gitco/new_horizons/elyra/venv/lib/python3.8/site-packages (from yarl<2.0,>=1.0->aiohttp>=3.7.1->s3fs==2021.11.0) (3.3)\n",
      "Requirement already satisfied: urllib3<1.27,>=1.25.4 in /home/romeokienzler/gitco/new_horizons/elyra/venv/lib/python3.8/site-packages (from botocore<1.20.107,>=1.20.106->aiobotocore~=1.4.1->s3fs==2021.11.0) (1.26.7)\n",
      "Requirement already satisfied: jmespath<1.0.0,>=0.7.1 in /home/romeokienzler/gitco/new_horizons/elyra/venv/lib/python3.8/site-packages (from botocore<1.20.107,>=1.20.106->aiobotocore~=1.4.1->s3fs==2021.11.0) (0.10.0)\n",
      "Requirement already satisfied: python-dateutil<3.0.0,>=2.1 in /home/romeokienzler/gitco/new_horizons/elyra/venv/lib/python3.8/site-packages (from botocore<1.20.107,>=1.20.106->aiobotocore~=1.4.1->s3fs==2021.11.0) (2.8.2)\n",
      "Requirement already satisfied: six>=1.5 in /home/romeokienzler/gitco/new_horizons/elyra/venv/lib/python3.8/site-packages (from python-dateutil<3.0.0,>=2.1->botocore<1.20.107,>=1.20.106->aiobotocore~=1.4.1->s3fs==2021.11.0) (1.16.0)\n",
      "Installing collected packages: botocore\n",
      "  Found existing installation: botocore 1.10.62\n",
      "    Uninstalling botocore-1.10.62:\n",
      "      Successfully uninstalled botocore-1.10.62\n",
      "Successfully installed botocore-1.20.106\n",
      "\u001b[33mWARNING: You are using pip version 19.3.1; however, version 21.3.1 is available.\n",
      "You should consider upgrading via the 'pip install --upgrade pip' command.\u001b[0m\n",
      "\u001b[22;0t\u001b]0;IPython: component-library/transform\u0007['claimed-test/data.parquet']\n"
     ]
    }
   ],
   "source": [
    "!ipython cloud-object-store-housekeeping.ipynb"
   ]
  },
  {
   "cell_type": "code",
   "execution_count": null,
   "id": "66a1449c-25d7-4bed-9194-5296ae2410bd",
   "metadata": {},
   "outputs": [],
   "source": []
  }
 ],
 "metadata": {
  "kernelspec": {
   "display_name": "Python 3",
   "language": "python",
   "name": "python3"
  },
  "language_info": {
   "codemirror_mode": {
    "name": "ipython",
    "version": 3
   },
   "file_extension": ".py",
   "mimetype": "text/x-python",
   "name": "python",
   "nbconvert_exporter": "python",
   "pygments_lexer": "ipython3",
   "version": "3.8.6"
  },
  "papermill": {
   "default_parameters": {},
   "duration": 470.538548,
   "end_time": "2021-03-22T20:37:13.369954",
   "environment_variables": {},
   "exception": null,
   "input_path": "/home/jovyan/work/examples/pipelines/pairs/component-library/transform/spark-csv-to-parquet.ipynb",
   "output_path": "/home/jovyan/work/examples/pipelines/pairs/component-library/transform/spark-csv-to-parquet.ipynb",
   "parameters": {},
   "start_time": "2021-03-22T20:29:22.831406",
   "version": "2.3.3"
  }
 },
 "nbformat": 4,
 "nbformat_minor": 5
}
