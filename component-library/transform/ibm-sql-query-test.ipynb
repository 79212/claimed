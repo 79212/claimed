{
 "cells": [
  {
   "cell_type": "code",
   "execution_count": 9,
   "id": "6bfa314b-cc99-4d59-a281-94bfcb49b289",
   "metadata": {},
   "outputs": [
    {
     "name": "stdout",
     "output_type": "stream",
     "text": [
      "Requirement already satisfied: nbformat==5.1.3 in /home/romeokienzler/.conda/envs/elyra/lib/python3.9/site-packages (5.1.3)\n",
      "Requirement already satisfied: ipython-genutils in /home/romeokienzler/.conda/envs/elyra/lib/python3.9/site-packages (from nbformat==5.1.3) (0.2.0)\n",
      "Requirement already satisfied: jsonschema!=2.5.0,>=2.4 in /home/romeokienzler/.conda/envs/elyra/lib/python3.9/site-packages (from nbformat==5.1.3) (4.2.1)\n",
      "Requirement already satisfied: jupyter-core in /home/romeokienzler/.local/lib/python3.9/site-packages (from nbformat==5.1.3) (4.9.1)\n",
      "Requirement already satisfied: traitlets>=4.1 in /home/romeokienzler/.local/lib/python3.9/site-packages (from nbformat==5.1.3) (5.1.1)\n",
      "Requirement already satisfied: pyrsistent!=0.17.0,!=0.17.1,!=0.17.2,>=0.14.0 in /home/romeokienzler/.conda/envs/elyra/lib/python3.9/site-packages (from jsonschema!=2.5.0,>=2.4->nbformat==5.1.3) (0.18.0)\n",
      "Requirement already satisfied: attrs>=17.4.0 in /home/romeokienzler/.conda/envs/elyra/lib/python3.9/site-packages (from jsonschema!=2.5.0,>=2.4->nbformat==5.1.3) (21.2.0)\n"
     ]
    }
   ],
   "source": [
    "!pip install nbformat==5.1.3"
   ]
  },
  {
   "cell_type": "code",
   "execution_count": 4,
   "id": "c42b885f-2551-495a-8deb-4f7f6e755db8",
   "metadata": {},
   "outputs": [],
   "source": [
    "import configparser\n",
    "import os"
   ]
  },
  {
   "cell_type": "code",
   "execution_count": 5,
   "id": "7461ab98-07c3-49b8-b648-a1cfc383de62",
   "metadata": {},
   "outputs": [],
   "source": [
    "config = configparser.ConfigParser()\n",
    "config.read('ibm-sql-query.secrets')\n",
    "config  = config['DEFAULT']\n",
    "for key in config:  \n",
    "    exec('{}=\"{}\"'.format(key,config[key]))\n",
    "    os.environ[key] = config[key]\n",
    "\n",
    "config = configparser.ConfigParser()\n",
    "config.read('ibm-sql-query.config')\n",
    "config  = config['DEFAULT']\n",
    "for key in config:  \n",
    "    exec('{}=\"{}\"'.format(key,config[key]))\n",
    "    os.environ[key] = config[key]"
   ]
  },
  {
   "cell_type": "code",
   "execution_count": null,
   "id": "c64a2466-2c43-43ed-98b1-f7dd5d1b5ca2",
   "metadata": {
    "scrolled": true,
    "tags": []
   },
   "outputs": [],
   "source": [
    "%%bash\n",
    "# delete result if existing\n",
    "if [ `ipython cloud-object-store-housekeeping.ipynb 2> /dev/null | grep result |wc -l` -gt 0 ]; then\n",
    "    ipython cloud-object-store-housekeeping.ipynb operation=\"rm\" path=\"result\"\n",
    "fi"
   ]
  },
  {
   "cell_type": "code",
   "execution_count": null,
   "id": "d51ee3e0-e16a-4236-9c59-1067a256b898",
   "metadata": {},
   "outputs": [],
   "source": [
    "%%bash\n",
    "# verify result deleted\n",
    "if [ `ipython cloud-object-store-housekeeping.ipynb 2> /dev/null | grep result |wc -l` -gt 0 ]; then\n",
    "    echo 'deletion failed'\n",
    "    exit -1\n",
    "fi"
   ]
  },
  {
   "cell_type": "code",
   "execution_count": null,
   "id": "5c13f791-7bb6-46f1-9d01-31363235259d",
   "metadata": {
    "scrolled": true,
    "tags": []
   },
   "outputs": [],
   "source": [
    "!ipython ibm-sql-query.ipynb"
   ]
  },
  {
   "cell_type": "code",
   "execution_count": null,
   "id": "0f71d5ba-7d48-41a9-9253-5bee19f166f9",
   "metadata": {},
   "outputs": [],
   "source": [
    "%%bash\n",
    "# verify result existing\n",
    "if [ `ipython cloud-object-store-housekeeping.ipynb 2> /dev/null | grep result |wc -l` -eq 0 ]; then\n",
    "    echo 'creation failed'\n",
    "    exit -1\n",
    "fi"
   ]
  },
  {
   "cell_type": "code",
   "execution_count": null,
   "id": "9af7177f-b171-46e1-96d2-8df78038cf30",
   "metadata": {
    "scrolled": true,
    "tags": []
   },
   "outputs": [],
   "source": [
    "%%bash\n",
    "# delete result\n",
    "if [ `ipython cloud-object-store-housekeeping.ipynb 2> /dev/null | grep result |wc -l` -gt 0 ]; then\n",
    "    ipython cloud-object-store-housekeeping.ipynb operation=\"rm\" path=\"result\"\n",
    "fi"
   ]
  },
  {
   "cell_type": "code",
   "execution_count": null,
   "id": "a788ed9f-b9a6-4073-9ed9-b870a4081624",
   "metadata": {},
   "outputs": [],
   "source": [
    "%%bash\n",
    "# verify result deleted\n",
    "if [ `ipython cloud-object-store-housekeeping.ipynb 2> /dev/null | grep result |wc -l` -gt 0 ]; then\n",
    "    echo 'deletion failed'\n",
    "    exit -1\n",
    "fi"
   ]
  },
  {
   "cell_type": "code",
   "execution_count": null,
   "id": "0f1ecb54-384e-48bc-9b49-045403bcd47f",
   "metadata": {
    "scrolled": true,
    "tags": []
   },
   "outputs": [],
   "source": [
    "!ipython ibm-sql-query.ipynb output_format='parquet'"
   ]
  },
  {
   "cell_type": "code",
   "execution_count": null,
   "id": "66a1449c-25d7-4bed-9194-5296ae2410bd",
   "metadata": {
    "tags": []
   },
   "outputs": [],
   "source": [
    "%%bash\n",
    "# verify result existing\n",
    "if [ `ipython cloud-object-store-housekeeping.ipynb 2> /dev/null | grep result |wc -l` -eq 0 ]; then\n",
    "    echo 'creation failed'\n",
    "    exit -1\n",
    "fi"
   ]
  },
  {
   "cell_type": "code",
   "execution_count": null,
   "id": "c080cb30-2f8d-43a7-b0ed-a08c390c4e62",
   "metadata": {
    "scrolled": true,
    "tags": []
   },
   "outputs": [],
   "source": [
    "%%bash\n",
    "# delete result\n",
    "if [ `ipython cloud-object-store-housekeeping.ipynb 2> /dev/null | grep result |wc -l` -gt 0 ]; then\n",
    "    ipython cloud-object-store-housekeeping.ipynb operation=\"rm\" path=\"result\"\n",
    "fi"
   ]
  },
  {
   "cell_type": "code",
   "execution_count": null,
   "id": "84369b66-35b1-4509-ad0b-860684069e26",
   "metadata": {},
   "outputs": [],
   "source": [
    "%%bash\n",
    "# verify result deleted\n",
    "if [ `ipython cloud-object-store-housekeeping.ipynb 2> /dev/null | grep result |wc -l` -gt 0 ]; then\n",
    "    echo 'deletion failed'\n",
    "    exit -1\n",
    "fi"
   ]
  },
  {
   "cell_type": "code",
   "execution_count": null,
   "id": "8ebc20cc-0b8f-4e1b-b9ba-7e7d4db87f4f",
   "metadata": {
    "scrolled": true,
    "tags": []
   },
   "outputs": [],
   "source": [
    "!ipython ibm-sql-query.ipynb output_partition_columns='x,y,z'"
   ]
  },
  {
   "cell_type": "code",
   "execution_count": null,
   "id": "6005f6ec-f2f3-4f51-8e0c-45d1032adbe7",
   "metadata": {
    "tags": []
   },
   "outputs": [],
   "source": [
    "%%bash\n",
    "# verify result existing and corrent number of partitions\n",
    "if [ `ipython cloud-object-store-housekeeping.ipynb operation=\"walk\" path=\"result\" 2> /dev/null |grep result |wc -l` -ne 4339 ]; then\n",
    "    echo 'creation failed, number of partitions <> 4339'\n",
    "    exit -1\n",
    "fi"
   ]
  },
  {
   "cell_type": "code",
   "execution_count": null,
   "id": "bee20853-2578-4915-af89-31e814a4cb36",
   "metadata": {
    "scrolled": true,
    "tags": []
   },
   "outputs": [],
   "source": [
    "%%bash\n",
    "# delete result\n",
    "if [ `ipython cloud-object-store-housekeeping.ipynb 2> /dev/null | grep result |wc -l` -gt 0 ]; then\n",
    "    ipython cloud-object-store-housekeeping.ipynb operation=\"rm\" path=\"result\"\n",
    "fi"
   ]
  },
  {
   "cell_type": "code",
   "execution_count": null,
   "id": "2934f4a0-8ed8-491b-8f3c-8c7d27810210",
   "metadata": {},
   "outputs": [],
   "source": [
    "%%bash\n",
    "# verify result deleted\n",
    "if [ `ipython cloud-object-store-housekeeping.ipynb 2> /dev/null | grep result |wc -l` -gt 0 ]; then\n",
    "    echo 'deletion failed'\n",
    "    exit -1\n",
    "fi"
   ]
  },
  {
   "cell_type": "code",
   "execution_count": null,
   "id": "df8072ed-7198-4b5d-9586-7ea546785c8a",
   "metadata": {
    "scrolled": true,
    "tags": []
   },
   "outputs": [],
   "source": [
    "!ipython ibm-sql-query.ipynb output_partition_columns='x,y,z' output_format='parquet'"
   ]
  },
  {
   "cell_type": "code",
   "execution_count": null,
   "id": "860cdb15-9736-4374-b6ed-9aca6f651a4d",
   "metadata": {
    "tags": []
   },
   "outputs": [],
   "source": [
    "%%bash\n",
    "# verify result existing and corrent number of partitions\n",
    "if [ `ipython cloud-object-store-housekeeping.ipynb operation=\"walk\" path=\"result\" 2> /dev/null |grep result |wc -l` -ne 2170 ]; then\n",
    "    echo 'creation failed, number of partitions <> 2170'\n",
    "    exit -1\n",
    "fi"
   ]
  },
  {
   "cell_type": "code",
   "execution_count": null,
   "id": "4ad716d5-8fe9-41f7-b9df-7c2f91f99f69",
   "metadata": {
    "scrolled": true,
    "tags": []
   },
   "outputs": [],
   "source": [
    "%%bash\n",
    "# delete result\n",
    "if [ `ipython cloud-object-store-housekeeping.ipynb 2> /dev/null | grep result |wc -l` -gt 0 ]; then\n",
    "    ipython cloud-object-store-housekeeping.ipynb operation=\"rm\" path=\"result\"\n",
    "fi"
   ]
  },
  {
   "cell_type": "code",
   "execution_count": null,
   "id": "0048e10b-65d6-465f-9d88-0abc7076a79c",
   "metadata": {},
   "outputs": [],
   "source": [
    "%%bash\n",
    "# verify result deleted\n",
    "if [ `ipython cloud-object-store-housekeeping.ipynb 2> /dev/null | grep result |wc -l` -gt 0 ]; then\n",
    "    echo 'deletion failed'\n",
    "    exit -1\n",
    "fi"
   ]
  },
  {
   "cell_type": "markdown",
   "id": "9961c5b8-932b-45f4-a256-e8cdc85592fd",
   "metadata": {
    "tags": []
   },
   "source": [
    "# TEST"
   ]
  },
  {
   "cell_type": "code",
   "execution_count": null,
   "id": "b655d0f4-4ced-4042-a357-9a32d348f714",
   "metadata": {
    "scrolled": true,
    "tags": []
   },
   "outputs": [],
   "source": [
    "!ipython ibm-sql-query.ipynb output_format='parquet' output_partition_columns='x,y,z' output_number_of_objects=\"42\""
   ]
  },
  {
   "cell_type": "code",
   "execution_count": null,
   "id": "67e5e80a-01ad-469b-96c5-5dfec353d0ce",
   "metadata": {
    "tags": []
   },
   "outputs": [],
   "source": [
    "%%bash\n",
    "# verify result existing and corrent number of partitions\n",
    "if [ `ipython cloud-object-store-housekeeping.ipynb operation=\"walk\" path=\"result\" 2> /dev/null |grep result |wc -l` -ne 2 ]; then\n",
    "    echo 'creation failed, number of partitions <> 2'\n",
    "    exit -1\n",
    "fi"
   ]
  },
  {
   "cell_type": "code",
   "execution_count": null,
   "id": "8557895e-af81-49c6-ac30-a2c422756091",
   "metadata": {
    "scrolled": true,
    "tags": []
   },
   "outputs": [],
   "source": [
    "%%bash\n",
    "# delete result\n",
    "if [ `ipython cloud-object-store-housekeeping.ipynb 2> /dev/null | grep result |wc -l` -gt 0 ]; then\n",
    "    ipython cloud-object-store-housekeeping.ipynb operation=\"rm\" path=\"result\"\n",
    "fi"
   ]
  },
  {
   "cell_type": "code",
   "execution_count": null,
   "id": "90aba535-edcb-452a-97b4-6d18a2bb2de0",
   "metadata": {},
   "outputs": [],
   "source": [
    "%%bash\n",
    "# verify result deleted\n",
    "if [ `ipython cloud-object-store-housekeeping.ipynb 2> /dev/null | grep result |wc -l` -gt 0 ]; then\n",
    "    echo 'deletion failed'\n",
    "    exit -1\n",
    "fi"
   ]
  },
  {
   "cell_type": "markdown",
   "id": "0a3d14b0-a4fe-492d-85e3-af807f888a6b",
   "metadata": {
    "tags": []
   },
   "source": [
    "# TEST"
   ]
  },
  {
   "cell_type": "code",
   "execution_count": null,
   "id": "b2789ab7-f7ad-4089-9c4e-5bd96f898361",
   "metadata": {
    "scrolled": true,
    "tags": []
   },
   "outputs": [
    {
     "name": "stdout",
     "output_type": "stream",
     "text": [
      "\u001b[22;0t\u001b]0;IPython: component-library/transform\u0007Requirement already satisfied: ibmcloudsql==0.4.29 in /home/romeokienzler/.conda/envs/elyra/lib/python3.9/site-packages (0.4.29)\n",
      "Requirement already satisfied: pyarrow in /home/romeokienzler/.conda/envs/elyra/lib/python3.9/site-packages (from ibmcloudsql==0.4.29) (6.0.1)\n",
      "Requirement already satisfied: numpy in /home/romeokienzler/.conda/envs/elyra/lib/python3.9/site-packages (from ibmcloudsql==0.4.29) (1.21.4)\n",
      "Requirement already satisfied: backoff==1.10.0 in /home/romeokienzler/.conda/envs/elyra/lib/python3.9/site-packages (from ibmcloudsql==0.4.29) (1.10.0)\n",
      "Requirement already satisfied: typing-extensions in /home/romeokienzler/.conda/envs/elyra/lib/python3.9/site-packages (from ibmcloudsql==0.4.29) (4.0.1)\n",
      "Requirement already satisfied: sqlparse>=0.4.2 in /home/romeokienzler/.conda/envs/elyra/lib/python3.9/site-packages (from ibmcloudsql==0.4.29) (0.4.2)\n",
      "Requirement already satisfied: pre-commit in /home/romeokienzler/.conda/envs/elyra/lib/python3.9/site-packages (from ibmcloudsql==0.4.29) (2.16.0)\n",
      "Requirement already satisfied: ibm-cos-sdk-core>=2.7.0 in /home/romeokienzler/.conda/envs/elyra/lib/python3.9/site-packages (from ibmcloudsql==0.4.29) (2.11.0)\n",
      "Requirement already satisfied: ibm-cos-sdk>=2.7.0 in /home/romeokienzler/.conda/envs/elyra/lib/python3.9/site-packages (from ibmcloudsql==0.4.29) (2.11.0)\n",
      "Requirement already satisfied: requests>=2.2.0 in /home/romeokienzler/.conda/envs/elyra/lib/python3.9/site-packages (from ibmcloudsql==0.4.29) (2.26.0)\n",
      "Requirement already satisfied: importlib-metadata in /home/romeokienzler/.conda/envs/elyra/lib/python3.9/site-packages (from ibmcloudsql==0.4.29) (4.8.2)\n",
      "Requirement already satisfied: isodate in /home/romeokienzler/.conda/envs/elyra/lib/python3.9/site-packages (from ibmcloudsql==0.4.29) (0.6.0)\n",
      "Requirement already satisfied: pandas>=1.3.0 in /home/romeokienzler/.conda/envs/elyra/lib/python3.9/site-packages (from ibmcloudsql==0.4.29) (1.3.4)\n",
      "Requirement already satisfied: packaging in /home/romeokienzler/.conda/envs/elyra/lib/python3.9/site-packages (from ibmcloudsql==0.4.29) (21.3)\n",
      "Requirement already satisfied: jmespath<1.0.0,>=0.7.1 in /home/romeokienzler/.conda/envs/elyra/lib/python3.9/site-packages (from ibm-cos-sdk>=2.7.0->ibmcloudsql==0.4.29) (0.10.0)\n",
      "Requirement already satisfied: ibm-cos-sdk-s3transfer==2.11.0 in /home/romeokienzler/.conda/envs/elyra/lib/python3.9/site-packages (from ibm-cos-sdk>=2.7.0->ibmcloudsql==0.4.29) (2.11.0)\n",
      "Requirement already satisfied: urllib3<1.27,>=1.26.7 in /home/romeokienzler/.conda/envs/elyra/lib/python3.9/site-packages (from ibm-cos-sdk-core>=2.7.0->ibmcloudsql==0.4.29) (1.26.7)\n",
      "Requirement already satisfied: python-dateutil<3.0.0,>=2.1 in /home/romeokienzler/.local/lib/python3.9/site-packages (from ibm-cos-sdk-core>=2.7.0->ibmcloudsql==0.4.29) (2.8.2)\n",
      "Requirement already satisfied: pytz>=2017.3 in /home/romeokienzler/.conda/envs/elyra/lib/python3.9/site-packages (from pandas>=1.3.0->ibmcloudsql==0.4.29) (2021.3)\n",
      "Requirement already satisfied: certifi>=2017.4.17 in /home/romeokienzler/.conda/envs/elyra/lib/python3.9/site-packages (from requests>=2.2.0->ibmcloudsql==0.4.29) (2021.10.8)\n",
      "Requirement already satisfied: idna<4,>=2.5 in /home/romeokienzler/.conda/envs/elyra/lib/python3.9/site-packages (from requests>=2.2.0->ibmcloudsql==0.4.29) (3.3)\n",
      "Requirement already satisfied: charset-normalizer~=2.0.0 in /home/romeokienzler/.conda/envs/elyra/lib/python3.9/site-packages (from requests>=2.2.0->ibmcloudsql==0.4.29) (2.0.9)\n",
      "Requirement already satisfied: zipp>=0.5 in /home/romeokienzler/.conda/envs/elyra/lib/python3.9/site-packages (from importlib-metadata->ibmcloudsql==0.4.29) (3.6.0)\n",
      "Requirement already satisfied: six in /home/romeokienzler/.local/lib/python3.9/site-packages (from isodate->ibmcloudsql==0.4.29) (1.16.0)\n",
      "Requirement already satisfied: pyparsing!=3.0.5,>=2.0.2 in /home/romeokienzler/.conda/envs/elyra/lib/python3.9/site-packages (from packaging->ibmcloudsql==0.4.29) (3.0.6)\n",
      "Requirement already satisfied: nodeenv>=0.11.1 in /home/romeokienzler/.conda/envs/elyra/lib/python3.9/site-packages (from pre-commit->ibmcloudsql==0.4.29) (1.6.0)\n",
      "Requirement already satisfied: pyyaml>=5.1 in /home/romeokienzler/.conda/envs/elyra/lib/python3.9/site-packages (from pre-commit->ibmcloudsql==0.4.29) (6.0)\n",
      "Requirement already satisfied: virtualenv>=20.0.8 in /home/romeokienzler/.conda/envs/elyra/lib/python3.9/site-packages (from pre-commit->ibmcloudsql==0.4.29) (20.10.0)\n",
      "Requirement already satisfied: identify>=1.0.0 in /home/romeokienzler/.conda/envs/elyra/lib/python3.9/site-packages (from pre-commit->ibmcloudsql==0.4.29) (2.4.0)\n",
      "Requirement already satisfied: toml in /home/romeokienzler/.conda/envs/elyra/lib/python3.9/site-packages (from pre-commit->ibmcloudsql==0.4.29) (0.10.2)\n",
      "Requirement already satisfied: cfgv>=2.0.0 in /home/romeokienzler/.conda/envs/elyra/lib/python3.9/site-packages (from pre-commit->ibmcloudsql==0.4.29) (3.3.1)\n",
      "Requirement already satisfied: distlib<1,>=0.3.1 in /home/romeokienzler/.conda/envs/elyra/lib/python3.9/site-packages (from virtualenv>=20.0.8->pre-commit->ibmcloudsql==0.4.29) (0.3.3)\n",
      "Requirement already satisfied: filelock<4,>=3.2 in /home/romeokienzler/.conda/envs/elyra/lib/python3.9/site-packages (from virtualenv>=20.0.8->pre-commit->ibmcloudsql==0.4.29) (3.4.0)\n",
      "Requirement already satisfied: platformdirs<3,>=2 in /home/romeokienzler/.conda/envs/elyra/lib/python3.9/site-packages (from virtualenv>=20.0.8->pre-commit->ibmcloudsql==0.4.29) (2.4.0)\n",
      "Requirement already satisfied: backports.entry-points-selectable>=1.0.4 in /home/romeokienzler/.conda/envs/elyra/lib/python3.9/site-packages (from virtualenv>=20.0.8->pre-commit->ibmcloudsql==0.4.29) (1.1.1)\n",
      "WARNING:root:Parameter: output_format=\"parquet\"\n",
      "WARNING:root:Parameter: output_partition_columns=\"x,y,z\"\n",
      "WARNING:root:Parameter: output_number_of_objects=\"42\"\n",
      "WARNING:root:Parameter: output_rows_per_object=\"23\"\n",
      "SELECT * FROM cos://eu-de/claimed-test/data.parquet stored as parquet INTO cos://s3.eu-de.cloud-object-storage.appdomain.cloud/claimed-test/result STORED AS parquet PARTITIONED BY (x,y,z) INTO 42 OBJECTS EVERY 23 ROWS\n"
     ]
    }
   ],
   "source": [
    "!ipython ibm-sql-query.ipynb output_format='parquet' output_partition_columns='x,y,z' output_number_of_objects=\"42\" output_rows_per_object=\"23\""
   ]
  },
  {
   "cell_type": "code",
   "execution_count": null,
   "id": "68e7235f-62a9-4f0d-9fe9-9974b5b77aa9",
   "metadata": {},
   "outputs": [
    {
     "name": "stdout",
     "output_type": "stream",
     "text": [
      "('claimed-test/result', ['jobid=0a08a3e9-814e-40fb-89a8-81f954e9c8f2'], ['jobid=0a08a3e9-814e-40fb-89a8-81f954e9c8f2'])\n",
      "('claimed-test/result/jobid=0a08a3e9-814e-40fb-89a8-81f954e9c8f2', [], ['_SUCCESS', 'part-00000-7a1ad3d9-c97c-4024-b054-67bc5a8a9a6a-c000-attempt_20211206172404_0020_m_000000_32.snappy.parquet', 'part-00000-7a1ad3d9-c97c-4024-b054-67bc5a8a9a6a-c001-attempt_20211206172404_0020_m_000000_32.snappy.parquet', 'part-00000-7a1ad3d9-c97c-4024-b054-67bc5a8a9a6a-c002-attempt_20211206172404_0020_m_000000_32.snappy.parquet', 'part-00000-7a1ad3d9-c97c-4024-b054-67bc5a8a9a6a-c003-attempt_20211206172404_0020_m_000000_32.snappy.parquet', 'part-00001-7a1ad3d9-c97c-4024-b054-67bc5a8a9a6a-c000-attempt_20211206172404_0020_m_000001_33.snappy.parquet', 'part-00001-7a1ad3d9-c97c-4024-b054-67bc5a8a9a6a-c001-attempt_20211206172404_0020_m_000001_33.snappy.parquet', 'part-00002-7a1ad3d9-c97c-4024-b054-67bc5a8a9a6a-c000-attempt_20211206172407_0020_m_000002_34.snappy.parquet', 'part-00002-7a1ad3d9-c97c-4024-b054-67bc5a8a9a6a-c001-attempt_20211206172407_0020_m_000002_34.snappy.parquet', 'part-00002-7a1ad3d9-c97c-4024-b054-67bc5a8a9a6a-c002-attempt_20211206172407_0020_m_000002_34.snappy.parquet', 'part-00002-7a1ad3d9-c97c-4024-b054-67bc5a8a9a6a-c003-attempt_20211206172407_0020_m_000002_34.snappy.parquet', 'part-00003-7a1ad3d9-c97c-4024-b054-67bc5a8a9a6a-c000-attempt_20211206172410_0020_m_000003_35.snappy.parquet', 'part-00003-7a1ad3d9-c97c-4024-b054-67bc5a8a9a6a-c001-attempt_20211206172410_0020_m_000003_35.snappy.parquet', 'part-00003-7a1ad3d9-c97c-4024-b054-67bc5a8a9a6a-c002-attempt_20211206172410_0020_m_000003_35.snappy.parquet', 'part-00003-7a1ad3d9-c97c-4024-b054-67bc5a8a9a6a-c003-attempt_20211206172410_0020_m_000003_35.snappy.parquet', 'part-00004-7a1ad3d9-c97c-4024-b054-67bc5a8a9a6a-c000-attempt_20211206172414_0020_m_000004_36.snappy.parquet', 'part-00004-7a1ad3d9-c97c-4024-b054-67bc5a8a9a6a-c001-attempt_20211206172414_0020_m_000004_36.snappy.parquet', 'part-00004-7a1ad3d9-c97c-4024-b054-67bc5a8a9a6a-c002-attempt_20211206172414_0020_m_000004_36.snappy.parquet', 'part-00004-7a1ad3d9-c97c-4024-b054-67bc5a8a9a6a-c003-attempt_20211206172414_0020_m_000004_36.snappy.parquet', 'part-00005-7a1ad3d9-c97c-4024-b054-67bc5a8a9a6a-c000-attempt_20211206172414_0020_m_000005_37.snappy.parquet', 'part-00005-7a1ad3d9-c97c-4024-b054-67bc5a8a9a6a-c001-attempt_20211206172414_0020_m_000005_37.snappy.parquet', 'part-00006-7a1ad3d9-c97c-4024-b054-67bc5a8a9a6a-c000-attempt_20211206172416_0020_m_000006_38.snappy.parquet', 'part-00006-7a1ad3d9-c97c-4024-b054-67bc5a8a9a6a-c001-attempt_20211206172416_0020_m_000006_38.snappy.parquet', 'part-00006-7a1ad3d9-c97c-4024-b054-67bc5a8a9a6a-c002-attempt_20211206172416_0020_m_000006_38.snappy.parquet', 'part-00006-7a1ad3d9-c97c-4024-b054-67bc5a8a9a6a-c003-attempt_20211206172416_0020_m_000006_38.snappy.parquet', 'part-00006-7a1ad3d9-c97c-4024-b054-67bc5a8a9a6a-c004-attempt_20211206172416_0020_m_000006_38.snappy.parquet', 'part-00007-7a1ad3d9-c97c-4024-b054-67bc5a8a9a6a-c000-attempt_20211206172416_0020_m_000007_39.snappy.parquet', 'part-00007-7a1ad3d9-c97c-4024-b054-67bc5a8a9a6a-c001-attempt_20211206172416_0020_m_000007_39.snappy.parquet', 'part-00007-7a1ad3d9-c97c-4024-b054-67bc5a8a9a6a-c002-attempt_20211206172416_0020_m_000007_39.snappy.parquet', 'part-00007-7a1ad3d9-c97c-4024-b054-67bc5a8a9a6a-c003-attempt_20211206172416_0020_m_000007_39.snappy.parquet', 'part-00008-7a1ad3d9-c97c-4024-b054-67bc5a8a9a6a-c000-attempt_20211206172413_0020_m_000008_40.snappy.parquet', 'part-00008-7a1ad3d9-c97c-4024-b054-67bc5a8a9a6a-c001-attempt_20211206172413_0020_m_000008_40.snappy.parquet', 'part-00008-7a1ad3d9-c97c-4024-b054-67bc5a8a9a6a-c002-attempt_20211206172413_0020_m_000008_40.snappy.parquet', 'part-00008-7a1ad3d9-c97c-4024-b054-67bc5a8a9a6a-c003-attempt_20211206172413_0020_m_000008_40.snappy.parquet', 'part-00009-7a1ad3d9-c97c-4024-b054-67bc5a8a9a6a-c000-attempt_20211206172417_0020_m_000009_41.snappy.parquet', 'part-00009-7a1ad3d9-c97c-4024-b054-67bc5a8a9a6a-c001-attempt_20211206172417_0020_m_000009_41.snappy.parquet', 'part-00009-7a1ad3d9-c97c-4024-b054-67bc5a8a9a6a-c002-attempt_20211206172417_0020_m_000009_41.snappy.parquet', 'part-00009-7a1ad3d9-c97c-4024-b054-67bc5a8a9a6a-c003-attempt_20211206172417_0020_m_000009_41.snappy.parquet', 'part-00010-7a1ad3d9-c97c-4024-b054-67bc5a8a9a6a-c000-attempt_20211206172417_0020_m_000010_42.snappy.parquet', 'part-00010-7a1ad3d9-c97c-4024-b054-67bc5a8a9a6a-c001-attempt_20211206172417_0020_m_000010_42.snappy.parquet', 'part-00010-7a1ad3d9-c97c-4024-b054-67bc5a8a9a6a-c002-attempt_20211206172417_0020_m_000010_42.snappy.parquet', 'part-00011-7a1ad3d9-c97c-4024-b054-67bc5a8a9a6a-c000-attempt_20211206172416_0020_m_000011_43.snappy.parquet', 'part-00011-7a1ad3d9-c97c-4024-b054-67bc5a8a9a6a-c001-attempt_20211206172416_0020_m_000011_43.snappy.parquet', 'part-00011-7a1ad3d9-c97c-4024-b054-67bc5a8a9a6a-c002-attempt_20211206172416_0020_m_000011_43.snappy.parquet', 'part-00012-7a1ad3d9-c97c-4024-b054-67bc5a8a9a6a-c000-attempt_20211206172416_0020_m_000012_44.snappy.parquet', 'part-00012-7a1ad3d9-c97c-4024-b054-67bc5a8a9a6a-c001-attempt_20211206172416_0020_m_000012_44.snappy.parquet', 'part-00012-7a1ad3d9-c97c-4024-b054-67bc5a8a9a6a-c002-attempt_20211206172416_0020_m_000012_44.snappy.parquet', 'part-00013-7a1ad3d9-c97c-4024-b054-67bc5a8a9a6a-c000-attempt_20211206172417_0020_m_000013_45.snappy.parquet', 'part-00013-7a1ad3d9-c97c-4024-b054-67bc5a8a9a6a-c001-attempt_20211206172417_0020_m_000013_45.snappy.parquet', 'part-00013-7a1ad3d9-c97c-4024-b054-67bc5a8a9a6a-c002-attempt_20211206172417_0020_m_000013_45.snappy.parquet', 'part-00014-7a1ad3d9-c97c-4024-b054-67bc5a8a9a6a-c000-attempt_20211206172417_0020_m_000014_46.snappy.parquet', 'part-00014-7a1ad3d9-c97c-4024-b054-67bc5a8a9a6a-c001-attempt_20211206172417_0020_m_000014_46.snappy.parquet', 'part-00014-7a1ad3d9-c97c-4024-b054-67bc5a8a9a6a-c002-attempt_20211206172417_0020_m_000014_46.snappy.parquet', 'part-00015-7a1ad3d9-c97c-4024-b054-67bc5a8a9a6a-c000-attempt_20211206172417_0020_m_000015_47.snappy.parquet', 'part-00015-7a1ad3d9-c97c-4024-b054-67bc5a8a9a6a-c001-attempt_20211206172417_0020_m_000015_47.snappy.parquet', 'part-00015-7a1ad3d9-c97c-4024-b054-67bc5a8a9a6a-c002-attempt_20211206172417_0020_m_000015_47.snappy.parquet', 'part-00016-7a1ad3d9-c97c-4024-b054-67bc5a8a9a6a-c000-attempt_20211206172417_0020_m_000016_48.snappy.parquet', 'part-00016-7a1ad3d9-c97c-4024-b054-67bc5a8a9a6a-c001-attempt_20211206172417_0020_m_000016_48.snappy.parquet', 'part-00016-7a1ad3d9-c97c-4024-b054-67bc5a8a9a6a-c002-attempt_20211206172417_0020_m_000016_48.snappy.parquet', 'part-00017-7a1ad3d9-c97c-4024-b054-67bc5a8a9a6a-c000-attempt_20211206172416_0020_m_000017_49.snappy.parquet', 'part-00017-7a1ad3d9-c97c-4024-b054-67bc5a8a9a6a-c001-attempt_20211206172416_0020_m_000017_49.snappy.parquet', 'part-00017-7a1ad3d9-c97c-4024-b054-67bc5a8a9a6a-c002-attempt_20211206172416_0020_m_000017_49.snappy.parquet', 'part-00018-7a1ad3d9-c97c-4024-b054-67bc5a8a9a6a-c000-attempt_20211206172419_0020_m_000018_50.snappy.parquet', 'part-00018-7a1ad3d9-c97c-4024-b054-67bc5a8a9a6a-c001-attempt_20211206172419_0020_m_000018_50.snappy.parquet', 'part-00018-7a1ad3d9-c97c-4024-b054-67bc5a8a9a6a-c002-attempt_20211206172419_0020_m_000018_50.snappy.parquet', 'part-00018-7a1ad3d9-c97c-4024-b054-67bc5a8a9a6a-c003-attempt_20211206172419_0020_m_000018_50.snappy.parquet', 'part-00019-7a1ad3d9-c97c-4024-b054-67bc5a8a9a6a-c000-attempt_20211206172421_0020_m_000019_51.snappy.parquet', 'part-00019-7a1ad3d9-c97c-4024-b054-67bc5a8a9a6a-c001-attempt_20211206172421_0020_m_000019_51.snappy.parquet', 'part-00020-7a1ad3d9-c97c-4024-b054-67bc5a8a9a6a-c000-attempt_20211206172421_0020_m_000020_52.snappy.parquet', 'part-00020-7a1ad3d9-c97c-4024-b054-67bc5a8a9a6a-c001-attempt_20211206172421_0020_m_000020_52.snappy.parquet', 'part-00020-7a1ad3d9-c97c-4024-b054-67bc5a8a9a6a-c002-attempt_20211206172421_0020_m_000020_52.snappy.parquet', 'part-00020-7a1ad3d9-c97c-4024-b054-67bc5a8a9a6a-c003-attempt_20211206172421_0020_m_000020_52.snappy.parquet', 'part-00020-7a1ad3d9-c97c-4024-b054-67bc5a8a9a6a-c004-attempt_20211206172421_0020_m_000020_52.snappy.parquet', 'part-00021-7a1ad3d9-c97c-4024-b054-67bc5a8a9a6a-c000-attempt_20211206172423_0020_m_000021_53.snappy.parquet', 'part-00021-7a1ad3d9-c97c-4024-b054-67bc5a8a9a6a-c001-attempt_20211206172423_0020_m_000021_53.snappy.parquet', 'part-00021-7a1ad3d9-c97c-4024-b054-67bc5a8a9a6a-c002-attempt_20211206172423_0020_m_000021_53.snappy.parquet', 'part-00022-7a1ad3d9-c97c-4024-b054-67bc5a8a9a6a-c000-attempt_20211206172424_0020_m_000022_54.snappy.parquet', 'part-00022-7a1ad3d9-c97c-4024-b054-67bc5a8a9a6a-c001-attempt_20211206172424_0020_m_000022_54.snappy.parquet', 'part-00022-7a1ad3d9-c97c-4024-b054-67bc5a8a9a6a-c002-attempt_20211206172424_0020_m_000022_54.snappy.parquet', 'part-00023-7a1ad3d9-c97c-4024-b054-67bc5a8a9a6a-c000-attempt_20211206172424_0020_m_000023_55.snappy.parquet', 'part-00023-7a1ad3d9-c97c-4024-b054-67bc5a8a9a6a-c001-attempt_20211206172424_0020_m_000023_55.snappy.parquet', 'part-00024-7a1ad3d9-c97c-4024-b054-67bc5a8a9a6a-c000-attempt_20211206172424_0020_m_000024_56.snappy.parquet', 'part-00024-7a1ad3d9-c97c-4024-b054-67bc5a8a9a6a-c001-attempt_20211206172424_0020_m_000024_56.snappy.parquet', 'part-00024-7a1ad3d9-c97c-4024-b054-67bc5a8a9a6a-c002-attempt_20211206172424_0020_m_000024_56.snappy.parquet', 'part-00025-7a1ad3d9-c97c-4024-b054-67bc5a8a9a6a-c000-attempt_20211206172424_0020_m_000025_57.snappy.parquet', 'part-00025-7a1ad3d9-c97c-4024-b054-67bc5a8a9a6a-c001-attempt_20211206172424_0020_m_000025_57.snappy.parquet', 'part-00025-7a1ad3d9-c97c-4024-b054-67bc5a8a9a6a-c002-attempt_20211206172424_0020_m_000025_57.snappy.parquet', 'part-00025-7a1ad3d9-c97c-4024-b054-67bc5a8a9a6a-c003-attempt_20211206172424_0020_m_000025_57.snappy.parquet', 'part-00026-7a1ad3d9-c97c-4024-b054-67bc5a8a9a6a-c000-attempt_20211206172424_0020_m_000026_58.snappy.parquet', 'part-00026-7a1ad3d9-c97c-4024-b054-67bc5a8a9a6a-c001-attempt_20211206172424_0020_m_000026_58.snappy.parquet', 'part-00026-7a1ad3d9-c97c-4024-b054-67bc5a8a9a6a-c002-attempt_20211206172424_0020_m_000026_58.snappy.parquet', 'part-00026-7a1ad3d9-c97c-4024-b054-67bc5a8a9a6a-c003-attempt_20211206172424_0020_m_000026_58.snappy.parquet', 'part-00027-7a1ad3d9-c97c-4024-b054-67bc5a8a9a6a-c000-attempt_20211206172424_0020_m_000027_59.snappy.parquet', 'part-00027-7a1ad3d9-c97c-4024-b054-67bc5a8a9a6a-c001-attempt_20211206172424_0020_m_000027_59.snappy.parquet', 'part-00027-7a1ad3d9-c97c-4024-b054-67bc5a8a9a6a-c002-attempt_20211206172424_0020_m_000027_59.snappy.parquet', 'part-00027-7a1ad3d9-c97c-4024-b054-67bc5a8a9a6a-c003-attempt_20211206172424_0020_m_000027_59.snappy.parquet', 'part-00028-7a1ad3d9-c97c-4024-b054-67bc5a8a9a6a-c000-attempt_20211206172424_0020_m_000028_60.snappy.parquet', 'part-00028-7a1ad3d9-c97c-4024-b054-67bc5a8a9a6a-c001-attempt_20211206172424_0020_m_000028_60.snappy.parquet', 'part-00028-7a1ad3d9-c97c-4024-b054-67bc5a8a9a6a-c002-attempt_20211206172424_0020_m_000028_60.snappy.parquet', 'part-00029-7a1ad3d9-c97c-4024-b054-67bc5a8a9a6a-c000-attempt_20211206172424_0020_m_000029_61.snappy.parquet', 'part-00029-7a1ad3d9-c97c-4024-b054-67bc5a8a9a6a-c001-attempt_20211206172424_0020_m_000029_61.snappy.parquet', 'part-00029-7a1ad3d9-c97c-4024-b054-67bc5a8a9a6a-c002-attempt_20211206172424_0020_m_000029_61.snappy.parquet', 'part-00029-7a1ad3d9-c97c-4024-b054-67bc5a8a9a6a-c003-attempt_20211206172424_0020_m_000029_61.snappy.parquet', 'part-00030-7a1ad3d9-c97c-4024-b054-67bc5a8a9a6a-c000-attempt_20211206172425_0020_m_000030_62.snappy.parquet', 'part-00030-7a1ad3d9-c97c-4024-b054-67bc5a8a9a6a-c001-attempt_20211206172425_0020_m_000030_62.snappy.parquet', 'part-00030-7a1ad3d9-c97c-4024-b054-67bc5a8a9a6a-c002-attempt_20211206172425_0020_m_000030_62.snappy.parquet', 'part-00030-7a1ad3d9-c97c-4024-b054-67bc5a8a9a6a-c003-attempt_20211206172425_0020_m_000030_62.snappy.parquet', 'part-00031-7a1ad3d9-c97c-4024-b054-67bc5a8a9a6a-c000-attempt_20211206172425_0020_m_000031_63.snappy.parquet', 'part-00031-7a1ad3d9-c97c-4024-b054-67bc5a8a9a6a-c001-attempt_20211206172425_0020_m_000031_63.snappy.parquet', 'part-00031-7a1ad3d9-c97c-4024-b054-67bc5a8a9a6a-c002-attempt_20211206172425_0020_m_000031_63.snappy.parquet', 'part-00032-7a1ad3d9-c97c-4024-b054-67bc5a8a9a6a-c000-attempt_20211206172425_0020_m_000032_64.snappy.parquet', 'part-00032-7a1ad3d9-c97c-4024-b054-67bc5a8a9a6a-c001-attempt_20211206172425_0020_m_000032_64.snappy.parquet', 'part-00032-7a1ad3d9-c97c-4024-b054-67bc5a8a9a6a-c002-attempt_20211206172425_0020_m_000032_64.snappy.parquet', 'part-00033-7a1ad3d9-c97c-4024-b054-67bc5a8a9a6a-c000-attempt_20211206172426_0020_m_000033_65.snappy.parquet', 'part-00033-7a1ad3d9-c97c-4024-b054-67bc5a8a9a6a-c001-attempt_20211206172426_0020_m_000033_65.snappy.parquet', 'part-00033-7a1ad3d9-c97c-4024-b054-67bc5a8a9a6a-c002-attempt_20211206172426_0020_m_000033_65.snappy.parquet', 'part-00034-7a1ad3d9-c97c-4024-b054-67bc5a8a9a6a-c000-attempt_20211206172427_0020_m_000034_66.snappy.parquet', 'part-00034-7a1ad3d9-c97c-4024-b054-67bc5a8a9a6a-c001-attempt_20211206172427_0020_m_000034_66.snappy.parquet', 'part-00034-7a1ad3d9-c97c-4024-b054-67bc5a8a9a6a-c002-attempt_20211206172427_0020_m_000034_66.snappy.parquet', 'part-00034-7a1ad3d9-c97c-4024-b054-67bc5a8a9a6a-c003-attempt_20211206172427_0020_m_000034_66.snappy.parquet', 'part-00035-7a1ad3d9-c97c-4024-b054-67bc5a8a9a6a-c000-attempt_20211206172428_0020_m_000035_67.snappy.parquet', 'part-00035-7a1ad3d9-c97c-4024-b054-67bc5a8a9a6a-c001-attempt_20211206172428_0020_m_000035_67.snappy.parquet', 'part-00035-7a1ad3d9-c97c-4024-b054-67bc5a8a9a6a-c002-attempt_20211206172428_0020_m_000035_67.snappy.parquet', 'part-00035-7a1ad3d9-c97c-4024-b054-67bc5a8a9a6a-c003-attempt_20211206172428_0020_m_000035_67.snappy.parquet', 'part-00036-7a1ad3d9-c97c-4024-b054-67bc5a8a9a6a-c000-attempt_20211206172428_0020_m_000036_68.snappy.parquet', 'part-00036-7a1ad3d9-c97c-4024-b054-67bc5a8a9a6a-c001-attempt_20211206172428_0020_m_000036_68.snappy.parquet', 'part-00036-7a1ad3d9-c97c-4024-b054-67bc5a8a9a6a-c002-attempt_20211206172428_0020_m_000036_68.snappy.parquet', 'part-00037-7a1ad3d9-c97c-4024-b054-67bc5a8a9a6a-c000-attempt_20211206172428_0020_m_000037_69.snappy.parquet', 'part-00037-7a1ad3d9-c97c-4024-b054-67bc5a8a9a6a-c001-attempt_20211206172428_0020_m_000037_69.snappy.parquet', 'part-00037-7a1ad3d9-c97c-4024-b054-67bc5a8a9a6a-c002-attempt_20211206172428_0020_m_000037_69.snappy.parquet', 'part-00038-7a1ad3d9-c97c-4024-b054-67bc5a8a9a6a-c000-attempt_20211206172428_0020_m_000038_70.snappy.parquet', 'part-00038-7a1ad3d9-c97c-4024-b054-67bc5a8a9a6a-c001-attempt_20211206172428_0020_m_000038_70.snappy.parquet', 'part-00038-7a1ad3d9-c97c-4024-b054-67bc5a8a9a6a-c002-attempt_20211206172428_0020_m_000038_70.snappy.parquet', 'part-00038-7a1ad3d9-c97c-4024-b054-67bc5a8a9a6a-c003-attempt_20211206172428_0020_m_000038_70.snappy.parquet', 'part-00039-7a1ad3d9-c97c-4024-b054-67bc5a8a9a6a-c000-attempt_20211206172428_0020_m_000039_71.snappy.parquet', 'part-00039-7a1ad3d9-c97c-4024-b054-67bc5a8a9a6a-c001-attempt_20211206172428_0020_m_000039_71.snappy.parquet', 'part-00039-7a1ad3d9-c97c-4024-b054-67bc5a8a9a6a-c002-attempt_20211206172428_0020_m_000039_71.snappy.parquet', 'part-00040-7a1ad3d9-c97c-4024-b054-67bc5a8a9a6a-c000-attempt_20211206172429_0020_m_000040_72.snappy.parquet', 'part-00040-7a1ad3d9-c97c-4024-b054-67bc5a8a9a6a-c001-attempt_20211206172429_0020_m_000040_72.snappy.parquet', 'part-00040-7a1ad3d9-c97c-4024-b054-67bc5a8a9a6a-c002-attempt_20211206172429_0020_m_000040_72.snappy.parquet', 'part-00040-7a1ad3d9-c97c-4024-b054-67bc5a8a9a6a-c003-attempt_20211206172429_0020_m_000040_72.snappy.parquet', 'part-00041-7a1ad3d9-c97c-4024-b054-67bc5a8a9a6a-c000-attempt_20211206172430_0020_m_000041_73.snappy.parquet', 'part-00041-7a1ad3d9-c97c-4024-b054-67bc5a8a9a6a-c001-attempt_20211206172430_0020_m_000041_73.snappy.parquet'])\n"
     ]
    }
   ],
   "source": [
    "!ipython cloud-object-store-housekeeping.ipynb operation=\"walk\" path=\"result\" 2> /dev/null |grep result"
   ]
  },
  {
   "cell_type": "code",
   "execution_count": null,
   "id": "d2bcd2e5-433f-47eb-8e1b-26d9481ecf16",
   "metadata": {},
   "outputs": [
    {
     "name": "stdout",
     "output_type": "stream",
     "text": [
      "2\n"
     ]
    }
   ],
   "source": [
    "!ipython cloud-object-store-housekeeping.ipynb operation=\"walk\" path=\"result\" 2> /dev/null |grep result |wc "
   ]
  },
  {
   "cell_type": "code",
   "execution_count": null,
   "id": "bf0cbb88-784f-4bb3-a25d-b79660883552",
   "metadata": {
    "tags": []
   },
   "outputs": [],
   "source": [
    "%%bash\n",
    "# verify result existing and corrent number of partitions\n",
    "if [ `ipython cloud-object-store-housekeeping.ipynb operation=\"walk\" path=\"result\" 2> /dev/null |grep result |wc -l` -ne 2 ]; then\n",
    "    echo 'creation failed, number of partitions <> 2'\n",
    "    exit -1\n",
    "fi"
   ]
  },
  {
   "cell_type": "code",
   "execution_count": null,
   "id": "f5f617ee-7bd2-4d4f-95a0-a8a7600c18a2",
   "metadata": {
    "scrolled": true,
    "tags": []
   },
   "outputs": [],
   "source": [
    "%%bash\n",
    "# delete result\n",
    "if [ `ipython cloud-object-store-housekeeping.ipynb 2> /dev/null | grep result |wc -l` -gt 0 ]; then\n",
    "    ipython cloud-object-store-housekeeping.ipynb operation=\"rm\" path=\"result\"\n",
    "fi"
   ]
  },
  {
   "cell_type": "code",
   "execution_count": null,
   "id": "9f909de5-1165-4f44-bbcd-90d2b586397a",
   "metadata": {},
   "outputs": [],
   "source": [
    "%%bash\n",
    "# verify result deleted\n",
    "if [ `ipython cloud-object-store-housekeeping.ipynb 2> /dev/null | grep result |wc -l` -gt 0 ]; then\n",
    "    echo 'deletion failed'\n",
    "    exit -1\n",
    "fi"
   ]
  }
 ],
 "metadata": {
  "kernelspec": {
   "display_name": "Python 3 (ipykernel)",
   "language": "python",
   "name": "python3"
  },
  "language_info": {
   "codemirror_mode": {
    "name": "ipython",
    "version": 3
   },
   "file_extension": ".py",
   "mimetype": "text/x-python",
   "name": "python",
   "nbconvert_exporter": "python",
   "pygments_lexer": "ipython3",
   "version": "3.8.6"
  },
  "papermill": {
   "default_parameters": {},
   "duration": 470.538548,
   "end_time": "2021-03-22T20:37:13.369954",
   "environment_variables": {},
   "exception": null,
   "input_path": "/home/jovyan/work/examples/pipelines/pairs/component-library/transform/spark-csv-to-parquet.ipynb",
   "output_path": "/home/jovyan/work/examples/pipelines/pairs/component-library/transform/spark-csv-to-parquet.ipynb",
   "parameters": {},
   "start_time": "2021-03-22T20:29:22.831406",
   "version": "2.3.3"
  }
 },
 "nbformat": 4,
 "nbformat_minor": 5
}
