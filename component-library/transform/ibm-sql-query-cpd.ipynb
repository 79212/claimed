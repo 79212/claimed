{
 "cells": [
  {
   "cell_type": "markdown",
   "id": "binding-delta",
   "metadata": {
    "papermill": {
     "duration": 0.016304,
     "end_time": "2021-03-22T20:29:23.476444",
     "exception": false,
     "start_time": "2021-03-22T20:29:23.460140",
     "status": "completed"
    },
    "tags": []
   },
   "source": [
    "# ibm_sql_query_cpd"
   ]
  },
  {
   "cell_type": "markdown",
   "id": "bb97e294-9399-4d96-a95c-8ad7e29a2872",
   "metadata": {},
   "source": [
    "Execute arbitrary SQL queries against CSV and PARQUET files using IBM Cloud SQL Query and Cloud Object Store"
   ]
  },
  {
   "cell_type": "code",
   "execution_count": null,
   "id": "b94a9eec-4230-4287-b4b0-f1d6b5237c54",
   "metadata": {
    "scrolled": true,
    "tags": []
   },
   "outputs": [],
   "source": [
    "\"\"\"\n",
    "import os\n",
    "create_image = bool(os.environ.get('create_image',False))\n",
    "if (create_image):\n",
    "    docker_file=\"\"\"\n",
    "    FROM registry.access.redhat.com/ubi8/python-39\n",
    "    RUN pip install ipython nbformat numpy ibm-cos-sdk-core ibm-cos-sdk ibm-watson-machine-learning ibm-watson-studio-pipelines ibmcloudsql\n",
    "    ADD ibm-sql-query-cpd.ipynb .\n",
    "    \"\"\"\n",
    "    with open(\"Dockerfile\", \"w\") as text_file:\n",
    "        text_file.write(docker_file)\n",
    "\n",
    "    !docker build -t ibm_sql_query_cpd .\n",
    "    exit()\n",
    "else:\n",
    "    !pip install nbformat numpy ibm-cos-sdk-core ibm-cos-sdk ibm-watson-machine-learning ibm-watson-studio-pipelines ibmcloudsql\n",
    "\"\"\""
   ]
  },
  {
   "cell_type": "code",
   "execution_count": null,
   "id": "beginning-wisdom",
   "metadata": {
    "papermill": {
     "duration": 0.164002,
     "end_time": "2021-03-22T20:29:25.951504",
     "exception": false,
     "start_time": "2021-03-22T20:29:25.787502",
     "status": "completed"
    },
    "tags": []
   },
   "outputs": [],
   "source": [
    "import glob\n",
    "import logging\n",
    "import ibmcloudsql\n",
    "from ibmcloudsql import SQLQuery\n",
    "import os\n",
    "import shutil\n",
    "import sys\n",
    "import re\n",
    "from ibm_watson_machine_learning import APIClient\n",
    "from ibm_watson_studio_pipelines import WSPipelines\n",
    "from ibm_watson_studio_pipelines.cpd_paths import CpdScope, CpdPath"
   ]
  },
  {
   "cell_type": "code",
   "execution_count": null,
   "id": "abstract-cambridge",
   "metadata": {
    "papermill": {
     "duration": 0.012801,
     "end_time": "2021-03-22T20:29:25.972462",
     "exception": false,
     "start_time": "2021-03-22T20:29:25.959661",
     "status": "completed"
    },
    "tags": []
   },
   "outputs": [],
   "source": [
    "# target dir_path\n",
    "target_dir_path = os.environ.get('target_dir_path')\n",
    "\n",
    "# target asset name\n",
    "target_asset_name = os.environ.get('target_asset_name')\n",
    "\n",
    "# sql statement to execute ()\n",
    "sql = os.environ.get('sql')\n",
    "\n",
    "# IBM Cloud Token (alternative to API key)\n",
    "token = os.environ.get('token')\n",
    "\n",
    "# (unique) Custom Resource Name (CRN) of IBM SQL Query Service\n",
    "sql_query_crn = os.environ.get('sql_query_crn')\n",
    "\n",
    "# default: CSV - (will be generated into according STORED AS … clause in the INTO clause)\n",
    "format = os.environ.get('format' , 'CSV')\n",
    "\n",
    "# if set - will be generated into according PARTITIONED BY (<columns>) clause in the INTO clause)\n",
    "partition_columns = os.environ.get('partition_columns')\n",
    "\n",
    "# will be generated into according PARTITIONED INTO <num> OBJECTS clause in INTO clause\n",
    "number_of_objects = os.environ.get('number_of_objects')\n",
    "\n",
    "# will be generated into according PARTITIONED EVERY <num> ROWS clause in INTO clause\n",
    "rows_per_object = os.environ.get('rows_per_object')\n",
    "\n",
    "# default: False - only valid when no partitioning option is specified. Will be generated into sqlClient.rename_exact_result(jobid) after SQL has run.\n",
    "exact_name = bool(os.environ.get('exact_name', False))\n",
    "\n",
    "# default: False - will be generated into JOBPREFIX NONE in the INTO clause. Will cause results of previous runs with same output_uri to be overwritten, because no unique sub folder will be created for the result)\n",
    "no_jobid_folder = bool(os.environ.get('no_jobid_folder', False))\n",
    "\n",
    "# default: output.txt - output file name containing the CPD path of the resulting asset\n",
    "output_file_name = os.environ.get('output_file_name','output.txt')\n"
   ]
  },
  {
   "cell_type": "code",
   "execution_count": null,
   "id": "b6c2ee10-a8b5-48c9-abb1-2943287b680f",
   "metadata": {},
   "outputs": [],
   "source": [
    "token = 'eyJraWQiOiIyMDIyMDIxNTA4MjMiLCJhbGciOiJSUzI1NiJ9.eyJpYW1faWQiOiJJQk1pZC0yNzAwMDI1NzNZIiwiaWQiOiJJQk1pZC0yNzAwMDI1NzNZIiwicmVhbG1pZCI6IklCTWlkIiwic2Vzc2lvbl9pZCI6IkMtYmEyZTNhNGEtNmU2NS00MjM2LWEyODktNTVkMzJkOGIxYjMzIiwic2Vzc2lvbl9leHBfbWF4IjoxNjQ2NzU0NTEwLCJzZXNzaW9uX2V4cF9uZXh0IjoxNjQ2Njc1MzIzLCJqdGkiOiJlZGRlNzMwYi05YWMzLTQ0MTUtYWJlYS1iMGEyODc5NjNkMDUiLCJpZGVudGlmaWVyIjoiMjcwMDAyNTczWSIsImdpdmVuX25hbWUiOiJSb21lbyIsImZhbWlseV9uYW1lIjoiS2llbnpsZXIiLCJuYW1lIjoiUm9tZW8gS2llbnpsZXIiLCJlbWFpbCI6InJvbWVvLmtpZW56bGVyQGNoLmlibS5jb20iLCJzdWIiOiJyb21lby5raWVuemxlckBjaC5pYm0uY29tIiwiYXV0aG4iOnsic3ViIjoicm9tZW8ua2llbnpsZXJAY2guaWJtLmNvbSIsImlhbV9pZCI6IklCTWlkLTI3MDAwMjU3M1kiLCJuYW1lIjoiUm9tZW8gS2llbnpsZXIiLCJnaXZlbl9uYW1lIjoiUm9tZW8iLCJmYW1pbHlfbmFtZSI6IktpZW56bGVyIiwiZW1haWwiOiJyb21lby5raWVuemxlckBjaC5pYm0uY29tIn0sImFjY291bnQiOnsiYm91bmRhcnkiOiJnbG9iYWwiLCJ2YWxpZCI6dHJ1ZSwiYnNzIjoiOWIxM2I4NTdhMzIzNDFiNzE2NzI1NWRlNzE3MTcyZjUiLCJpbXNfdXNlcl9pZCI6IjgwODAyMjIiLCJpbXMiOiIyMDMyNDc0In0sImlhdCI6MTY0NjY2ODEyMywiZXhwIjoxNjQ2NjY5MzIzLCJpc3MiOiJodHRwczovL2lhbS5jbG91ZC5pYm0uY29tL2lkZW50aXR5IiwiZ3JhbnRfdHlwZSI6InVybjppYm06cGFyYW1zOm9hdXRoOmdyYW50LXR5cGU6cGFzc2NvZGUiLCJzY29wZSI6ImlibSBvcGVuaWQiLCJjbGllbnRfaWQiOiJieCIsImFjciI6MSwiYW1yIjpbInB3ZCJdfQ.Z8BEMgddgaNPpFswM9GlH6_XQRTTItHQ4xBFqPip2bLv90y-0xyp_VZJ9Z8g8Ux1dxmvuxwoq9o48iX8ruABO0S3-XRV2BvlKvilB7y_5aTZ8R5bvzHp-EsmOS-77CGVf7t8zs95-gnHDPlimEvcHERHXoLGm9xG0smNvUGxL_BRN_-1V37jb59kVF1UUS3PN7D_yMAwe3lnBcsDDUn51liAECyWLzEC0Z4j0-6q8I_fndckQXAdsHcALF_B_9OUIc-7ngFShFhNQPV6hqb29ruBgb1ViZV7ukC5Cen5IGghvpG2hOtjl-_x5kl9Y7aqwnUU-tYC6Q81D9BAo7pVEw'\n",
    "cos_location='cpd:///projects/e0bce158-a9e4-4be6-a1da-20a04a7770f5/connections/de544f56-05c0-4dda-9e00-06458052c467/files/cos-rkie-sql-engine-test/sql_results'\n",
    "sql='SELECT * FROM cos://eu-de/claimed-test/data.parquet stored as parquet'\n",
    "sql_query_crn='crn:v1:bluemix:public:sql-query:us-south:a/9b13b857a32341b7167255de717172f5:f9dd6c9e-b24b-4506-819e-e038c92339e4::'\n",
    "target_asset_name='target_asset_name'"
   ]
  },
  {
   "cell_type": "code",
   "execution_count": null,
   "id": "55f9b39f-2c8c-4ab5-b4f5-513357bf20ba",
   "metadata": {},
   "outputs": [],
   "source": [
    "parameters = list(\n",
    "    map(lambda s: re.sub('$', '\"', s),\n",
    "        map(\n",
    "            lambda s: s.replace('=', '=\"'),\n",
    "            filter(\n",
    "                lambda s: s.find('=') > -1 and bool(re.match(r'[A-Za-z0-9_]*=[.\\/A-Za-z0-9]*', s)),\n",
    "                sys.argv\n",
    "            )\n",
    "    )))\n",
    "\n",
    "exact_name = bool(exact_name)\n",
    "no_jobid_folder = bool(no_jobid_folder)\n",
    "\n",
    "\n",
    "for parameter in parameters:\n",
    "    logging.warning('Parameter: ' + parameter)\n",
    "    exec(parameter)"
   ]
  },
  {
   "cell_type": "code",
   "execution_count": null,
   "id": "971dc305-7cb0-4b6b-be05-cf982f75ee4e",
   "metadata": {},
   "outputs": [],
   "source": [
    "cpdaas_url = 'https://api.dataplatform.cloud.ibm.com'"
   ]
  },
  {
   "cell_type": "code",
   "execution_count": null,
   "id": "7b2d800c-4824-4bdc-8140-3f1fcbb8346a",
   "metadata": {},
   "outputs": [],
   "source": [
    "cos_location_path = CpdPath.from_string(cos_location)\n",
    "project_id = cos_location_path.scope_id()\n",
    "connection_id = cos_location_path.resource_id()\n",
    "bucket_name = cos_location_path.bucket_name()\n",
    "dir_path = cos_location_path.file_path()"
   ]
  },
  {
   "cell_type": "code",
   "execution_count": null,
   "id": "e17f5f65-6fc4-453d-b65f-768dc72d0a81",
   "metadata": {},
   "outputs": [],
   "source": [
    "pipelines_client = WSPipelines.from_token(token, url=cpdaas_url)\n",
    "wml_credentials = pipelines_client.get_wml_credentials(cos_location_path.scope())"
   ]
  },
  {
   "cell_type": "code",
   "execution_count": null,
   "id": "32bf55bd-9da0-4ec2-934c-c38d73994d92",
   "metadata": {},
   "outputs": [],
   "source": [
    "wml_credentials['token'] = token\n",
    "wml_client = APIClient(wml_credentials)\n",
    "wml_client.set.default_project(project_id)"
   ]
  },
  {
   "cell_type": "code",
   "execution_count": null,
   "id": "eb8b6b57-5583-4906-ab2e-877ff6346e7f",
   "metadata": {},
   "outputs": [],
   "source": [
    "wml_client.connections.get_details(connection_id)"
   ]
  },
  {
   "cell_type": "code",
   "execution_count": null,
   "id": "b8e06d6c-3926-4932-80eb-62aa52342945",
   "metadata": {},
   "outputs": [],
   "source": [
    "cos_props = wml_client.connections.get_details(connection_id)\n",
    "cos_props"
   ]
  },
  {
   "cell_type": "code",
   "execution_count": null,
   "id": "c6093b45-ba24-4af0-8442-e8eaa2cc48b4",
   "metadata": {},
   "outputs": [],
   "source": [
    "cos_props = cos_props['entity']['properties']\n",
    "access_key = cos_props['access_key']\n",
    "secret_key = cos_props['secret_key']\n",
    "url = cos_props['url'].split('//')[1]\n",
    "bucket = cos_props['bucket']\n",
    "target_location = \"cos://{}/{}{}\".format(url,bucket, dir_path)\n",
    "target_location"
   ]
  },
  {
   "cell_type": "code",
   "execution_count": null,
   "id": "welsh-grave",
   "metadata": {
    "papermill": {
     "duration": 4.178678,
     "end_time": "2021-03-22T20:29:30.176328",
     "exception": false,
     "start_time": "2021-03-22T20:29:25.997650",
     "status": "completed"
    },
    "tags": []
   },
   "outputs": [],
   "source": [
    "sqlClient = SQLQuery(api_key=None, token=token, instance_crn=sql_query_crn)\n",
    "\n",
    "sql = sql + ' INTO {}'.format(target_location)\n",
    "\n",
    "partitioned_by = False\n",
    "\n",
    "if partition_columns is not None and len(partition_columns) > 0:\n",
    "    if not partitioned_by:\n",
    "        sql = sql + ' PARTITIONED'\n",
    "        partitioned_by = True\n",
    "    sql = sql + ' BY ({})'.format(partition_columns)\n",
    "\n",
    "if number_of_objects is not None and len(number_of_objects) > 0:\n",
    "    if not partitioned_by:\n",
    "        sql = sql + ' PARTITIONED'\n",
    "        partitioned_by = True\n",
    "    sql = sql + ' INTO {} OBJECTS'.format(number_of_objects)    \n",
    "\n",
    "if rows_per_object is not None and len(rows_per_object) > 0:\n",
    "    if not partitioned_by:\n",
    "        sql = sql + ' PARTITIONED'\n",
    "        partitioned_by = True\n",
    "    sql = sql + ' EVERY {} ROWS'.format(rows_per_object)\n",
    "\n",
    "if no_jobid_folder:\n",
    "    sql = sql + ' JOBPREFIX NONE'\n",
    "    \n",
    "sql = sql + ' STORED AS {}'.format(format)\n",
    "\n",
    "if exact_name:\n",
    "    job_id = sqlClient.submit_sql(sql)\n",
    "    job_status = sqlClient.wait_for_job(job_id)\n",
    "    print(\"Job \" + job_id + \" terminated with status: \" + job_status)\n",
    "    sqlClient.rename_exact_result(job_id) \n",
    "else:\n",
    "    sqlClient.run_sql(sql)"
   ]
  },
  {
   "cell_type": "code",
   "execution_count": null,
   "id": "f7081e1f-3066-4a94-914c-cc59bfb4021b",
   "metadata": {},
   "outputs": [],
   "source": [
    "print(sql)"
   ]
  },
  {
   "cell_type": "code",
   "execution_count": null,
   "id": "d4c5db2c-d39b-4de3-a7da-3d09bf9239e2",
   "metadata": {},
   "outputs": [],
   "source": [
    "metadata = {\n",
    "  wml_client.data_assets.ConfigurationMetaNames.NAME: target_asset_name,\n",
    "  wml_client.data_assets.ConfigurationMetaNames.DESCRIPTION: 'Data asset created for SQL Query result',\n",
    "  wml_client.data_assets.ConfigurationMetaNames.CONNECTION_ID: connection_id,\n",
    "  wml_client.data_assets.ConfigurationMetaNames.DATA_CONTENT_NAME: dir_path\n",
    "}\n",
    "asset_details = wml_client.data_assets.store(meta_props=metadata)\n"
   ]
  },
  {
   "cell_type": "code",
   "execution_count": null,
   "id": "2658bebc-c136-43c7-8e8d-bfd4b71afdad",
   "metadata": {},
   "outputs": [],
   "source": [
    "new_cpd_path = cos_location.split('connections')[0]+'assets/'+asset_details['metadata']['asset_id']\n",
    "with open(output_file_name,'w') as fout:\n",
    "    fout.write(new_cpd_path)"
   ]
  },
  {
   "cell_type": "markdown",
   "id": "4bfda47d-7730-4b90-a093-3c21bd7afc72",
   "metadata": {},
   "source": [
    "1. create new CPD-path with asset_details.id  intead of connectionid (keep project id)\n",
    "2. new parameter for output file name + add to output: section in yaml + write cpd-path into it\n",
    "\n",
    "\n",
    "outputs:\n",
    " {name: data_asset, }\n",
    " \n",
    "implementation:\n",
    "\n",
    "...\n",
    "  - {outputPath: data_asset}"
   ]
  }
 ],
 "metadata": {
  "kernelspec": {
   "display_name": "Python 3 (ipykernel)",
   "language": "python",
   "name": "python3"
  },
  "language_info": {
   "codemirror_mode": {
    "name": "ipython",
    "version": 3
   },
   "file_extension": ".py",
   "mimetype": "text/x-python",
   "name": "python",
   "nbconvert_exporter": "python",
   "pygments_lexer": "ipython3",
   "version": "3.9.6"
  },
  "papermill": {
   "default_parameters": {},
   "duration": 470.538548,
   "end_time": "2021-03-22T20:37:13.369954",
   "environment_variables": {},
   "exception": null,
   "input_path": "/home/jovyan/work/examples/pipelines/pairs/component-library/transform/spark-csv-to-parquet.ipynb",
   "output_path": "/home/jovyan/work/examples/pipelines/pairs/component-library/transform/spark-csv-to-parquet.ipynb",
   "parameters": {},
   "start_time": "2021-03-22T20:29:22.831406",
   "version": "2.3.3"
  }
 },
 "nbformat": 4,
 "nbformat_minor": 5
}
