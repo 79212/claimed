{
 "cells": [
  {
   "cell_type": "markdown",
   "id": "binding-delta",
   "metadata": {
    "papermill": {
     "duration": 0.016304,
     "end_time": "2021-03-22T20:29:23.476444",
     "exception": false,
     "start_time": "2021-03-22T20:29:23.460140",
     "status": "completed"
    },
    "tags": []
   },
   "source": [
    "# ibm_sql_query"
   ]
  },
  {
   "cell_type": "markdown",
   "id": "bb97e294-9399-4d96-a95c-8ad7e29a2872",
   "metadata": {},
   "source": [
    "Execute arbitrary SQL queries against CSV and PARQUET files using IBM Cloud SQL Query and Cloud Object Store"
   ]
  },
  {
   "cell_type": "code",
   "execution_count": null,
   "id": "b94a9eec-4230-4287-b4b0-f1d6b5237c54",
   "metadata": {},
   "outputs": [],
   "source": [
    "#!pip uninstall -y ibm-cos-sdk ibm-cos-sdk-core ibmcloudsql ibm-watson-machine-learning ibm-watson-studio-pipelines \n",
    "!pip install nbformat numpy ibm-cos-sdk-core ibm-cos-sdk ibm-watson-machine-learning ibm-watson-studio-pipelines ibmcloudsql\n",
    "docker_file=\"\"\"\n",
    "FROM registry.access.redhat.com/ubi8/python-39\n",
    "RUN pip install ipython nbformat numpy ibm-cos-sdk-core ibm-cos-sdk ibm-watson-machine-learning ibm-watson-studio-pipelines ibmcloudsql\n",
    "RUN wget https://raw.githubusercontent.com/IBM/claimed/master/component-library/transform/ibm-sql-query-cpd.ipynb\n",
    "\"\"\""
   ]
  },
  {
   "cell_type": "code",
   "execution_count": null,
   "id": "beginning-wisdom",
   "metadata": {
    "papermill": {
     "duration": 0.164002,
     "end_time": "2021-03-22T20:29:25.951504",
     "exception": false,
     "start_time": "2021-03-22T20:29:25.787502",
     "status": "completed"
    },
    "tags": []
   },
   "outputs": [],
   "source": [
    "import glob\n",
    "import logging\n",
    "import ibmcloudsql\n",
    "from ibmcloudsql import SQLQuery\n",
    "import os\n",
    "import shutil\n",
    "import sys\n",
    "import re\n",
    "from ibm_watson_machine_learning import APIClient\n",
    "from ibm_watson_studio_pipelines import WSPipelines\n",
    "from ibm_watson_studio_pipelines.cpd_paths import CpdScope, CpdPath"
   ]
  },
  {
   "cell_type": "code",
   "execution_count": null,
   "id": "abstract-cambridge",
   "metadata": {
    "papermill": {
     "duration": 0.012801,
     "end_time": "2021-03-22T20:29:25.972462",
     "exception": false,
     "start_time": "2021-03-22T20:29:25.959661",
     "status": "completed"
    },
    "tags": []
   },
   "outputs": [],
   "source": [
    "# target dir_path\n",
    "target_dir_path = os.environ.get('target_dir_path')\n",
    "\n",
    "# target asset name\n",
    "target_asset_name = os.environ.get('target_asset_name')\n",
    "\n",
    "# sql statement to execute ()\n",
    "sql = os.environ.get('sql')\n",
    "\n",
    "# IBM Cloud Token (alternative to API key)\n",
    "token = os.environ.get('token')\n",
    "\n",
    "# (unique) Custom Resource Name (CRN) of IBM SQL Query Service\n",
    "sql_query_crn = os.environ.get('sql_query_crn')\n",
    "\n",
    "# default: CSV - (will be generated into according STORED AS … clause in the INTO clause)\n",
    "out_format = os.environ.get('out_format' , 'CSV')\n",
    "\n",
    "# if set - will be generated into according PARTITIONED BY (<columns>) clause in the INTO clause)\n",
    "out_partition_columns = os.environ.get('out_partition_columns')\n",
    "\n",
    "# will be generated into according PARTITIONED INTO <num> OBJECTS clause in INTO clause\n",
    "out_number_of_objects = os.environ.get('out_number_of_objects')\n",
    "\n",
    "# will be generated into according PARTITIONED EVERY <num> ROWS clause in INTO clause\n",
    "out_rows_per_object = os.environ.get('out_rows_per_object')\n",
    "\n",
    "# default: False - only valid when no partitioning option is specified. Will be generated into sqlClient.rename_exact_result(jobid) after SQL has run.\n",
    "out_exact_name = bool(os.environ.get('out_exact_name', False))\n",
    "\n",
    "# default: False - will be generated into JOBPREFIX NONE in the INTO clause. Will cause results of previous runs with same output_uri to be overwritten, because no unique sub folder will be created for the result)\n",
    "out_no_jobid_folder = bool(os.environ.get('out_no_jobid_folder', False))\n"
   ]
  },
  {
   "cell_type": "code",
   "execution_count": null,
   "id": "b6c2ee10-a8b5-48c9-abb1-2943287b680f",
   "metadata": {},
   "outputs": [],
   "source": [
    "#token = 'eyJraWQiOiIyMDIyMDExNjA4MjIiLCJhbGciOiJSUzI1NiJ9.eyJpYW1faWQiOiJJQk1pZC0yNzAwMDI1NzNZIiwiaWQiOiJJQk1pZC0yNzAwMDI1NzNZIiwicmVhbG1pZCI6IklCTWlkIiwic2Vzc2lvbl9pZCI6IkMtMzJiYTVkMGQtODFlMi00NDk5LThiZjgtMjc5MGQzNmVjNjZkIiwianRpIjoiNDkyYjMxNDMtYTA4OC00MDRmLTlhY2YtYzJkMjcyZWY3ZjcwIiwiaWRlbnRpZmllciI6IjI3MDAwMjU3M1kiLCJnaXZlbl9uYW1lIjoiUm9tZW8iLCJmYW1pbHlfbmFtZSI6IktpZW56bGVyIiwibmFtZSI6IlJvbWVvIEtpZW56bGVyIiwiZW1haWwiOiJyb21lby5raWVuemxlckBjaC5pYm0uY29tIiwic3ViIjoicm9tZW8ua2llbnpsZXJAY2guaWJtLmNvbSIsImF1dGhuIjp7InN1YiI6InJvbWVvLmtpZW56bGVyQGNoLmlibS5jb20iLCJpYW1faWQiOiJJQk1pZC0yNzAwMDI1NzNZIiwibmFtZSI6IlJvbWVvIEtpZW56bGVyIiwiZ2l2ZW5fbmFtZSI6IlJvbWVvIiwiZmFtaWx5X25hbWUiOiJLaWVuemxlciIsImVtYWlsIjoicm9tZW8ua2llbnpsZXJAY2guaWJtLmNvbSJ9LCJhY2NvdW50Ijp7ImJvdW5kYXJ5IjoiZ2xvYmFsIiwidmFsaWQiOnRydWUsImJzcyI6IjliMTNiODU3YTMyMzQxYjcxNjcyNTVkZTcxNzE3MmY1IiwiaW1zX3VzZXJfaWQiOiI4MDgwMjIyIiwiaW1zIjoiMjAzMjQ3NCJ9LCJpYXQiOjE2NDMzOTU1ODksImV4cCI6MTY0MzM5Njc4OSwiaXNzIjoiaHR0cHM6Ly9pYW0uY2xvdWQuaWJtLmNvbS9pZGVudGl0eSIsImdyYW50X3R5cGUiOiJ1cm46aWJtOnBhcmFtczpvYXV0aDpncmFudC10eXBlOnBhc3Njb2RlIiwic2NvcGUiOiJpYm0gb3BlbmlkIiwiY2xpZW50X2lkIjoiYngiLCJhY3IiOjEsImFtciI6WyJwd2QiXX0.erONYtjfyZY9UGQ8yXWMk30VE9zDfmhJdoZ6bKCQY_p7vjeXZJT2OyzzzKGzQGz0ftWWhmjOdhexoE2vsLoKKs3LrXhY7_mnp9D5nPg9CXKH-0soXmJwOeSIn3nBWDnJCyVdUhuXiOzETEF_IfBwzgdhB3h5G6MtssRqxw_W4ra_E_hl-blsAAvNZfVbictfc9kXSzZ7tFsKMeMU1BD9prOVDpAjAwY4wijF_wLKPEJFDrpHmHrgF2lYsileJ0nMv7f6P-MreCTyMxAssJ56EO9ZcRR0vIeQa5YzzMWTEBtDtceYpUSymBRgovgmqD3OgHye0Y2CvE_1D0skGAw0Xw'\n",
    "#cos_location='cpd:///projects/e0bce158-a9e4-4be6-a1da-20a04a7770f5/connections/de544f56-05c0-4dda-9e00-06458052c467/files/cos-rkie-sql-engine-test/sql_results'\n",
    "#sql='SELECT * FROM cos://eu-de/claimed-test/data.parquet stored as parquet'\n",
    "#sql_query_crn='crn:v1:bluemix:public:sql-query:us-south:a/9b13b857a32341b7167255de717172f5:f9dd6c9e-b24b-4506-819e-e038c92339e4::'\n",
    "#target_asset_name='target_asset_name'"
   ]
  },
  {
   "cell_type": "code",
   "execution_count": null,
   "id": "55f9b39f-2c8c-4ab5-b4f5-513357bf20ba",
   "metadata": {},
   "outputs": [],
   "source": [
    "parameters = list(\n",
    "    map(lambda s: re.sub('$', '\"', s),\n",
    "        map(\n",
    "            lambda s: s.replace('=', '=\"'),\n",
    "            filter(\n",
    "                lambda s: s.find('=') > -1 and bool(re.match(r'[A-Za-z0-9_]*=[.\\/A-Za-z0-9]*', s)),\n",
    "                sys.argv\n",
    "            )\n",
    "    )))\n",
    "\n",
    "out_exact_name = bool(out_exact_name)\n",
    "out_no_jobid_folder = bool(out_no_jobid_folder)\n",
    "\n",
    "\n",
    "for parameter in parameters:\n",
    "    logging.warning('Parameter: ' + parameter)\n",
    "    exec(parameter)"
   ]
  },
  {
   "cell_type": "code",
   "execution_count": null,
   "id": "971dc305-7cb0-4b6b-be05-cf982f75ee4e",
   "metadata": {},
   "outputs": [],
   "source": [
    "cpdaas_url = 'https://api.dataplatform.cloud.ibm.com'"
   ]
  },
  {
   "cell_type": "code",
   "execution_count": null,
   "id": "7b2d800c-4824-4bdc-8140-3f1fcbb8346a",
   "metadata": {},
   "outputs": [],
   "source": [
    "cos_location_path = CpdPath.from_string(cos_location)\n",
    "project_id = cos_location_path.scope_id()\n",
    "connection_id = cos_location_path.resource_id()\n",
    "bucket_name = cos_location_path.bucket_name()\n",
    "dir_path = cos_location_path.file_path()"
   ]
  },
  {
   "cell_type": "code",
   "execution_count": null,
   "id": "e17f5f65-6fc4-453d-b65f-768dc72d0a81",
   "metadata": {},
   "outputs": [],
   "source": [
    "pipelines_client = WSPipelines.from_token(token, url=cpdaas_url)\n",
    "wml_credentials = pipelines_client.get_wml_credentials(cos_location_path.scope())"
   ]
  },
  {
   "cell_type": "code",
   "execution_count": null,
   "id": "32bf55bd-9da0-4ec2-934c-c38d73994d92",
   "metadata": {},
   "outputs": [],
   "source": [
    "wml_credentials['token'] = token\n",
    "wml_client = APIClient(wml_credentials)\n",
    "wml_client.set.default_project(project_id)"
   ]
  },
  {
   "cell_type": "code",
   "execution_count": null,
   "id": "eb8b6b57-5583-4906-ab2e-877ff6346e7f",
   "metadata": {},
   "outputs": [],
   "source": [
    "wml_client.connections.get_details(connection_id)"
   ]
  },
  {
   "cell_type": "code",
   "execution_count": null,
   "id": "b8e06d6c-3926-4932-80eb-62aa52342945",
   "metadata": {},
   "outputs": [],
   "source": [
    "cos_props = wml_client.connections.get_details(connection_id)\n",
    "cos_props"
   ]
  },
  {
   "cell_type": "code",
   "execution_count": null,
   "id": "c6093b45-ba24-4af0-8442-e8eaa2cc48b4",
   "metadata": {},
   "outputs": [],
   "source": [
    "cos_props = cos_props['entity']['properties']\n",
    "access_key = cos_props['access_key']\n",
    "secret_key = cos_props['secret_key']\n",
    "url = cos_props['url'].split('//')[1]\n",
    "bucket = cos_props['bucket']\n",
    "target_location = \"cos://{}/{}{}\".format(url,bucket, dir_path)\n",
    "target_location"
   ]
  },
  {
   "cell_type": "code",
   "execution_count": null,
   "id": "welsh-grave",
   "metadata": {
    "papermill": {
     "duration": 4.178678,
     "end_time": "2021-03-22T20:29:30.176328",
     "exception": false,
     "start_time": "2021-03-22T20:29:25.997650",
     "status": "completed"
    },
    "tags": []
   },
   "outputs": [],
   "source": [
    "sqlClient = SQLQuery(api_key=None, token=token, instance_crn=sql_query_crn)\n",
    "\n",
    "sql = sql + ' INTO {}'.format(target_location)\n",
    "\n",
    "partitioned_by = False\n",
    "\n",
    "if out_partition_columns is not None and len(out_partition_columns) > 0:\n",
    "    if not partitioned_by:\n",
    "        sql = sql + ' PARTITIONED'\n",
    "        partitioned_by = True\n",
    "    sql = sql + ' BY ({})'.format(out_partition_columns)\n",
    "\n",
    "if out_number_of_objects is not None and len(out_number_of_objects) > 0:\n",
    "    if not partitioned_by:\n",
    "        sql = sql + ' PARTITIONED'\n",
    "        partitioned_by = True\n",
    "    sql = sql + ' INTO {} OBJECTS'.format(out_number_of_objects)    \n",
    "\n",
    "if out_rows_per_object is not None and len(out_rows_per_object) > 0:\n",
    "    if not partitioned_by:\n",
    "        sql = sql + ' PARTITIONED'\n",
    "        partitioned_by = True\n",
    "    sql = sql + ' EVERY {} ROWS'.format(out_rows_per_object)\n",
    "\n",
    "if out_no_jobid_folder:\n",
    "    sql = sql + ' JOBPREFIX NONE'\n",
    "    \n",
    "sql = sql + ' STORED AS {}'.format(out_format)\n",
    "\n",
    "if out_exact_name:\n",
    "    job_id = sqlClient.submit_sql(sql)\n",
    "    job_status = sqlClient.wait_for_job(job_id)\n",
    "    print(\"Job \" + job_id + \" terminated with status: \" + job_status)\n",
    "    sqlClient.rename_exact_result(job_id) \n",
    "else:\n",
    "    sqlClient.run_sql(sql)"
   ]
  },
  {
   "cell_type": "code",
   "execution_count": null,
   "id": "f7081e1f-3066-4a94-914c-cc59bfb4021b",
   "metadata": {},
   "outputs": [],
   "source": [
    "print(sql)"
   ]
  },
  {
   "cell_type": "code",
   "execution_count": null,
   "id": "d4c5db2c-d39b-4de3-a7da-3d09bf9239e2",
   "metadata": {},
   "outputs": [],
   "source": [
    "metadata = {\n",
    "  wml_client.data_assets.ConfigurationMetaNames.NAME: target_asset_name,\n",
    "  wml_client.data_assets.ConfigurationMetaNames.DESCRIPTION: 'Data asset created for SQL Query result',\n",
    "  wml_client.data_assets.ConfigurationMetaNames.CONNECTION_ID: connection_id,\n",
    "  wml_client.data_assets.ConfigurationMetaNames.DATA_CONTENT_NAME: dir_path\n",
    "}\n",
    "asset_details = wml_client.data_assets.store(meta_props=metadata)\n",
    "asset_details"
   ]
  }
 ],
 "metadata": {
  "kernelspec": {
   "display_name": "Python 3 (ipykernel)",
   "language": "python",
   "name": "python3"
  },
  "language_info": {
   "codemirror_mode": {
    "name": "ipython",
    "version": 3
   },
   "file_extension": ".py",
   "mimetype": "text/x-python",
   "name": "python",
   "nbconvert_exporter": "python",
   "pygments_lexer": "ipython3",
   "version": "3.9.6"
  },
  "papermill": {
   "default_parameters": {},
   "duration": 470.538548,
   "end_time": "2021-03-22T20:37:13.369954",
   "environment_variables": {},
   "exception": null,
   "input_path": "/home/jovyan/work/examples/pipelines/pairs/component-library/transform/spark-csv-to-parquet.ipynb",
   "output_path": "/home/jovyan/work/examples/pipelines/pairs/component-library/transform/spark-csv-to-parquet.ipynb",
   "parameters": {},
   "start_time": "2021-03-22T20:29:22.831406",
   "version": "2.3.3"
  }
 },
 "nbformat": 4,
 "nbformat_minor": 5
}
