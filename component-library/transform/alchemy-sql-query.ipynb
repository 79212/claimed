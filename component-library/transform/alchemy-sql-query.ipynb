{
 "cells": [
  {
   "cell_type": "markdown",
   "id": "binding-delta",
   "metadata": {
    "papermill": {
     "duration": 0.015554,
     "end_time": "2022-01-08T21:12:10.063360",
     "exception": false,
     "start_time": "2022-01-08T21:12:10.047806",
     "status": "completed"
    },
    "tags": []
   },
   "source": [
    "# alchemy_sql_query"
   ]
  },
  {
   "cell_type": "markdown",
   "id": "bb97e294-9399-4d96-a95c-8ad7e29a2872",
   "metadata": {
    "papermill": {
     "duration": 0.014859,
     "end_time": "2022-01-08T21:12:10.093136",
     "exception": false,
     "start_time": "2022-01-08T21:12:10.078277",
     "status": "completed"
    },
    "tags": []
   },
   "source": [
    "Execute arbitrary SQL queries against a remote RDBMS supported by python's SQLAlchemy library"
   ]
  },
  {
   "cell_type": "code",
   "execution_count": 1,
   "id": "satellite-vegetation",
   "metadata": {
    "execution": {
     "iopub.execute_input": "2022-01-08T21:12:10.129062Z",
     "iopub.status.busy": "2022-01-08T21:12:10.128537Z",
     "iopub.status.idle": "2022-01-08T21:12:12.247627Z",
     "shell.execute_reply": "2022-01-08T21:12:12.247051Z"
    },
    "papermill": {
     "duration": 2.139937,
     "end_time": "2022-01-08T21:12:12.247784",
     "exception": false,
     "start_time": "2022-01-08T21:12:10.107847",
     "status": "completed"
    },
    "tags": []
   },
   "outputs": [
    {
     "name": "stdout",
     "output_type": "stream",
     "text": [
      "Requirement already satisfied: sqlalchemy==1.4.29 in /home/romeokienzler/gitco/new_horizons/elyra/venv/lib/python3.8/site-packages (1.4.29)\r\n"
     ]
    },
    {
     "name": "stdout",
     "output_type": "stream",
     "text": [
      "Requirement already satisfied: pandas==1.3.5 in /home/romeokienzler/gitco/new_horizons/elyra/venv/lib/python3.8/site-packages (1.3.5)\r\n"
     ]
    },
    {
     "name": "stdout",
     "output_type": "stream",
     "text": [
      "Requirement already satisfied: greenlet!=0.4.17; python_version >= \"3\" and (platform_machine == \"aarch64\" or (platform_machine == \"ppc64le\" or (platform_machine == \"x86_64\" or (platform_machine == \"amd64\" or (platform_machine == \"AMD64\" or (platform_machine == \"win32\" or platform_machine == \"WIN32\")))))) in /home/romeokienzler/gitco/new_horizons/elyra/venv/lib/python3.8/site-packages (from sqlalchemy==1.4.29) (1.1.2)\r\n",
      "Requirement already satisfied: python-dateutil>=2.7.3 in /home/romeokienzler/gitco/new_horizons/elyra/venv/lib/python3.8/site-packages (from pandas==1.3.5) (2.8.2)\r\n",
      "Requirement already satisfied: pytz>=2017.3 in /home/romeokienzler/gitco/new_horizons/elyra/venv/lib/python3.8/site-packages (from pandas==1.3.5) (2021.3)\r\n",
      "Requirement already satisfied: numpy>=1.17.3; platform_machine != \"aarch64\" and platform_machine != \"arm64\" and python_version < \"3.10\" in /home/romeokienzler/gitco/new_horizons/elyra/venv/lib/python3.8/site-packages (from pandas==1.3.5) (1.21.4)\r\n",
      "Requirement already satisfied: six>=1.5 in /home/romeokienzler/gitco/new_horizons/elyra/venv/lib/python3.8/site-packages (from python-dateutil>=2.7.3->pandas==1.3.5) (1.16.0)\r\n"
     ]
    },
    {
     "name": "stdout",
     "output_type": "stream",
     "text": [
      "\u001b[33mWARNING: You are using pip version 19.3.1; however, version 21.3.1 is available.\r\n",
      "You should consider upgrading via the 'pip install --upgrade pip' command.\u001b[0m\r\n"
     ]
    }
   ],
   "source": [
    "!pip install sqlalchemy==1.4.29 pandas==1.3.5"
   ]
  },
  {
   "cell_type": "code",
   "execution_count": 2,
   "id": "beginning-wisdom",
   "metadata": {
    "execution": {
     "iopub.execute_input": "2022-01-08T21:12:12.287474Z",
     "iopub.status.busy": "2022-01-08T21:12:12.286980Z",
     "iopub.status.idle": "2022-01-08T21:12:12.782977Z",
     "shell.execute_reply": "2022-01-08T21:12:12.782459Z"
    },
    "papermill": {
     "duration": 0.51735,
     "end_time": "2022-01-08T21:12:12.783123",
     "exception": false,
     "start_time": "2022-01-08T21:12:12.265773",
     "status": "completed"
    },
    "tags": []
   },
   "outputs": [],
   "source": [
    "import glob\n",
    "import logging\n",
    "from sqlalchemy import create_engine\n",
    "from sqlalchemy.orm import sessionmaker\n",
    "from sqlalchemy.sql import text\n",
    "import pandas as pd\n",
    "import os\n",
    "import shutil\n",
    "import sys\n",
    "import re"
   ]
  },
  {
   "cell_type": "code",
   "execution_count": 3,
   "id": "abstract-cambridge",
   "metadata": {
    "execution": {
     "iopub.execute_input": "2022-01-08T21:12:12.823448Z",
     "iopub.status.busy": "2022-01-08T21:12:12.822956Z",
     "iopub.status.idle": "2022-01-08T21:12:12.824958Z",
     "shell.execute_reply": "2022-01-08T21:12:12.824488Z"
    },
    "papermill": {
     "duration": 0.024108,
     "end_time": "2022-01-08T21:12:12.825087",
     "exception": false,
     "start_time": "2022-01-08T21:12:12.800979",
     "status": "completed"
    },
    "tags": []
   },
   "outputs": [],
   "source": [
    "# type of database server (sqlalchemy dialect), e.g. postgresql\n",
    "db_type = os.environ.get('db_type', 'postgresql')\n",
    "\n",
    "# hostname of database server\n",
    "host = os.environ.get('host')\n",
    "\n",
    "# database name\n",
    "database = os.environ.get('database')\n",
    "\n",
    "# db user\n",
    "user = os.environ.get('user')\n",
    "\n",
    "# db password\n",
    "password = os.environ.get('password')\n",
    "\n",
    "# db port\n",
    "port = int(os.environ.get('port', 5432))\n",
    "\n",
    "# SQL statement\n",
    "sql = os.environ.get('sql')"
   ]
  },
  {
   "cell_type": "code",
   "execution_count": 4,
   "id": "55f9b39f-2c8c-4ab5-b4f5-513357bf20ba",
   "metadata": {
    "execution": {
     "iopub.execute_input": "2022-01-08T21:12:12.867211Z",
     "iopub.status.busy": "2022-01-08T21:12:12.866724Z",
     "iopub.status.idle": "2022-01-08T21:12:12.868291Z",
     "shell.execute_reply": "2022-01-08T21:12:12.868656Z"
    },
    "papermill": {
     "duration": 0.024208,
     "end_time": "2022-01-08T21:12:12.868810",
     "exception": false,
     "start_time": "2022-01-08T21:12:12.844602",
     "status": "completed"
    },
    "tags": []
   },
   "outputs": [],
   "source": [
    "parameters = list(\n",
    "    map(lambda s: re.sub('$', '\"', s),\n",
    "        map(\n",
    "            lambda s: s.replace('=', '=\"'),\n",
    "            filter(\n",
    "                lambda s: s.find('=') > -1 and bool(re.match(r'[A-Za-z0-9_]*=[.\\/A-Za-z0-9]*', s)),\n",
    "                sys.argv\n",
    "            )\n",
    "    )))\n",
    "\n",
    "\n",
    "for parameter in parameters:\n",
    "    logging.warning('Parameter: ' + parameter)\n",
    "    exec(parameter)"
   ]
  },
  {
   "cell_type": "code",
   "execution_count": 5,
   "id": "36b4bad3-4ad4-4316-9233-820239a86688",
   "metadata": {
    "execution": {
     "iopub.execute_input": "2022-01-08T21:12:12.907770Z",
     "iopub.status.busy": "2022-01-08T21:12:12.907297Z",
     "iopub.status.idle": "2022-01-08T21:12:12.909751Z",
     "shell.execute_reply": "2022-01-08T21:12:12.909274Z"
    },
    "papermill": {
     "duration": 0.022844,
     "end_time": "2022-01-08T21:12:12.909876",
     "exception": false,
     "start_time": "2022-01-08T21:12:12.887032",
     "status": "completed"
    },
    "tags": []
   },
   "outputs": [
    {
     "name": "stderr",
     "output_type": "stream",
     "text": [
      "WARNING:root:CREATE OR REPLACE VIEW owidcovid_view AS SELECT to_date(date, '%YYYY-%MM-%DD') AS timestamp, * from owidcovid\n"
     ]
    }
   ],
   "source": [
    "logging.warning(sql)"
   ]
  },
  {
   "cell_type": "code",
   "execution_count": 6,
   "id": "f7081e1f-3066-4a94-914c-cc59bfb4021b",
   "metadata": {
    "execution": {
     "iopub.execute_input": "2022-01-08T21:12:12.951866Z",
     "iopub.status.busy": "2022-01-08T21:12:12.951391Z",
     "iopub.status.idle": "2022-01-08T21:12:18.704169Z",
     "shell.execute_reply": "2022-01-08T21:12:18.703696Z"
    },
    "papermill": {
     "duration": 5.775367,
     "end_time": "2022-01-08T21:12:18.704321",
     "exception": false,
     "start_time": "2022-01-08T21:12:12.928954",
     "status": "completed"
    },
    "tags": []
   },
   "outputs": [],
   "source": [
    "engine = create_engine(f'{db_type}://{user}:{password}@{host}:{port}/{database}')\n",
    "with engine.connect() as con:\n",
    "    con.execute(text(sql))"
   ]
  }
 ],
 "metadata": {
  "kernelspec": {
   "display_name": "Python 3 (ipykernel)",
   "language": "python",
   "name": "python3"
  },
  "language_info": {
   "codemirror_mode": {
    "name": "ipython",
    "version": 3
   },
   "file_extension": ".py",
   "mimetype": "text/x-python",
   "name": "python",
   "nbconvert_exporter": "python",
   "pygments_lexer": "ipython3",
   "version": "3.8.8"
  },
  "papermill": {
   "default_parameters": {},
   "duration": 9.919917,
   "end_time": "2022-01-08T21:12:19.030500",
   "environment_variables": {},
   "exception": null,
   "input_path": "/home/romeokienzler/gitco/claimed/component-library/transform/alchemy-sql-query.ipynb",
   "output_path": "/home/romeokienzler/gitco/claimed/component-library/transform/alchemy-sql-query.ipynb",
   "parameters": {},
   "start_time": "2022-01-08T21:12:09.110583",
   "version": "2.3.3"
  }
 },
 "nbformat": 4,
 "nbformat_minor": 5
}