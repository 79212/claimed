{
 "cells": [
  {
   "cell_type": "markdown",
   "id": "d00fc083",
   "metadata": {
    "papermill": {
     "duration": 0.015723,
     "end_time": "2022-01-09T06:27:51.644419",
     "exception": false,
     "start_time": "2022-01-09T06:27:51.628696",
     "status": "completed"
    },
    "tags": []
   },
   "source": [
    "# Input URL"
   ]
  },
  {
   "cell_type": "markdown",
   "id": "645dc2c4",
   "metadata": {
    "papermill": {
     "duration": 0.014768,
     "end_time": "2022-01-09T06:27:51.675117",
     "exception": false,
     "start_time": "2022-01-09T06:27:51.660349",
     "status": "completed"
    },
    "tags": []
   },
   "source": [
    "This component reads a file from a HTTP(s) source via wget"
   ]
  },
  {
   "cell_type": "code",
   "execution_count": null,
   "id": "4e59fe38",
   "metadata": {
    "papermill": {
     "duration": 1.933056,
     "end_time": "2022-01-09T06:27:53.622933",
     "exception": false,
     "start_time": "2022-01-09T06:27:51.689877",
     "status": "completed"
    },
    "tags": []
   },
   "outputs": [],
   "source": [
    "!pip install wget==3.2"
   ]
  },
  {
   "cell_type": "code",
   "execution_count": null,
   "id": "054a358d",
   "metadata": {
    "papermill": {
     "duration": 0.026486,
     "end_time": "2022-01-09T06:27:53.667478",
     "exception": false,
     "start_time": "2022-01-09T06:27:53.640992",
     "status": "completed"
    },
    "tags": []
   },
   "outputs": [],
   "source": [
    "import logging\n",
    "import os\n",
    "import re\n",
    "import sys\n",
    "import wget"
   ]
  },
  {
   "cell_type": "code",
   "execution_count": null,
   "id": "fcab9b87",
   "metadata": {
    "papermill": {
     "duration": 0.029841,
     "end_time": "2022-01-09T06:27:53.715929",
     "exception": false,
     "start_time": "2022-01-09T06:27:53.686088",
     "status": "completed"
    },
    "tags": []
   },
   "outputs": [],
   "source": [
    "# path and file name for output\n",
    "output_data_csv = os.environ.get('output_data_csv', 'data.csv')\n",
    "\n",
    "# url of souce\n",
    "url = os.environ.get('url')\n",
    "\n",
    "# temporal data storage for local execution\n",
    "data_dir = os.environ.get('data_dir', '../../data/')"
   ]
  },
  {
   "cell_type": "code",
   "execution_count": null,
   "id": "22c51c11-7c47-4877-92a3-88e071506012",
   "metadata": {
    "papermill": {
     "duration": 0.031509,
     "end_time": "2022-01-09T06:27:53.767221",
     "exception": false,
     "start_time": "2022-01-09T06:27:53.735712",
     "status": "completed"
    },
    "tags": []
   },
   "outputs": [],
   "source": [
    "parameters = list(\n",
    "    map(lambda s: re.sub('$', '\"', s),\n",
    "        map(\n",
    "            lambda s: s.replace('=', '=\"'),\n",
    "            filter(\n",
    "                lambda s: s.find('=') > -1 and bool(re.match(r'[A-Za-z0-9_]*=[.\\/A-Za-z0-9]*', s)),\n",
    "                sys.argv\n",
    "            )\n",
    "    )))\n",
    "\n",
    "for parameter in parameters:\n",
    "    logging.warning('Parameter: ' + parameter)\n",
    "    exec(parameter)"
   ]
  },
  {
   "cell_type": "code",
   "execution_count": null,
   "id": "6b3e6235",
   "metadata": {
    "papermill": {
     "duration": 304.528776,
     "end_time": "2022-01-09T06:32:58.314378",
     "exception": false,
     "start_time": "2022-01-09T06:27:53.785602",
     "status": "completed"
    },
    "tags": []
   },
   "outputs": [],
   "source": [
    "destination = os.path.join(data_dir, output_data_csv)\n",
    "os.remove(destination) if os.path.exists(destination) else None\n",
    "wget.download(url, out=destination)"
   ]
  },
  {
   "cell_type": "code",
   "execution_count": null,
   "id": "665247fb",
   "metadata": {
    "papermill": {
     "duration": 0.255296,
     "end_time": "2022-01-09T06:32:58.817146",
     "exception": false,
     "start_time": "2022-01-09T06:32:58.561850",
     "status": "completed"
    },
    "tags": []
   },
   "outputs": [],
   "source": [
    "print('Data written successfully')"
   ]
  }
 ],
 "metadata": {
  "kernelspec": {
   "display_name": "Python 3 (ipykernel)",
   "language": "python",
   "name": "python3"
  },
  "language_info": {
   "codemirror_mode": {
    "name": "ipython",
    "version": 3
   },
   "file_extension": ".py",
   "mimetype": "text/x-python",
   "name": "python",
   "nbconvert_exporter": "python",
   "pygments_lexer": "ipython3",
   "version": "3.8.8"
  },
  "papermill": {
   "default_parameters": {},
   "duration": 308.732901,
   "end_time": "2022-01-09T06:32:59.272602",
   "environment_variables": {},
   "exception": null,
   "input_path": "/home/romeokienzler/gitco/claimed/component-library/input/input-url.ipynb",
   "output_path": "/home/romeokienzler/gitco/claimed/component-library/input/input-url.ipynb",
   "parameters": {},
   "start_time": "2022-01-09T06:27:50.539701",
   "version": "2.3.3"
  }
 },
 "nbformat": 4,
 "nbformat_minor": 5
}
