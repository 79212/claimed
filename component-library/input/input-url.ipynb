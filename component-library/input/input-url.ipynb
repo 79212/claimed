{
 "cells": [
  {
   "cell_type": "markdown",
   "id": "d00fc083",
   "metadata": {
    "papermill": {
     "duration": 0.016307,
     "end_time": "2022-01-10T17:05:19.160432",
     "exception": false,
     "start_time": "2022-01-10T17:05:19.144125",
     "status": "completed"
    },
    "tags": []
   },
   "source": [
    "# Input URL"
   ]
  },
  {
   "cell_type": "markdown",
   "id": "645dc2c4",
   "metadata": {
    "papermill": {
     "duration": 0.015642,
     "end_time": "2022-01-10T17:05:19.193671",
     "exception": false,
     "start_time": "2022-01-10T17:05:19.178029",
     "status": "completed"
    },
    "tags": []
   },
   "source": [
    "This component reads a file from a HTTP(s) source via wget"
   ]
  },
  {
   "cell_type": "code",
   "execution_count": null,
   "id": "4e59fe38",
   "metadata": {
    "papermill": {
     "duration": 1.74616,
     "end_time": "2022-01-10T17:05:20.956199",
     "exception": false,
     "start_time": "2022-01-10T17:05:19.210039",
     "status": "completed"
    },
    "tags": []
   },
   "outputs": [],
   "source": [
    "!pip install wget==3.2"
   ]
  },
  {
   "cell_type": "code",
   "execution_count": null,
   "id": "054a358d",
   "metadata": {
    "papermill": {
     "duration": 0.02608,
     "end_time": "2022-01-10T17:05:21.005692",
     "exception": false,
     "start_time": "2022-01-10T17:05:20.979612",
     "status": "completed"
    },
    "tags": []
   },
   "outputs": [],
   "source": [
    "import logging\n",
    "import os\n",
    "import re\n",
    "import sys\n",
    "import wget"
   ]
  },
  {
   "cell_type": "code",
   "execution_count": null,
   "id": "fcab9b87",
   "metadata": {
    "papermill": {
     "duration": 0.028704,
     "end_time": "2022-01-10T17:05:21.052573",
     "exception": false,
     "start_time": "2022-01-10T17:05:21.023869",
     "status": "completed"
    },
    "tags": []
   },
   "outputs": [],
   "source": [
    "# path and file name for output\n",
    "output_data_csv = os.environ.get('output_data_csv', 'data.csv')\n",
    "\n",
    "# url of souce\n",
    "url = os.environ.get('url')\n",
    "\n",
    "# temporal data storage for local execution\n",
    "data_dir = os.environ.get('data_dir', '../../data/')"
   ]
  },
  {
   "cell_type": "code",
   "execution_count": null,
   "id": "22c51c11-7c47-4877-92a3-88e071506012",
   "metadata": {
    "papermill": {
     "duration": 0.027696,
     "end_time": "2022-01-10T17:05:21.101263",
     "exception": false,
     "start_time": "2022-01-10T17:05:21.073567",
     "status": "completed"
    },
    "tags": []
   },
   "outputs": [],
   "source": [
    "parameters = list(\n",
    "    map(lambda s: re.sub('$', '\"', s),\n",
    "        map(\n",
    "            lambda s: s.replace('=', '=\"'),\n",
    "            filter(\n",
    "                lambda s: s.find('=') > -1 and bool(re.match(r'[A-Za-z0-9_]*=[.\\/A-Za-z0-9]*', s)),\n",
    "                sys.argv\n",
    "            )\n",
    "    )))\n",
    "\n",
    "for parameter in parameters:\n",
    "    logging.warning('Parameter: ' + parameter)\n",
    "    exec(parameter)"
   ]
  },
  {
   "cell_type": "code",
   "execution_count": null,
   "id": "6b3e6235",
   "metadata": {
    "papermill": {
     "duration": 37.803424,
     "end_time": "2022-01-10T17:05:58.925851",
     "exception": false,
     "start_time": "2022-01-10T17:05:21.122427",
     "status": "completed"
    },
    "tags": []
   },
   "outputs": [],
   "source": [
    "destination = os.path.join(data_dir, output_data_csv)\n",
    "os.remove(destination) if os.path.exists(destination) else None\n",
    "wget.download(url, out=destination)"
   ]
  },
  {
   "cell_type": "code",
   "execution_count": null,
   "id": "665247fb",
   "metadata": {
    "papermill": {
     "duration": 0.184592,
     "end_time": "2022-01-10T17:05:59.287980",
     "exception": false,
     "start_time": "2022-01-10T17:05:59.103388",
     "status": "completed"
    },
    "tags": []
   },
   "outputs": [],
   "source": [
    "print('Data written successfully')"
   ]
  }
 ],
 "metadata": {
  "kernelspec": {
   "display_name": "Python 3 (ipykernel)",
   "language": "python",
   "name": "python3"
  },
  "language_info": {
   "codemirror_mode": {
    "name": "ipython",
    "version": 3
   },
   "file_extension": ".py",
   "mimetype": "text/x-python",
   "name": "python",
   "nbconvert_exporter": "python",
   "pygments_lexer": "ipython3",
   "version": "3.9.6"
  },
  "papermill": {
   "default_parameters": {},
   "duration": 41.725932,
   "end_time": "2022-01-10T17:05:59.665500",
   "environment_variables": {},
   "exception": null,
   "input_path": "/home/romeokienzler/gitco/claimed/component-library/input/input-url.ipynb",
   "output_path": "/home/romeokienzler/gitco/claimed/component-library/input/input-url.ipynb",
   "parameters": {},
   "start_time": "2022-01-10T17:05:17.939568",
   "version": "2.3.3"
  }
 },
 "nbformat": 4,
 "nbformat_minor": 5
}
