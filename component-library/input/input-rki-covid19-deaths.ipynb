{
 "cells": [
  {
   "cell_type": "code",
   "execution_count": null,
   "id": "60b7f9ad-5260-46e7-915b-11c47814c6e2",
   "metadata": {
    "papermill": {
     "duration": 1.868337,
     "end_time": "2022-01-09T06:51:18.410987",
     "exception": false,
     "start_time": "2022-01-09T06:51:16.542650",
     "status": "completed"
    },
    "tags": []
   },
   "outputs": [],
   "source": [
    "!pip install pandas==1.3.5 openpyxl==3.0.9"
   ]
  },
  {
   "cell_type": "code",
   "execution_count": null,
   "id": "c2498ac1-01dc-475a-b1d3-bad3743747db",
   "metadata": {
    "papermill": {
     "duration": 0.369781,
     "end_time": "2022-01-09T06:51:18.791104",
     "exception": false,
     "start_time": "2022-01-09T06:51:18.421323",
     "status": "completed"
    },
    "tags": []
   },
   "outputs": [],
   "source": [
    "import pandas as pd"
   ]
  },
  {
   "cell_type": "code",
   "execution_count": null,
   "id": "665cb7d2-7a89-4c6c-9956-81b9c1260e14",
   "metadata": {
    "papermill": {
     "duration": 11.362083,
     "end_time": "2022-01-09T06:51:30.163910",
     "exception": false,
     "start_time": "2022-01-09T06:51:18.801827",
     "status": "completed"
    },
    "tags": []
   },
   "outputs": [],
   "source": [
    "storage_options = {'User-Agent': 'Mozilla/5.0'}\n",
    "df = pd.read_excel('https://www.rki.de/DE/Content/InfAZ/N/Neuartiges_Coronavirus/Projekte_RKI/COVID-19_Todesfaelle.xlsx?__blob=publicationFile', storage_options=storage_options, sheet_name=2)"
   ]
  },
  {
   "cell_type": "code",
   "execution_count": null,
   "id": "8e78ac6e-85df-4b25-8f9d-189bfa6c95cf",
   "metadata": {
    "papermill": {
     "duration": 0.022825,
     "end_time": "2022-01-09T06:51:30.197007",
     "exception": false,
     "start_time": "2022-01-09T06:51:30.174182",
     "status": "completed"
    },
    "tags": []
   },
   "outputs": [],
   "source": [
    "df.to_csv('../../data/data.csv', index=False)"
   ]
  }
 ],
 "metadata": {
  "kernelspec": {
   "display_name": "Python 3 (ipykernel)",
   "language": "python",
   "name": "python3"
  },
  "language_info": {
   "codemirror_mode": {
    "name": "ipython",
    "version": 3
   },
   "file_extension": ".py",
   "mimetype": "text/x-python",
   "name": "python",
   "nbconvert_exporter": "python",
   "pygments_lexer": "ipython3",
   "version": "3.8.8"
  },
  "papermill": {
   "default_parameters": {},
   "duration": 15.131115,
   "end_time": "2022-01-09T06:51:30.515400",
   "environment_variables": {},
   "exception": null,
   "input_path": "/home/romeokienzler/gitco/claimed/component-library/input/input-rki-covid19-deaths.ipynb",
   "output_path": "/home/romeokienzler/gitco/claimed/component-library/input/input-rki-covid19-deaths.ipynb",
   "parameters": {},
   "start_time": "2022-01-09T06:51:15.384285",
   "version": "2.3.3"
  }
 },
 "nbformat": 4,
 "nbformat_minor": 5
}
