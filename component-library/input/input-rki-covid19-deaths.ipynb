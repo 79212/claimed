{
 "cells": [
  {
   "cell_type": "code",
   "execution_count": 1,
   "id": "60b7f9ad-5260-46e7-915b-11c47814c6e2",
   "metadata": {
    "execution": {
     "iopub.execute_input": "2022-01-08T22:22:40.681204Z",
     "iopub.status.busy": "2022-01-08T22:22:40.680669Z",
     "iopub.status.idle": "2022-01-08T22:22:42.559573Z",
     "shell.execute_reply": "2022-01-08T22:22:42.558825Z"
    },
    "papermill": {
     "duration": 1.89502,
     "end_time": "2022-01-08T22:22:42.559854",
     "exception": false,
     "start_time": "2022-01-08T22:22:40.664834",
     "status": "completed"
    },
    "tags": []
   },
   "outputs": [
    {
     "name": "stdout",
     "output_type": "stream",
     "text": [
      "Requirement already satisfied: pandas==1.3.5 in /home/romeokienzler/gitco/new_horizons/elyra/venv/lib/python3.8/site-packages (1.3.5)\r\n",
      "Requirement already satisfied: openpyxl==3.0.9 in /home/romeokienzler/gitco/new_horizons/elyra/venv/lib/python3.8/site-packages (3.0.9)\r\n",
      "Requirement already satisfied: python-dateutil>=2.7.3 in /home/romeokienzler/gitco/new_horizons/elyra/venv/lib/python3.8/site-packages (from pandas==1.3.5) (2.8.2)\r\n",
      "Requirement already satisfied: pytz>=2017.3 in /home/romeokienzler/gitco/new_horizons/elyra/venv/lib/python3.8/site-packages (from pandas==1.3.5) (2021.3)\r\n",
      "Requirement already satisfied: numpy>=1.17.3; platform_machine != \"aarch64\" and platform_machine != \"arm64\" and python_version < \"3.10\" in /home/romeokienzler/gitco/new_horizons/elyra/venv/lib/python3.8/site-packages (from pandas==1.3.5) (1.21.4)\r\n",
      "Requirement already satisfied: et-xmlfile in /home/romeokienzler/gitco/new_horizons/elyra/venv/lib/python3.8/site-packages (from openpyxl==3.0.9) (1.1.0)\r\n",
      "Requirement already satisfied: six>=1.5 in /home/romeokienzler/gitco/new_horizons/elyra/venv/lib/python3.8/site-packages (from python-dateutil>=2.7.3->pandas==1.3.5) (1.16.0)\r\n"
     ]
    },
    {
     "name": "stdout",
     "output_type": "stream",
     "text": [
      "\u001b[33mWARNING: You are using pip version 19.3.1; however, version 21.3.1 is available.\r\n",
      "You should consider upgrading via the 'pip install --upgrade pip' command.\u001b[0m\r\n"
     ]
    }
   ],
   "source": [
    "!pip install pandas==1.3.5 openpyxl==3.0.9"
   ]
  },
  {
   "cell_type": "code",
   "execution_count": 2,
   "id": "c2498ac1-01dc-475a-b1d3-bad3743747db",
   "metadata": {
    "execution": {
     "iopub.execute_input": "2022-01-08T22:22:42.593471Z",
     "iopub.status.busy": "2022-01-08T22:22:42.592439Z",
     "iopub.status.idle": "2022-01-08T22:22:43.045684Z",
     "shell.execute_reply": "2022-01-08T22:22:43.046058Z"
    },
    "papermill": {
     "duration": 0.472318,
     "end_time": "2022-01-08T22:22:43.046231",
     "exception": false,
     "start_time": "2022-01-08T22:22:42.573913",
     "status": "completed"
    },
    "tags": []
   },
   "outputs": [],
   "source": [
    "import pandas as pd"
   ]
  },
  {
   "cell_type": "code",
   "execution_count": 3,
   "id": "665cb7d2-7a89-4c6c-9956-81b9c1260e14",
   "metadata": {
    "execution": {
     "iopub.execute_input": "2022-01-08T22:22:43.069894Z",
     "iopub.status.busy": "2022-01-08T22:22:43.069397Z",
     "iopub.status.idle": "2022-01-08T22:22:43.750130Z",
     "shell.execute_reply": "2022-01-08T22:22:43.750535Z"
    },
    "papermill": {
     "duration": 0.69431,
     "end_time": "2022-01-08T22:22:43.750722",
     "exception": false,
     "start_time": "2022-01-08T22:22:43.056412",
     "status": "completed"
    },
    "tags": []
   },
   "outputs": [],
   "source": [
    "storage_options = {'User-Agent': 'Mozilla/5.0'}\n",
    "df = pd.read_excel('https://www.rki.de/DE/Content/InfAZ/N/Neuartiges_Coronavirus/Projekte_RKI/COVID-19_Todesfaelle.xlsx?__blob=publicationFile', storage_options=storage_options, sheet_name=2)"
   ]
  },
  {
   "cell_type": "code",
   "execution_count": 4,
   "id": "8e78ac6e-85df-4b25-8f9d-189bfa6c95cf",
   "metadata": {
    "execution": {
     "iopub.execute_input": "2022-01-08T22:22:43.779586Z",
     "iopub.status.busy": "2022-01-08T22:22:43.779072Z",
     "iopub.status.idle": "2022-01-08T22:22:43.782811Z",
     "shell.execute_reply": "2022-01-08T22:22:43.782365Z"
    },
    "papermill": {
     "duration": 0.019997,
     "end_time": "2022-01-08T22:22:43.782953",
     "exception": false,
     "start_time": "2022-01-08T22:22:43.762956",
     "status": "completed"
    },
    "tags": []
   },
   "outputs": [],
   "source": [
    "df.to_csv('../../data/data.csv', index=False)"
   ]
  }
 ],
 "metadata": {
  "kernelspec": {
   "display_name": "Python 3 (ipykernel)",
   "language": "python",
   "name": "python3"
  },
  "language_info": {
   "codemirror_mode": {
    "name": "ipython",
    "version": 3
   },
   "file_extension": ".py",
   "mimetype": "text/x-python",
   "name": "python",
   "nbconvert_exporter": "python",
   "pygments_lexer": "ipython3",
   "version": "3.8.8"
  },
  "papermill": {
   "default_parameters": {},
   "duration": 4.370013,
   "end_time": "2022-01-08T22:22:44.100821",
   "environment_variables": {},
   "exception": null,
   "input_path": "/home/romeokienzler/gitco/claimed/component-library/input/input-rki-covid19-deaths.ipynb",
   "output_path": "/home/romeokienzler/gitco/claimed/component-library/input/input-rki-covid19-deaths.ipynb",
   "parameters": {},
   "start_time": "2022-01-08T22:22:39.730808",
   "version": "2.3.3"
  }
 },
 "nbformat": 4,
 "nbformat_minor": 5
}