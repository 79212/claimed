{
 "cells": [
  {
   "cell_type": "markdown",
   "id": "d00fc083",
   "metadata": {
    "papermill": {
     "duration": 0.016307,
     "end_time": "2022-01-10T17:05:19.160432",
     "exception": false,
     "start_time": "2022-01-10T17:05:19.144125",
     "status": "completed"
    },
    "tags": []
   },
   "source": [
    "# Input MQTT"
   ]
  },
  {
   "cell_type": "markdown",
   "id": "645dc2c4",
   "metadata": {
    "papermill": {
     "duration": 0.015642,
     "end_time": "2022-01-10T17:05:19.193671",
     "exception": false,
     "start_time": "2022-01-10T17:05:19.178029",
     "status": "completed"
    },
    "tags": []
   },
   "source": [
    "Reads from MQTT topics in batches or streams"
   ]
  },
  {
   "cell_type": "code",
   "execution_count": null,
   "id": "4e59fe38",
   "metadata": {
    "papermill": {
     "duration": 1.74616,
     "end_time": "2022-01-10T17:05:20.956199",
     "exception": false,
     "start_time": "2022-01-10T17:05:19.210039",
     "status": "completed"
    },
    "tags": []
   },
   "outputs": [],
   "source": [
    "!pip install paho-mqtt flask"
   ]
  },
  {
   "cell_type": "code",
   "execution_count": null,
   "id": "054a358d",
   "metadata": {
    "papermill": {
     "duration": 0.02608,
     "end_time": "2022-01-10T17:05:21.005692",
     "exception": false,
     "start_time": "2022-01-10T17:05:20.979612",
     "status": "completed"
    },
    "tags": []
   },
   "outputs": [],
   "source": [
    "import logging\n",
    "import os\n",
    "import re\n",
    "import sys\n",
    "import random\n",
    "from paho.mqtt import client as mqtt_client\n",
    "import threading\n",
    "from flask import Flask\n",
    "import queue"
   ]
  },
  {
   "cell_type": "code",
   "execution_count": null,
   "id": "fcab9b87",
   "metadata": {
    "papermill": {
     "duration": 0.028704,
     "end_time": "2022-01-10T17:05:21.052573",
     "exception": false,
     "start_time": "2022-01-10T17:05:21.023869",
     "status": "completed"
    },
    "tags": []
   },
   "outputs": [],
   "source": [
    "# mqtt port\n",
    "port = int(os.environ.get('port',1883))\n",
    "\n",
    "# mqtt server\n",
    "broker = os.environ.get('broker')\n",
    "\n",
    "# mqtt topic\n",
    "topic = os.environ.get('topic')\n",
    "\n",
    "# mqtt user name\n",
    "username = os.environ.get('username', '')\n",
    "\n",
    "# mqtt password\n",
    "password = os.environ.get('password', '')"
   ]
  },
  {
   "cell_type": "code",
   "execution_count": null,
   "id": "22c51c11-7c47-4877-92a3-88e071506012",
   "metadata": {
    "papermill": {
     "duration": 0.027696,
     "end_time": "2022-01-10T17:05:21.101263",
     "exception": false,
     "start_time": "2022-01-10T17:05:21.073567",
     "status": "completed"
    },
    "tags": []
   },
   "outputs": [],
   "source": [
    "parameters = list(\n",
    "    map(lambda s: re.sub('$', '\"', s),\n",
    "        map(\n",
    "            lambda s: s.replace('=', '=\"'),\n",
    "            filter(\n",
    "                lambda s: s.find('=') > -1 and bool(re.match(r'[A-Za-z0-9_]*=[.\\/A-Za-z0-9]*', s)),\n",
    "                sys.argv\n",
    "            )\n",
    "    )))\n",
    "\n",
    "port = int(port)\n",
    "\n",
    "for parameter in parameters:\n",
    "    logging.warning('Parameter: ' + parameter)\n",
    "    exec(parameter)"
   ]
  },
  {
   "cell_type": "code",
   "execution_count": null,
   "id": "484d5974-1a9e-49d7-bd95-576372f526d5",
   "metadata": {},
   "outputs": [],
   "source": [
    "def connect_mqtt():\n",
    "    def on_connect(client, userdata, flags, rc):\n",
    "        if rc == 0:\n",
    "            print(\"Connected to MQTT Broker!\")\n",
    "        else:\n",
    "            print(\"Failed to connect, return code %d\\n\", rc)\n",
    "    # Set Connecting Client ID\n",
    "    client = mqtt_client.Client(f'python-mqtt-{random.randint(0, 1000)}')\n",
    "    client.username_pw_set(username, password)\n",
    "    client.on_connect = on_connect\n",
    "    client.connect(broker, port)\n",
    "    return client"
   ]
  },
  {
   "cell_type": "code",
   "execution_count": null,
   "id": "f4eb2eb7-2d16-4e29-b4db-9d68f3652c36",
   "metadata": {},
   "outputs": [],
   "source": [
    "client = connect_mqtt()\n",
    "q = queue.Queue()"
   ]
  },
  {
   "cell_type": "code",
   "execution_count": null,
   "id": "014b286c-66b0-4177-8a4b-52e957047cab",
   "metadata": {
    "scrolled": true,
    "tags": []
   },
   "outputs": [],
   "source": [
    "def subscribe(client: mqtt_client):\n",
    "    def on_message(client, userdata, msg):\n",
    "        q.put(msg.payload.decode())\n",
    "    client.subscribe(topic)\n",
    "    client.on_message = on_message\n",
    "\n",
    "subscribe(client)\n",
    "\n",
    "x = threading.Thread(target=client.loop_forever)\n",
    "x.start()\n"
   ]
  },
  {
   "cell_type": "code",
   "execution_count": null,
   "id": "bc3db22f-b7a7-4436-a79f-5159a42993df",
   "metadata": {},
   "outputs": [],
   "source": [
    "app = Flask(__name__)\n",
    "\n",
    "@app.route('/')\n",
    "def index():\n",
    "    return q.get()\n",
    "\n",
    "app.run(host='0.0.0.0', port=8080)"
   ]
  },
  {
   "cell_type": "code",
   "execution_count": null,
   "id": "f5b71a05-2edf-40f9-aa89-52455ae13613",
   "metadata": {},
   "outputs": [],
   "source": []
  }
 ],
 "metadata": {
  "kernelspec": {
   "display_name": "Python 3 (ipykernel)",
   "language": "python",
   "name": "python3"
  },
  "language_info": {
   "codemirror_mode": {
    "name": "ipython",
    "version": 3
   },
   "file_extension": ".py",
   "mimetype": "text/x-python",
   "name": "python",
   "nbconvert_exporter": "python",
   "pygments_lexer": "ipython3",
   "version": "3.9.6"
  },
  "papermill": {
   "default_parameters": {},
   "duration": 41.725932,
   "end_time": "2022-01-10T17:05:59.665500",
   "environment_variables": {},
   "exception": null,
   "input_path": "/home/romeokienzler/gitco/claimed/component-library/input/input-url.ipynb",
   "output_path": "/home/romeokienzler/gitco/claimed/component-library/input/input-url.ipynb",
   "parameters": {},
   "start_time": "2022-01-10T17:05:17.939568",
   "version": "2.3.3"
  }
 },
 "nbformat": 4,
 "nbformat_minor": 5
}
