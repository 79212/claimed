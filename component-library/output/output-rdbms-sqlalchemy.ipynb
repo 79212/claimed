{
 "cells": [
  {
   "cell_type": "markdown",
   "id": "58033684",
   "metadata": {
    "papermill": {
     "duration": 0.022493,
     "end_time": "2022-01-08T22:22:45.078226",
     "exception": false,
     "start_time": "2022-01-08T22:22:45.055733",
     "status": "completed"
    },
    "tags": []
   },
   "source": [
    "# Output RDMBS Alchemy"
   ]
  },
  {
   "cell_type": "markdown",
   "id": "54c523c6",
   "metadata": {
    "papermill": {
     "duration": 0.018961,
     "end_time": "2022-01-08T22:22:45.117296",
     "exception": false,
     "start_time": "2022-01-08T22:22:45.098335",
     "status": "completed"
    },
    "tags": []
   },
   "source": [
    "This component pushes data to any RDMBS supported by SQLAlchemy as CSV on a given table. Parameters like host, database, user, password and table name need to be set.\n",
    "\n",
    "Currently only append mode is supported via the execute_batch helper. Optionally, you can flush (truncate) the table before.\n",
    "\n",
    "The current implementation loads all data into main memory (via pandas) first. Better implementations can be found below, PRs welcome!\n",
    "\n",
    "https://hakibenita.com/fast-load-data-python-postgresql"
   ]
  },
  {
   "cell_type": "code",
   "execution_count": 1,
   "id": "d3cb2d04",
   "metadata": {
    "execution": {
     "iopub.execute_input": "2022-01-08T22:22:45.162013Z",
     "iopub.status.busy": "2022-01-08T22:22:45.161487Z",
     "iopub.status.idle": "2022-01-08T22:22:53.566518Z",
     "shell.execute_reply": "2022-01-08T22:22:53.565939Z"
    },
    "papermill": {
     "duration": 8.430687,
     "end_time": "2022-01-08T22:22:53.566682",
     "exception": false,
     "start_time": "2022-01-08T22:22:45.135995",
     "status": "completed"
    },
    "tags": []
   },
   "outputs": [
    {
     "name": "stdout",
     "output_type": "stream",
     "text": [
      "Collecting sqlalchemy==1.4.23\r\n",
      "  Using cached https://files.pythonhosted.org/packages/38/86/209b810ec1d6a041eb60985ff3a3c671633bcc5665b93ed8467d7bd11987/SQLAlchemy-1.4.23-cp38-cp38-manylinux_2_5_x86_64.manylinux1_x86_64.manylinux_2_17_x86_64.manylinux2014_x86_64.whl\r\n"
     ]
    },
    {
     "name": "stdout",
     "output_type": "stream",
     "text": [
      "Collecting pandas==1.3.1\r\n"
     ]
    },
    {
     "name": "stdout",
     "output_type": "stream",
     "text": [
      "  Using cached https://files.pythonhosted.org/packages/1d/99/80783b636b98a66f9e9ae39d6691b21efc1f293f9ed56c2ef8d17753dccd/pandas-1.3.1-cp38-cp38-manylinux_2_17_x86_64.manylinux2014_x86_64.whl\r\n"
     ]
    },
    {
     "name": "stdout",
     "output_type": "stream",
     "text": [
      "Requirement already satisfied: psycopg2-binary==2.9.1 in /home/romeokienzler/gitco/new_horizons/elyra/venv/lib/python3.8/site-packages (2.9.1)\r\n",
      "Requirement already satisfied: greenlet!=0.4.17; python_version >= \"3\" and platform_machine in \"x86_64 X86_64 aarch64 AARCH64 ppc64le PPC64LE amd64 AMD64 win32 WIN32\" in /home/romeokienzler/gitco/new_horizons/elyra/venv/lib/python3.8/site-packages (from sqlalchemy==1.4.23) (1.1.2)\r\n",
      "Requirement already satisfied: python-dateutil>=2.7.3 in /home/romeokienzler/gitco/new_horizons/elyra/venv/lib/python3.8/site-packages (from pandas==1.3.1) (2.8.2)\r\n",
      "Requirement already satisfied: numpy>=1.17.3 in /home/romeokienzler/gitco/new_horizons/elyra/venv/lib/python3.8/site-packages (from pandas==1.3.1) (1.21.4)\r\n",
      "Requirement already satisfied: pytz>=2017.3 in /home/romeokienzler/gitco/new_horizons/elyra/venv/lib/python3.8/site-packages (from pandas==1.3.1) (2021.3)\r\n",
      "Requirement already satisfied: six>=1.5 in /home/romeokienzler/gitco/new_horizons/elyra/venv/lib/python3.8/site-packages (from python-dateutil>=2.7.3->pandas==1.3.1) (1.16.0)\r\n"
     ]
    },
    {
     "name": "stdout",
     "output_type": "stream",
     "text": [
      "Installing collected packages: sqlalchemy, pandas\r\n",
      "  Found existing installation: SQLAlchemy 1.4.29\r\n"
     ]
    },
    {
     "name": "stdout",
     "output_type": "stream",
     "text": [
      "    Uninstalling SQLAlchemy-1.4.29:\r\n",
      "      Successfully uninstalled SQLAlchemy-1.4.29\r\n"
     ]
    },
    {
     "name": "stdout",
     "output_type": "stream",
     "text": [
      "  Found existing installation: pandas 1.3.5\r\n"
     ]
    },
    {
     "name": "stdout",
     "output_type": "stream",
     "text": [
      "    Uninstalling pandas-1.3.5:\r\n",
      "      Successfully uninstalled pandas-1.3.5\r\n"
     ]
    },
    {
     "name": "stdout",
     "output_type": "stream",
     "text": [
      "Successfully installed pandas-1.3.1 sqlalchemy-1.4.23\r\n"
     ]
    },
    {
     "name": "stdout",
     "output_type": "stream",
     "text": [
      "\u001b[33mWARNING: You are using pip version 19.3.1; however, version 21.3.1 is available.\r\n",
      "You should consider upgrading via the 'pip install --upgrade pip' command.\u001b[0m\r\n"
     ]
    }
   ],
   "source": [
    "!pip install sqlalchemy==1.4.23 pandas==1.3.1 psycopg2-binary==2.9.1"
   ]
  },
  {
   "cell_type": "code",
   "execution_count": 2,
   "id": "cf1d5b7b",
   "metadata": {
    "execution": {
     "iopub.execute_input": "2022-01-08T22:22:53.623483Z",
     "iopub.status.busy": "2022-01-08T22:22:53.622956Z",
     "iopub.status.idle": "2022-01-08T22:22:54.114447Z",
     "shell.execute_reply": "2022-01-08T22:22:54.113936Z"
    },
    "papermill": {
     "duration": 0.521766,
     "end_time": "2022-01-08T22:22:54.114590",
     "exception": false,
     "start_time": "2022-01-08T22:22:53.592824",
     "status": "completed"
    },
    "tags": []
   },
   "outputs": [],
   "source": [
    "import logging\n",
    "import os\n",
    "import pandas as pd\n",
    "import re\n",
    "from sqlalchemy import create_engine\n",
    "from sqlalchemy.orm import sessionmaker\n",
    "import sys"
   ]
  },
  {
   "cell_type": "code",
   "execution_count": 3,
   "id": "caa39d79",
   "metadata": {
    "execution": {
     "iopub.execute_input": "2022-01-08T22:22:54.174656Z",
     "iopub.status.busy": "2022-01-08T22:22:54.174134Z",
     "iopub.status.idle": "2022-01-08T22:22:54.176580Z",
     "shell.execute_reply": "2022-01-08T22:22:54.176160Z"
    },
    "papermill": {
     "duration": 0.036145,
     "end_time": "2022-01-08T22:22:54.176722",
     "exception": false,
     "start_time": "2022-01-08T22:22:54.140577",
     "status": "completed"
    },
    "tags": []
   },
   "outputs": [],
   "source": [
    "# data to load (expects CSV file with header)\n",
    "data_csv = os.environ.get('data_csv', 'data.csv')\n",
    "\n",
    "# type of database server (sqlalchemy dialect), e.g. postgresql\n",
    "db_type = os.environ.get('db_type', 'postgresql')\n",
    "\n",
    "# hostname of database server\n",
    "host = os.environ.get('host')\n",
    "\n",
    "# database name\n",
    "database = os.environ.get('database')\n",
    "\n",
    "# db user\n",
    "user = os.environ.get('user')\n",
    "\n",
    "# db password\n",
    "password = os.environ.get('password')\n",
    "\n",
    "# db port\n",
    "port = int(os.environ.get('port', 5432))\n",
    "\n",
    "# schema name\n",
    "schema = os.environ.get('schema')\n",
    "\n",
    "# table name\n",
    "table = os.environ.get('table')\n",
    "\n",
    "# drop table before insert\n",
    "drop = bool(os.environ.get('drop', True))\n",
    "\n",
    "# delimiter\n",
    "delimiter = os.environ.get('delimiter', ',')\n",
    "\n",
    "# character encoding\n",
    "encoding = os.environ.get('encoding', 'cp1252')\n",
    "\n",
    "# temporal data storage for local execution\n",
    "data_dir = os.environ.get('data_dir', '../../data/')"
   ]
  },
  {
   "cell_type": "code",
   "execution_count": 4,
   "id": "8effb1da",
   "metadata": {
    "execution": {
     "iopub.execute_input": "2022-01-08T22:22:54.235247Z",
     "iopub.status.busy": "2022-01-08T22:22:54.234642Z",
     "iopub.status.idle": "2022-01-08T22:22:54.236718Z",
     "shell.execute_reply": "2022-01-08T22:22:54.236267Z"
    },
    "papermill": {
     "duration": 0.033413,
     "end_time": "2022-01-08T22:22:54.236854",
     "exception": false,
     "start_time": "2022-01-08T22:22:54.203441",
     "status": "completed"
    },
    "tags": []
   },
   "outputs": [],
   "source": [
    "parameters = list(\n",
    "    map(lambda s: re.sub('$', '\"', s),\n",
    "        map(\n",
    "            lambda s: s.replace('=', '=\"'),\n",
    "            filter(\n",
    "                lambda s: s.find('=') > -1 and bool(re.match(r'[A-Za-z0-9_]*=[.\\/A-Za-z0-9]*', s)),\n",
    "                sys.argv\n",
    "            )\n",
    "    )))\n",
    "\n",
    "for parameter in parameters:\n",
    "    logging.warning('Parameter: ' + parameter)\n",
    "    exec(parameter)\n",
    "\n",
    "drop = bool(drop)\n",
    "port = int(port)"
   ]
  },
  {
   "cell_type": "code",
   "execution_count": 5,
   "id": "94d75ae6",
   "metadata": {
    "execution": {
     "iopub.execute_input": "2022-01-08T22:22:54.294734Z",
     "iopub.status.busy": "2022-01-08T22:22:54.294224Z",
     "iopub.status.idle": "2022-01-08T22:22:54.322910Z",
     "shell.execute_reply": "2022-01-08T22:22:54.322481Z"
    },
    "papermill": {
     "duration": 0.059845,
     "end_time": "2022-01-08T22:22:54.323061",
     "exception": false,
     "start_time": "2022-01-08T22:22:54.263216",
     "status": "completed"
    },
    "tags": []
   },
   "outputs": [],
   "source": [
    "engine = create_engine(f'{db_type}://{user}:{password}@{host}:{port}/{database}')"
   ]
  },
  {
   "cell_type": "code",
   "execution_count": 6,
   "id": "0720dd78",
   "metadata": {
    "execution": {
     "iopub.execute_input": "2022-01-08T22:22:54.379437Z",
     "iopub.status.busy": "2022-01-08T22:22:54.378919Z",
     "iopub.status.idle": "2022-01-08T22:22:55.101915Z",
     "shell.execute_reply": "2022-01-08T22:22:55.102330Z"
    },
    "papermill": {
     "duration": 0.753042,
     "end_time": "2022-01-08T22:22:55.102512",
     "exception": false,
     "start_time": "2022-01-08T22:22:54.349470",
     "status": "completed"
    },
    "tags": []
   },
   "outputs": [],
   "source": [
    "if drop:\n",
    "    with engine.connect() as con:\n",
    "        con.execution_options(autocommit=True).execute(f'DROP TABLE IF EXISTS {schema}.{table};')"
   ]
  },
  {
   "cell_type": "code",
   "execution_count": 7,
   "id": "5307fb47",
   "metadata": {
    "execution": {
     "iopub.execute_input": "2022-01-08T22:22:55.160342Z",
     "iopub.status.busy": "2022-01-08T22:22:55.159821Z",
     "iopub.status.idle": "2022-01-08T22:22:55.523899Z",
     "shell.execute_reply": "2022-01-08T22:22:55.523358Z"
    },
    "papermill": {
     "duration": 0.395846,
     "end_time": "2022-01-08T22:22:55.524046",
     "exception": false,
     "start_time": "2022-01-08T22:22:55.128200",
     "status": "completed"
    },
    "tags": []
   },
   "outputs": [
    {
     "name": "stderr",
     "output_type": "stream",
     "text": [
      "/tmp/ipykernel_821604/1475509544.py:6: FutureWarning: The default value of regex will change from True to False in a future version.\n",
      "  df.columns = df.columns.str.replace('[ä,ö,ü]', '[ae,oe,ue]')\n"
     ]
    }
   ],
   "source": [
    "Session = sessionmaker(bind=engine)\n",
    "\n",
    "with Session() as session:\n",
    "    df = pd.read_csv(data_dir + data_csv, encoding=encoding, delimiter=delimiter)\n",
    "    df.columns= df.columns.str.lower()\n",
    "    df.columns = df.columns.str.replace('[ä,ö,ü]', '[ae,oe,ue]')\n",
    "    df.to_sql(table, con=engine, if_exists='append', index=False)"
   ]
  },
  {
   "cell_type": "code",
   "execution_count": 8,
   "id": "848c4a95-e974-4754-aff3-42f215491172",
   "metadata": {
    "execution": {
     "iopub.execute_input": "2022-01-08T22:22:55.581566Z",
     "iopub.status.busy": "2022-01-08T22:22:55.581081Z",
     "iopub.status.idle": "2022-01-08T22:22:55.582958Z",
     "shell.execute_reply": "2022-01-08T22:22:55.582528Z"
    },
    "papermill": {
     "duration": 0.032083,
     "end_time": "2022-01-08T22:22:55.583089",
     "exception": false,
     "start_time": "2022-01-08T22:22:55.551006",
     "status": "completed"
    },
    "tags": []
   },
   "outputs": [],
   "source": [
    "#import pandas as pd\n",
    "#df = pd.read_csv('../../data/12613-0004_flat.csv', encoding='cp1252', delimiter=';')\n",
    "#df.columns= df.columns.str.lower()\n",
    "#df.columns = df.columns.str.replace('[ä,ö,ü]', '[ae,oe,ue]')"
   ]
  }
 ],
 "metadata": {
  "kernelspec": {
   "display_name": "Python 3 (ipykernel)",
   "language": "python",
   "name": "python3"
  },
  "language_info": {
   "codemirror_mode": {
    "name": "ipython",
    "version": 3
   },
   "file_extension": ".py",
   "mimetype": "text/x-python",
   "name": "python",
   "nbconvert_exporter": "python",
   "pygments_lexer": "ipython3",
   "version": "3.8.8"
  },
  "papermill": {
   "default_parameters": {},
   "duration": 11.773272,
   "end_time": "2022-01-08T22:22:55.918072",
   "environment_variables": {},
   "exception": null,
   "input_path": "/home/romeokienzler/gitco/claimed/component-library/output/output-rdbms-sqlalchemy.ipynb",
   "output_path": "/home/romeokienzler/gitco/claimed/component-library/output/output-rdbms-sqlalchemy.ipynb",
   "parameters": {},
   "start_time": "2022-01-08T22:22:44.144800",
   "version": "2.3.3"
  }
 },
 "nbformat": 4,
 "nbformat_minor": 5
}