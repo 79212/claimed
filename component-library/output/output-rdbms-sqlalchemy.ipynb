{
 "cells": [
  {
   "cell_type": "markdown",
   "id": "58033684",
   "metadata": {
    "papermill": {
     "duration": 0.02159,
     "end_time": "2022-01-10T09:12:25.650671",
     "exception": false,
     "start_time": "2022-01-10T09:12:25.629081",
     "status": "completed"
    },
    "tags": []
   },
   "source": [
    "# Output RDMBS Alchemy"
   ]
  },
  {
   "cell_type": "markdown",
   "id": "54c523c6",
   "metadata": {
    "papermill": {
     "duration": 0.025677,
     "end_time": "2022-01-10T09:12:25.702799",
     "exception": false,
     "start_time": "2022-01-10T09:12:25.677122",
     "status": "completed"
    },
    "tags": []
   },
   "source": [
    "This component pushes data to any RDMBS supported by SQLAlchemy as CSV on a given table. Parameters like host, database, user, password and table name need to be set.\n",
    "\n",
    "Currently only append mode is supported via the execute_batch helper. Optionally, you can flush (truncate) the table before.\n",
    "\n",
    "The current implementation loads all data into main memory (via pandas) first. Better implementations can be found below, PRs welcome!\n",
    "\n",
    "https://hakibenita.com/fast-load-data-python-postgresql"
   ]
  },
  {
   "cell_type": "code",
   "execution_count": null,
   "id": "d3cb2d04",
   "metadata": {
    "papermill": {
     "duration": 14.057947,
     "end_time": "2022-01-10T09:12:39.780428",
     "exception": false,
     "start_time": "2022-01-10T09:12:25.722481",
     "status": "completed"
    },
    "tags": []
   },
   "outputs": [],
   "source": [
    "!pip install sqlalchemy==1.4.23 pandas==1.3.1 psycopg2-binary==2.9.1"
   ]
  },
  {
   "cell_type": "code",
   "execution_count": null,
   "id": "cf1d5b7b",
   "metadata": {
    "papermill": {
     "duration": 0.51374,
     "end_time": "2022-01-10T09:12:40.319605",
     "exception": false,
     "start_time": "2022-01-10T09:12:39.805865",
     "status": "completed"
    },
    "tags": []
   },
   "outputs": [],
   "source": [
    "import logging\n",
    "import os\n",
    "import pandas as pd\n",
    "import re\n",
    "from sqlalchemy import create_engine\n",
    "from sqlalchemy.orm import sessionmaker\n",
    "import sys"
   ]
  },
  {
   "cell_type": "code",
   "execution_count": null,
   "id": "caa39d79",
   "metadata": {
    "papermill": {
     "duration": 0.036044,
     "end_time": "2022-01-10T09:12:40.381064",
     "exception": false,
     "start_time": "2022-01-10T09:12:40.345020",
     "status": "completed"
    },
    "tags": []
   },
   "outputs": [],
   "source": [
    "# data to load (expects CSV file with header)\n",
    "data_csv = os.environ.get('data_csv', 'data.csv')\n",
    "\n",
    "# type of database server (sqlalchemy dialect), e.g. postgresql\n",
    "db_type = os.environ.get('db_type', 'postgresql')\n",
    "\n",
    "# hostname of database server\n",
    "host = os.environ.get('host')\n",
    "\n",
    "# database name\n",
    "database = os.environ.get('database')\n",
    "\n",
    "# db user\n",
    "user = os.environ.get('user')\n",
    "\n",
    "# db password\n",
    "password = os.environ.get('password')\n",
    "\n",
    "# db port\n",
    "port = int(os.environ.get('port', 5432))\n",
    "\n",
    "# schema name\n",
    "schema = os.environ.get('schema')\n",
    "\n",
    "# table name\n",
    "table = os.environ.get('table')\n",
    "\n",
    "# drop table before insert\n",
    "drop = bool(os.environ.get('drop', True))\n",
    "\n",
    "# delimiter\n",
    "delimiter = os.environ.get('delimiter', ',')\n",
    "\n",
    "# character encoding\n",
    "encoding = os.environ.get('encoding', 'cp1252')\n",
    "\n",
    "# temporal data storage for local execution\n",
    "data_dir = os.environ.get('data_dir', '../../data/')"
   ]
  },
  {
   "cell_type": "code",
   "execution_count": null,
   "id": "8effb1da",
   "metadata": {
    "papermill": {
     "duration": 0.031613,
     "end_time": "2022-01-10T09:12:40.438070",
     "exception": false,
     "start_time": "2022-01-10T09:12:40.406457",
     "status": "completed"
    },
    "tags": []
   },
   "outputs": [],
   "source": [
    "parameters = list(\n",
    "    map(lambda s: re.sub('$', '\"', s),\n",
    "        map(\n",
    "            lambda s: s.replace('=', '=\"'),\n",
    "            filter(\n",
    "                lambda s: s.find('=') > -1 and bool(re.match(r'[A-Za-z0-9_]*=[.\\/A-Za-z0-9]*', s)),\n",
    "                sys.argv\n",
    "            )\n",
    "    )))\n",
    "\n",
    "for parameter in parameters:\n",
    "    logging.warning('Parameter: ' + parameter)\n",
    "    exec(parameter)\n",
    "\n",
    "drop = bool(drop)\n",
    "port = int(port)"
   ]
  },
  {
   "cell_type": "code",
   "execution_count": null,
   "id": "94d75ae6",
   "metadata": {
    "papermill": {
     "duration": 0.057907,
     "end_time": "2022-01-10T09:12:40.521105",
     "exception": false,
     "start_time": "2022-01-10T09:12:40.463198",
     "status": "completed"
    },
    "tags": []
   },
   "outputs": [],
   "source": [
    "engine = create_engine(f'{db_type}://{user}:{password}@{host}:{port}/{database}')"
   ]
  },
  {
   "cell_type": "code",
   "execution_count": null,
   "id": "0720dd78",
   "metadata": {
    "papermill": {
     "duration": 2.348791,
     "end_time": "2022-01-10T09:12:42.895389",
     "exception": false,
     "start_time": "2022-01-10T09:12:40.546598",
     "status": "completed"
    },
    "tags": []
   },
   "outputs": [],
   "source": [
    "if drop:\n",
    "    with engine.connect() as con:\n",
    "        con.execution_options(autocommit=True).execute(f'DROP TABLE IF EXISTS {schema}.{table};')"
   ]
  },
  {
   "cell_type": "code",
   "execution_count": null,
   "id": "5307fb47",
   "metadata": {
    "papermill": {
     "duration": 3.758082,
     "end_time": "2022-01-10T09:12:46.679527",
     "exception": false,
     "start_time": "2022-01-10T09:12:42.921445",
     "status": "completed"
    },
    "tags": []
   },
   "outputs": [],
   "source": [
    "Session = sessionmaker(bind=engine)\n",
    "\n",
    "with Session() as session:\n",
    "    df = pd.read_csv(data_dir + data_csv, encoding=encoding, delimiter=delimiter)\n",
    "    df.columns= df.columns.str.lower()\n",
    "    df.columns = df.columns.str.replace('[ä,ö,ü]', '[ae,oe,ue]')\n",
    "    df.to_sql(table, con=engine, if_exists='append', index=False)"
   ]
  },
  {
   "cell_type": "code",
   "execution_count": null,
   "id": "848c4a95-e974-4754-aff3-42f215491172",
   "metadata": {
    "papermill": {
     "duration": 0.03106,
     "end_time": "2022-01-10T09:12:46.737004",
     "exception": false,
     "start_time": "2022-01-10T09:12:46.705944",
     "status": "completed"
    },
    "tags": []
   },
   "outputs": [],
   "source": [
    "#import pandas as pd\n",
    "#df = pd.read_csv('../../data/12613-0004_flat.csv', encoding='cp1252', delimiter=';')\n",
    "#df.columns= df.columns.str.lower()\n",
    "#df.columns = df.columns.str.replace('[ä,ö,ü]', '[ae,oe,ue]')"
   ]
  }
 ],
 "metadata": {
  "kernelspec": {
   "display_name": "Python 3 (ipykernel)",
   "language": "python",
   "name": "python3"
  },
  "language_info": {
   "codemirror_mode": {
    "name": "ipython",
    "version": 3
   },
   "file_extension": ".py",
   "mimetype": "text/x-python",
   "name": "python",
   "nbconvert_exporter": "python",
   "pygments_lexer": "ipython3",
   "version": "3.8.8"
  },
  "papermill": {
   "default_parameters": {},
   "duration": 22.328575,
   "end_time": "2022-01-10T09:12:47.070150",
   "environment_variables": {},
   "exception": null,
   "input_path": "/home/romeokienzler/gitco/claimed/component-library/output/output-rdbms-sqlalchemy.ipynb",
   "output_path": "/home/romeokienzler/gitco/claimed/component-library/output/output-rdbms-sqlalchemy.ipynb",
   "parameters": {},
   "start_time": "2022-01-10T09:12:24.741575",
   "version": "2.3.3"
  }
 },
 "nbformat": 4,
 "nbformat_minor": 5
}
