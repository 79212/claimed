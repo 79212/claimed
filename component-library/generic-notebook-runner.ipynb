{
 "cells": [
  {
   "cell_type": "markdown",
   "id": "53af08cf-0149-4369-93d6-fba2203ec6cc",
   "metadata": {},
   "source": [
    "# Run any notebook\n",
    "\n",
    "Pulls a notebook from an URL provided and runs it via ipython"
   ]
  },
  {
   "cell_type": "code",
   "execution_count": 1,
   "id": "9ee25986-e86d-4995-9a1d-0e2ea95e35ab",
   "metadata": {},
   "outputs": [],
   "source": [
    "import os\n",
    "#os.environ['create_image']='True'"
   ]
  },
  {
   "cell_type": "code",
   "execution_count": 2,
   "id": "38ee13e4-dd59-4b52-982a-ea5ba3f6594e",
   "metadata": {
    "scrolled": true,
    "tags": []
   },
   "outputs": [
    {
     "name": "stdout",
     "output_type": "stream",
     "text": [
      "Sending build context to Docker daemon  6.859MB\n",
      "Step 1/4 : FROM registry.access.redhat.com/ubi8/python-39\n",
      " ---> a531ae76755e\n",
      "Step 2/4 : RUN pip install ipython nbformat\n",
      " ---> Using cache\n",
      " ---> b52fc7c3236b\n",
      "Step 3/4 : ADD generic-notebook-runner.ipynb /\n",
      " ---> 08d578d651d9\n",
      "Step 4/4 : ENTRYPOINT [\"ipython\",\"/generic-notebook-runner.ipynb\"]\n",
      " ---> Running in bbc7db2e9e41\n",
      "Removing intermediate container bbc7db2e9e41\n",
      " ---> 796a60faf90a\n",
      "Successfully built 796a60faf90a\n",
      "Successfully tagged generic-notebook-runner:latest\n",
      "Using default tag: latest\n",
      "The push refers to repository [docker.io/romeokienzler/generic-notebook-runner]\n",
      "\n",
      "\u001b[1Bc0fa947f: Preparing \n",
      "\u001b[1B07ffa0c7: Preparing \n",
      "\u001b[1B2e0f4ef5: Preparing \n",
      "\u001b[1B276847a2: Preparing \n",
      "\u001b[1B534f4e1b: Preparing \n",
      "\u001b[1Bc926eef9: Preparing \n",
      "\u001b[7Bc0fa947f: Pushed lready exists 4kB\u001b[4A\u001b[2K\u001b[6A\u001b[2K\u001b[1A\u001b[2K\u001b[2A\u001b[2K\u001b[7A\u001b[2Klatest: digest: sha256:bf466a1f7f3bc50689baa9a17ee52b5eb018b9c9dc04bdc2a61aa3464bf8eb90 size: 1792\n"
     ]
    }
   ],
   "source": [
    "if bool(os.environ.get('create_image',False)):\n",
    "    docker_file=\"\"\"\n",
    "    FROM registry.access.redhat.com/ubi8/python-39\n",
    "    RUN pip install ipython nbformat\n",
    "    ADD generic-notebook-runner.ipynb /\n",
    "    ENTRYPOINT [\"ipython\",\"/generic-notebook-runner.ipynb\"]\n",
    "    \"\"\"\n",
    "    with open(\"Dockerfile\", \"w\") as text_file:\n",
    "        text_file.write(docker_file)\n",
    "\n",
    "    !docker build -t generic-notebook-runner .\n",
    "    !docker tag generic-notebook-runner romeokienzler/generic-notebook-runner\n",
    "    !docker push romeokienzler/generic-notebook-runner\n",
    "    exit(0)\n",
    "else:\n",
    "    None"
   ]
  },
  {
   "cell_type": "code",
   "execution_count": null,
   "id": "60436d8a-f461-4723-abeb-cc22b555c782",
   "metadata": {},
   "outputs": [],
   "source": [
    "%%bash\n",
    "curl -o /tmp/notebook.ipynb $NOTEBOOK_URL\n",
    "ipython /tmp/notebook.ipynb"
   ]
  }
 ],
 "metadata": {
  "kernelspec": {
   "display_name": "Python 3 (ipykernel)",
   "language": "python",
   "name": "python3"
  },
  "language_info": {
   "codemirror_mode": {
    "name": "ipython",
    "version": 3
   },
   "file_extension": ".py",
   "mimetype": "text/x-python",
   "name": "python",
   "nbconvert_exporter": "python",
   "pygments_lexer": "ipython3",
   "version": "3.9.6"
  }
 },
 "nbformat": 4,
 "nbformat_minor": 5
}
